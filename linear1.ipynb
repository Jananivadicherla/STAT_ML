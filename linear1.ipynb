





<!DOCTYPE html>
<html lang="en"  class="portal-z-index-isolation"data-color-mode="auto" data-light-theme="light" data-dark-theme="dark"  data-a11y-animated-images="system" data-a11y-link-underlines="false">
  <head>
    <meta charset="utf-8">
  <link rel="dns-prefetch" href="https://github.githubassets.com">
  <link rel="dns-prefetch" href="https://avatars.githubusercontent.com">
  <link rel="dns-prefetch" href="https://github-cloud.s3.amazonaws.com">
  <link rel="dns-prefetch" href="https://user-images.githubusercontent.com/">
  <link rel="preconnect" href="https://github.githubassets.com" crossorigin>
  <link rel="preconnect" href="https://avatars.githubusercontent.com">

  


  <link crossorigin="anonymous" media="all" rel="stylesheet" href="https://github.githubassets.com/assets/light-8cafbcbd78f4.css" /><link crossorigin="anonymous" media="all" rel="stylesheet" href="https://github.githubassets.com/assets/dark-31dc14e38457.css" /><link data-color-theme="dark_dimmed" crossorigin="anonymous" media="all" rel="stylesheet" data-href="https://github.githubassets.com/assets/dark_dimmed-71414d661fe2.css" /><link data-color-theme="dark_high_contrast" crossorigin="anonymous" media="all" rel="stylesheet" data-href="https://github.githubassets.com/assets/dark_high_contrast-ba96c7f1d660.css" /><link data-color-theme="dark_colorblind" crossorigin="anonymous" media="all" rel="stylesheet" data-href="https://github.githubassets.com/assets/dark_colorblind-7471c22cdb6a.css" /><link data-color-theme="light_colorblind" crossorigin="anonymous" media="all" rel="stylesheet" data-href="https://github.githubassets.com/assets/light_colorblind-80180bed15ed.css" /><link data-color-theme="light_high_contrast" crossorigin="anonymous" media="all" rel="stylesheet" data-href="https://github.githubassets.com/assets/light_high_contrast-e89b9cdecb75.css" /><link data-color-theme="light_tritanopia" crossorigin="anonymous" media="all" rel="stylesheet" data-href="https://github.githubassets.com/assets/light_tritanopia-77f15e9154df.css" /><link data-color-theme="dark_tritanopia" crossorigin="anonymous" media="all" rel="stylesheet" data-href="https://github.githubassets.com/assets/dark_tritanopia-f598f8dd18ae.css" />
  
    <link crossorigin="anonymous" media="all" rel="stylesheet" href="https://github.githubassets.com/assets/primer-primitives-fb1d51d1ef66.css" />
    <link crossorigin="anonymous" media="all" rel="stylesheet" href="https://github.githubassets.com/assets/primer-8f43f7721dc7.css" />
    <link crossorigin="anonymous" media="all" rel="stylesheet" href="https://github.githubassets.com/assets/global-e006907085a9.css" />
    <link crossorigin="anonymous" media="all" rel="stylesheet" href="https://github.githubassets.com/assets/github-422d7f955a64.css" />
  <link crossorigin="anonymous" media="all" rel="stylesheet" href="https://github.githubassets.com/assets/code-0e1734335a48.css" />

  

  <script type="application/json" id="client-env">{"locale":"en","featureFlags":["failbot_handle_non_errors","fix_react_title","geojson_azure_maps","image_metric_tracking","remove_react_base_styles","z_index_isolation","turbo_experiment_risky","use_scroll_restoration","sample_network_conn_type"]}</script>
<script crossorigin="anonymous" defer="defer" type="application/javascript" src="https://github.githubassets.com/assets/wp-runtime-5a265cf8e16b.js"></script>
<script crossorigin="anonymous" defer="defer" type="application/javascript" src="https://github.githubassets.com/assets/vendors-node_modules_dompurify_dist_purify_js-64d590970fa6.js"></script>
<script crossorigin="anonymous" defer="defer" type="application/javascript" src="https://github.githubassets.com/assets/vendors-node_modules_stacktrace-parser_dist_stack-trace-parser_esm_js-node_modules_github_bro-a4c183-18bf85b8e9f4.js"></script>
<script crossorigin="anonymous" defer="defer" type="application/javascript" src="https://github.githubassets.com/assets/ui_packages_soft-nav_soft-nav_ts-df17d5597d8f.js"></script>
<script crossorigin="anonymous" defer="defer" type="application/javascript" src="https://github.githubassets.com/assets/environment-509b58e05b9f.js"></script>
<script crossorigin="anonymous" defer="defer" type="application/javascript" src="https://github.githubassets.com/assets/vendors-node_modules_github_selector-observer_dist_index_esm_js-2646a2c533e3.js"></script>
<script crossorigin="anonymous" defer="defer" type="application/javascript" src="https://github.githubassets.com/assets/vendors-node_modules_primer_behaviors_dist_esm_focus-zone_js-d55308df5023.js"></script>
<script crossorigin="anonymous" defer="defer" type="application/javascript" src="https://github.githubassets.com/assets/vendors-node_modules_github_relative-time-element_dist_index_js-99e288659d4f.js"></script>
<script crossorigin="anonymous" defer="defer" type="application/javascript" src="https://github.githubassets.com/assets/vendors-node_modules_fzy_js_index_js-node_modules_github_markdown-toolbar-element_dist_index_js-d2119e75298d.js"></script>
<script crossorigin="anonymous" defer="defer" type="application/javascript" src="https://github.githubassets.com/assets/vendors-node_modules_delegated-events_dist_index_js-node_modules_github_auto-complete-element-5b3870-9b38c0812424.js"></script>
<script crossorigin="anonymous" defer="defer" type="application/javascript" src="https://github.githubassets.com/assets/vendors-node_modules_github_filter-input-element_dist_index_js-node_modules_github_remote-inp-8873b7-5771678648e0.js"></script>
<script crossorigin="anonymous" defer="defer" type="application/javascript" src="https://github.githubassets.com/assets/vendors-node_modules_github_file-attachment-element_dist_index_js-node_modules_primer_view-co-bdc901-b176cf1841aa.js"></script>
<script crossorigin="anonymous" defer="defer" type="application/javascript" src="https://github.githubassets.com/assets/github-elements-1ff8b48eef26.js"></script>
<script crossorigin="anonymous" defer="defer" type="application/javascript" src="https://github.githubassets.com/assets/element-registry-c83040bbd24c.js"></script>
<script crossorigin="anonymous" defer="defer" type="application/javascript" src="https://github.githubassets.com/assets/vendors-node_modules_lit-html_lit-html_js-9d9fe1859ce5.js"></script>
<script crossorigin="anonymous" defer="defer" type="application/javascript" src="https://github.githubassets.com/assets/vendors-node_modules_github_hydro-analytics-client_dist_analytics-client_js-node_modules_gith-f3aee1-fd3c22610e40.js"></script>
<script crossorigin="anonymous" defer="defer" type="application/javascript" src="https://github.githubassets.com/assets/vendors-node_modules_morphdom_dist_morphdom-esm_js-b1fdd7158cf0.js"></script>
<script crossorigin="anonymous" defer="defer" type="application/javascript" src="https://github.githubassets.com/assets/vendors-node_modules_github_mini-throttle_dist_index_js-node_modules_github_alive-client_dist-bf5aa2-4aefce0fc3c8.js"></script>
<script crossorigin="anonymous" defer="defer" type="application/javascript" src="https://github.githubassets.com/assets/vendors-node_modules_github_turbo_dist_turbo_es2017-esm_js-1f4793023fcd.js"></script>
<script crossorigin="anonymous" defer="defer" type="application/javascript" src="https://github.githubassets.com/assets/vendors-node_modules_github_remote-form_dist_index_js-node_modules_scroll-anchoring_dist_scro-52dc4b-e1e33bfc0b7e.js"></script>
<script crossorigin="anonymous" defer="defer" type="application/javascript" src="https://github.githubassets.com/assets/vendors-node_modules_color-convert_index_js-35b3ae68c408.js"></script>
<script crossorigin="anonymous" defer="defer" type="application/javascript" src="https://github.githubassets.com/assets/vendors-node_modules_github_paste-markdown_dist_index_esm_js-node_modules_github_quote-select-7a8e2b-f036384374ea.js"></script>
<script crossorigin="anonymous" defer="defer" type="application/javascript" src="https://github.githubassets.com/assets/app_assets_modules_github_details-dialog_ts-app_assets_modules_github_fetch_ts-9ca164041015.js"></script>
<script crossorigin="anonymous" defer="defer" type="application/javascript" src="https://github.githubassets.com/assets/app_assets_modules_github_updatable-content_ts-ui_packages_hydro-analytics_hydro-analytics_ts-e4da304b75e7.js"></script>
<script crossorigin="anonymous" defer="defer" type="application/javascript" src="https://github.githubassets.com/assets/app_assets_modules_github_onfocus_ts-app_assets_modules_github_sticky-scroll-into-view_ts-7ce0c9d975f3.js"></script>
<script crossorigin="anonymous" defer="defer" type="application/javascript" src="https://github.githubassets.com/assets/app_assets_modules_github_behaviors_task-list_ts-app_assets_modules_github_sso_ts-ui_packages-7d50ad-9491f2be61ee.js"></script>
<script crossorigin="anonymous" defer="defer" type="application/javascript" src="https://github.githubassets.com/assets/app_assets_modules_github_behaviors_ajax-error_ts-app_assets_modules_github_behaviors_include-2e2258-f67f752a4d27.js"></script>
<script crossorigin="anonymous" defer="defer" type="application/javascript" src="https://github.githubassets.com/assets/app_assets_modules_github_behaviors_commenting_edit_ts-app_assets_modules_github_behaviors_ht-83c235-f22ac6b94445.js"></script>
<script crossorigin="anonymous" defer="defer" type="application/javascript" src="https://github.githubassets.com/assets/app_assets_modules_github_blob-anchor_ts-app_assets_modules_github_filter-sort_ts-app_assets_-c96432-b9f980134541.js"></script>
<script crossorigin="anonymous" defer="defer" type="application/javascript" src="https://github.githubassets.com/assets/behaviors-6f486832019f.js"></script>
<script crossorigin="anonymous" defer="defer" type="application/javascript" src="https://github.githubassets.com/assets/vendors-node_modules_delegated-events_dist_index_js-node_modules_github_catalyst_lib_index_js-06ff531-fe0b8ccc90a5.js"></script>
<script crossorigin="anonymous" defer="defer" type="application/javascript" src="https://github.githubassets.com/assets/notifications-global-f57687007bfc.js"></script>
<script crossorigin="anonymous" defer="defer" type="application/javascript" src="https://github.githubassets.com/assets/code-menu-28ae5fcc9cf6.js"></script>
  
  <script crossorigin="anonymous" defer="defer" type="application/javascript" src="https://github.githubassets.com/assets/react-lib-210c4b5934c3.js"></script>
<script crossorigin="anonymous" defer="defer" type="application/javascript" src="https://github.githubassets.com/assets/vendors-node_modules_primer_octicons-react_dist_index_esm_js-node_modules_primer_react_lib-es-4edbf7-0daf4942b175.js"></script>
<script crossorigin="anonymous" defer="defer" type="application/javascript" src="https://github.githubassets.com/assets/vendors-node_modules_primer_react_lib-esm_Button_Button_js-node_modules_primer_react_lib-esm_-c2022e-9a171bf9e20a.js"></script>
<script crossorigin="anonymous" defer="defer" type="application/javascript" src="https://github.githubassets.com/assets/vendors-node_modules_primer_react_lib-esm_Truncate_Truncate_js-node_modules_primer_react_lib--96c916-9ec75bb7c8ee.js"></script>
<script crossorigin="anonymous" defer="defer" type="application/javascript" src="https://github.githubassets.com/assets/vendors-node_modules_primer_react_lib-esm_ActionList_index_js-5e300764bf10.js"></script>
<script crossorigin="anonymous" defer="defer" type="application/javascript" src="https://github.githubassets.com/assets/vendors-node_modules_primer_react_lib-esm_Button_index_js-node_modules_primer_react_lib-esm_O-133b0c-6f42d36f1de7.js"></script>
<script crossorigin="anonymous" defer="defer" type="application/javascript" src="https://github.githubassets.com/assets/vendors-node_modules_primer_react_lib-esm_TextInput_TextInput_js-47fe5c8a888d.js"></script>
<script crossorigin="anonymous" defer="defer" type="application/javascript" src="https://github.githubassets.com/assets/vendors-node_modules_primer_react_lib-esm_ActionMenu_js-f0cd24c33676.js"></script>
<script crossorigin="anonymous" defer="defer" type="application/javascript" src="https://github.githubassets.com/assets/vendors-node_modules_primer_behaviors_dist_esm_scroll-into-view_js-node_modules_primer_react_-04bb1b-f1945840d2c2.js"></script>
<script crossorigin="anonymous" defer="defer" type="application/javascript" src="https://github.githubassets.com/assets/vendors-node_modules_primer_react_lib-esm_Textarea_Textarea_js-node_modules_primer_react_lib--51eb8f-22154b894ca3.js"></script>
<script crossorigin="anonymous" defer="defer" type="application/javascript" src="https://github.githubassets.com/assets/vendors-node_modules_primer_react_lib-esm_FormControl_FormControl_js-35072f4aa69b.js"></script>
<script crossorigin="anonymous" defer="defer" type="application/javascript" src="https://github.githubassets.com/assets/vendors-node_modules_react-router-dom_dist_index_js-4a785319b497.js"></script>
<script crossorigin="anonymous" defer="defer" type="application/javascript" src="https://github.githubassets.com/assets/vendors-node_modules_primer_react_lib-esm_Heading_Heading_js-node_modules_primer_react_lib-es-20c766-1215399a4f86.js"></script>
<script crossorigin="anonymous" defer="defer" type="application/javascript" src="https://github.githubassets.com/assets/vendors-node_modules_primer_react_lib-esm_Dialog_js-node_modules_primer_react_lib-esm_TabNav_-8321f5-b06d451b5aac.js"></script>
<script crossorigin="anonymous" defer="defer" type="application/javascript" src="https://github.githubassets.com/assets/vendors-node_modules_primer_react_lib-esm_TreeView_TreeView_js-d86950fa1004.js"></script>
<script crossorigin="anonymous" defer="defer" type="application/javascript" src="https://github.githubassets.com/assets/vendors-node_modules_primer_react_lib-esm_Octicon_Octicon_js-node_modules_primer_react_lib-es-8cd5d6-087098a7de62.js"></script>
<script crossorigin="anonymous" defer="defer" type="application/javascript" src="https://github.githubassets.com/assets/vendors-node_modules_primer_react_lib-esm_BranchName_BranchName_js-node_modules_primer_react_-10625c-e60b22f8ae8f.js"></script>
<script crossorigin="anonymous" defer="defer" type="application/javascript" src="https://github.githubassets.com/assets/vendors-node_modules_primer_react_lib-esm_AvatarStack_AvatarStack_js-node_modules_primer_reac-0a8ead-dbafed2c10bb.js"></script>
<script crossorigin="anonymous" defer="defer" type="application/javascript" src="https://github.githubassets.com/assets/vendors-node_modules_primer_react_lib-esm_Avatar_Avatar_js-node_modules_primer_react_lib-esm_-699687-3f152076dccd.js"></script>
<script crossorigin="anonymous" defer="defer" type="application/javascript" src="https://github.githubassets.com/assets/ui_packages_react-core_create-browser-history_ts-ui_packages_react-core_deferred-registry_ts--ebbb92-a99988e92df8.js"></script>
<script crossorigin="anonymous" defer="defer" type="application/javascript" src="https://github.githubassets.com/assets/ui_packages_react-core_register-app_ts-c9d112423e9d.js"></script>
<script crossorigin="anonymous" defer="defer" type="application/javascript" src="https://github.githubassets.com/assets/ui_packages_paths_index_ts-aaccd30278f3.js"></script>
<script crossorigin="anonymous" defer="defer" type="application/javascript" src="https://github.githubassets.com/assets/ui_packages_ref-selector_RefSelector_tsx-ui_packages_safe-html_SafeHTML_tsx-d0da564c35e7.js"></script>
<script crossorigin="anonymous" defer="defer" type="application/javascript" src="https://github.githubassets.com/assets/app_assets_modules_github_command-palette_copy_ts-app_assets_modules_react-shared_hooks_use-v-4beba7-901e2e05d95b.js"></script>
<script crossorigin="anonymous" defer="defer" type="application/javascript" src="https://github.githubassets.com/assets/ui_packages_alive_alive_ts-ui_packages_alive_connect-alive-subscription_ts-app_assets_modules-face4e-cea2efb05291.js"></script>
<script crossorigin="anonymous" defer="defer" type="application/javascript" src="https://github.githubassets.com/assets/react-code-view-b370367dc0fe.js"></script>


  <title>STAT_ML/linear_regression.ipynb at main · Devarakondadurgaprasad/STAT_ML</title>



  <meta name="route-pattern" content="/:user_id/:repository/blob/*name(/*path)">

    
  <meta name="current-catalog-service-hash" content="82c569b93da5c18ed649ebd4c2c79437db4611a6a1373e805a3cb001c64130b7">


  <meta name="request-id" content="DBF8:3BE0D7:13587C4:16027A9:64DDAD4C" data-turbo-transient="true" /><meta name="html-safe-nonce" content="27004a67f392aa9ee850003d9e366ecfda0dd411a9f840f289702dffc3bc5de1" data-turbo-transient="true" /><meta name="visitor-payload" content="eyJyZWZlcnJlciI6Imh0dHBzOi8vZ2l0aHViLmNvbS9EZXZhcmFrb25kYWR1cmdhcHJhc2FkL1NUQVRfTUwiLCJyZXF1ZXN0X2lkIjoiREJGODozQkUwRDc6MTM1ODdDNDoxNjAyN0E5OjY0RERBRDRDIiwidmlzaXRvcl9pZCI6IjI0MzY4Nzc3MDg1NzgxMDM5MDkiLCJyZWdpb25fZWRnZSI6ImNlbnRyYWxpbmRpYSIsInJlZ2lvbl9yZW5kZXIiOiJpYWQifQ==" data-turbo-transient="true" /><meta name="visitor-hmac" content="a95cb2f00a69d3276c4f8f679047489196dbab1990ebcec345d17a76cf3b00bc" data-turbo-transient="true" />


    <meta name="hovercard-subject-tag" content="repository:677791832" data-turbo-transient>


  <meta name="github-keyboard-shortcuts" content="repository,source-code,file-tree" data-turbo-transient="true" />
  

  <meta name="selected-link" value="repo_source" data-turbo-transient>
  <link rel="assets" href="https://github.githubassets.com/">

    <meta name="google-site-verification" content="c1kuD-K2HIVF635lypcsWPoD4kilo5-jA_wBFyT4uMY">
  <meta name="google-site-verification" content="KT5gs8h0wvaagLKAVWq8bbeNwnZZK1r1XQysX3xurLU">
  <meta name="google-site-verification" content="ZzhVyEFwb7w3e0-uOTltm8Jsck2F5StVihD0exw2fsA">
  <meta name="google-site-verification" content="GXs5KoUUkNCoaAZn7wPN-t01Pywp9M3sEjnt_3_ZWPc">
  <meta name="google-site-verification" content="Apib7-x98H0j5cPqHWwSMm6dNU4GmODRoqxLiDzdx9I">

<meta name="octolytics-url" content="https://collector.github.com/github/collect" /><meta name="octolytics-actor-id" content="131774616" /><meta name="octolytics-actor-login" content="Devarakondadurgaprasad" /><meta name="octolytics-actor-hash" content="001937f58156a711870715bbaeb04196348743060ed45624ca83258b8b00ffd8" />

  <meta name="analytics-location" content="/&lt;user-name&gt;/&lt;repo-name&gt;/blob/show" data-turbo-transient="true" />

  




  

    <meta name="user-login" content="Devarakondadurgaprasad">

  <link rel="sudo-modal" href="/sessions/sudo_modal">

    <meta name="viewport" content="width=device-width">
    
      <meta name="description" content="Contribute to Devarakondadurgaprasad/STAT_ML development by creating an account on GitHub.">
      <link rel="search" type="application/opensearchdescription+xml" href="/opensearch.xml" title="GitHub">
    <link rel="fluid-icon" href="https://github.com/fluidicon.png" title="GitHub">
    <meta property="fb:app_id" content="1401488693436528">
    <meta name="apple-itunes-app" content="app-id=1477376905, app-argument=https://github.com/Devarakondadurgaprasad/STAT_ML/blob/main/linear_regression.ipynb" />
      <meta name="twitter:image:src" content="https://opengraph.githubassets.com/f1e683f2b0a439dc37778b0ba2386ecbdfd6d0633835ebeb4e1c5bf71b6eee83/Devarakondadurgaprasad/STAT_ML" /><meta name="twitter:site" content="@github" /><meta name="twitter:card" content="summary_large_image" /><meta name="twitter:title" content="STAT_ML/linear_regression.ipynb at main · Devarakondadurgaprasad/STAT_ML" /><meta name="twitter:description" content="Contribute to Devarakondadurgaprasad/STAT_ML development by creating an account on GitHub." />
      <meta property="og:image" content="https://opengraph.githubassets.com/f1e683f2b0a439dc37778b0ba2386ecbdfd6d0633835ebeb4e1c5bf71b6eee83/Devarakondadurgaprasad/STAT_ML" /><meta property="og:image:alt" content="Contribute to Devarakondadurgaprasad/STAT_ML development by creating an account on GitHub." /><meta property="og:image:width" content="1200" /><meta property="og:image:height" content="600" /><meta property="og:site_name" content="GitHub" /><meta property="og:type" content="object" /><meta property="og:title" content="STAT_ML/linear_regression.ipynb at main · Devarakondadurgaprasad/STAT_ML" /><meta property="og:url" content="https://github.com/Devarakondadurgaprasad/STAT_ML/blob/main/linear_regression.ipynb" /><meta property="og:description" content="Contribute to Devarakondadurgaprasad/STAT_ML development by creating an account on GitHub." />
      

      <link rel="shared-web-socket" href="wss://alive.github.com/_sockets/u/131774616/ws?session=eyJ2IjoiVjMiLCJ1IjoxMzE3NzQ2MTYsInMiOjExODExMjgxNDMsImMiOjIxMTc5ODgzMTMsInQiOjE2OTIyNDk0Mjh9--d52bfeeaf0ff35c4535fc9a421472d3d62b8cb06e6ecde66c110cb260ae7ee9f" data-refresh-url="/_alive" data-session-id="b831699388a87ca655cc2541a7192b24ae16d390ece51e970370cdfde0e81f38">
      <link rel="shared-web-socket-src" href="/assets-cdn/worker/socket-worker-71e98f781d79.js">


        <meta name="hostname" content="github.com">


      <meta name="keyboard-shortcuts-preference" content="all">

        <meta name="expected-hostname" content="github.com">


  <meta http-equiv="x-pjax-version" content="5a5cc113bdfeb03f6400dd12cc8ef3eca5e5e39ea5e44ab48733712a48330779" data-turbo-track="reload">
  <meta http-equiv="x-pjax-csp-version" content="d713d2ca11d75b8c93dacfdec00b69719c558829d34d429464b90aa8734a0ef5" data-turbo-track="reload">
  <meta http-equiv="x-pjax-css-version" content="c7488ec55db9896758bbfdcdf1c6ce27c7ec3d999c9e4325b5dd3e02a69d093c" data-turbo-track="reload">
  <meta http-equiv="x-pjax-js-version" content="d2a705eaa18a9ae474397a018ff2af8ea5f6ab5f2c85a9686d5b1dfd625479fa" data-turbo-track="reload">

  <meta name="turbo-cache-control" content="no-preview" data-turbo-transient="">

      <meta name="turbo-cache-control" content="no-cache" data-turbo-transient>
    <meta data-hydrostats="publish">

  <meta name="go-import" content="github.com/Devarakondadurgaprasad/STAT_ML git https://github.com/Devarakondadurgaprasad/STAT_ML.git">

  <meta name="octolytics-dimension-user_id" content="131774616" /><meta name="octolytics-dimension-user_login" content="Devarakondadurgaprasad" /><meta name="octolytics-dimension-repository_id" content="677791832" /><meta name="octolytics-dimension-repository_nwo" content="Devarakondadurgaprasad/STAT_ML" /><meta name="octolytics-dimension-repository_public" content="true" /><meta name="octolytics-dimension-repository_is_fork" content="false" /><meta name="octolytics-dimension-repository_network_root_id" content="677791832" /><meta name="octolytics-dimension-repository_network_root_nwo" content="Devarakondadurgaprasad/STAT_ML" />



  <meta name="turbo-body-classes" content="logged-in env-production page-responsive">


  <meta name="browser-stats-url" content="https://api.github.com/_private/browser/stats">

  <meta name="browser-errors-url" content="https://api.github.com/_private/browser/errors">

  <meta name="browser-optimizely-client-errors-url" content="https://api.github.com/_private/browser/optimizely_client/errors">

  <link rel="mask-icon" href="https://github.githubassets.com/pinned-octocat.svg" color="#000000">
  <link rel="alternate icon" class="js-site-favicon" type="image/png" href="https://github.githubassets.com/favicons/favicon.png">
  <link rel="icon" class="js-site-favicon" type="image/svg+xml" href="https://github.githubassets.com/favicons/favicon.svg">

<meta name="theme-color" content="#1e2327">
<meta name="color-scheme" content="light dark" />


  <link rel="manifest" href="/manifest.json" crossOrigin="use-credentials">

  </head>

  <body class="logged-in env-production page-responsive" style="word-wrap: break-word;">
    <div data-turbo-body class="logged-in env-production page-responsive" style="word-wrap: break-word;">
      


    <div class="position-relative js-header-wrapper ">
      <a href="#start-of-content" class="p-3 color-bg-accent-emphasis color-fg-on-emphasis show-on-focus js-skip-to-content">Skip to content</a>
      <span data-view-component="true" class="progress-pjax-loader Progress position-fixed width-full">
    <span style="width: 0%;" data-view-component="true" class="Progress-item progress-pjax-loader-bar left-0 top-0 color-bg-accent-emphasis"></span>
</span>      
      


      

        <script crossorigin="anonymous" defer="defer" type="application/javascript" src="https://github.githubassets.com/assets/vendors-node_modules_allex_crc32_lib_crc32_esm_js-node_modules_github_clipboard-copy-element_-2da1d5-ca2e742c29fb.js"></script>
<script crossorigin="anonymous" defer="defer" type="application/javascript" src="https://github.githubassets.com/assets/app_assets_modules_github_command-palette_items_help-item_ts-app_assets_modules_github_comman-48ad9d-b83fa12e3a83.js"></script>
<script crossorigin="anonymous" defer="defer" type="application/javascript" src="https://github.githubassets.com/assets/command-palette-afa8aec97e66.js"></script>

            <header class="AppHeader">
    <div class="AppHeader-globalBar pb-2 js-global-bar">
      <div class="AppHeader-globalBar-start">
          <deferred-side-panel data-url="/_side-panels/global">
  <include-fragment data-target="deferred-side-panel.fragment">
      
  <button aria-label="Open global navigation menu" data-action="click:deferred-side-panel#loadPanel click:deferred-side-panel#panelOpened" data-show-dialog-id="dialog-1a5f46fd-18cf-4783-890d-ff10a5a33a87" id="dialog-show-dialog-1a5f46fd-18cf-4783-890d-ff10a5a33a87" type="button" data-view-component="true" class="Button Button--iconOnly Button--secondary Button--medium AppHeader-button color-bg-transparent p-0 color-fg-muted">    <svg aria-hidden="true" height="16" viewBox="0 0 16 16" version="1.1" width="16" data-view-component="true" class="octicon octicon-three-bars Button-visual">
    <path d="M1 2.75A.75.75 0 0 1 1.75 2h12.5a.75.75 0 0 1 0 1.5H1.75A.75.75 0 0 1 1 2.75Zm0 5A.75.75 0 0 1 1.75 7h12.5a.75.75 0 0 1 0 1.5H1.75A.75.75 0 0 1 1 7.75ZM1.75 12h12.5a.75.75 0 0 1 0 1.5H1.75a.75.75 0 0 1 0-1.5Z"></path>
</svg>
</button>  

<div class="Overlay--hidden Overlay-backdrop--side Overlay-backdrop--placement-left" data-modal-dialog-overlay>
  <modal-dialog data-target="deferred-side-panel.panel" role="dialog" id="dialog-1a5f46fd-18cf-4783-890d-ff10a5a33a87" aria-modal="true" aria-disabled="true" aria-describedby="dialog-1a5f46fd-18cf-4783-890d-ff10a5a33a87-title dialog-1a5f46fd-18cf-4783-890d-ff10a5a33a87-description" data-view-component="true" class="Overlay Overlay-whenNarrow Overlay--size-small-portrait Overlay--motion-scaleFade SidePanel">
    <div styles="flex-direction: row;" data-view-component="true" class="Overlay-header">
  <div class="Overlay-headerContentWrap">
    <div class="Overlay-titleWrap">
      <h1 class="Overlay-title sr-only" id="dialog-1a5f46fd-18cf-4783-890d-ff10a5a33a87-title">
        Global navigation
      </h1>
            <div data-view-component="true" class="d-flex">
      <div data-view-component="true" class="AppHeader-logo position-relative">
        <svg aria-hidden="true" height="24" viewBox="0 0 16 16" version="1.1" width="24" data-view-component="true" class="octicon octicon-mark-github">
    <path d="M8 0c4.42 0 8 3.58 8 8a8.013 8.013 0 0 1-5.45 7.59c-.4.08-.55-.17-.55-.38 0-.27.01-1.13.01-2.2 0-.75-.25-1.23-.54-1.48 1.78-.2 3.65-.88 3.65-3.95 0-.88-.31-1.59-.82-2.15.08-.2.36-1.02-.08-2.12 0 0-.67-.22-2.2.82-.64-.18-1.32-.27-2-.27-.68 0-1.36.09-2 .27-1.53-1.03-2.2-.82-2.2-.82-.44 1.1-.16 1.92-.08 2.12-.51.56-.82 1.28-.82 2.15 0 3.06 1.86 3.75 3.64 3.95-.23.2-.44.55-.51 1.07-.46.21-1.61.55-2.33-.66-.15-.24-.6-.83-1.23-.82-.67.01-.27.38.01.53.34.19.73.9.82 1.13.16.45.68 1.31 2.69.94 0 .67.01 1.3.01 1.49 0 .21-.15.45-.55.38A7.995 7.995 0 0 1 0 8c0-4.42 3.58-8 8-8Z"></path>
</svg>
</div></div>
    </div>
    <div class="Overlay-actionWrap">
      <button data-close-dialog-id="dialog-1a5f46fd-18cf-4783-890d-ff10a5a33a87" aria-label="Close" type="button" data-view-component="true" class="close-button Overlay-closeButton"><svg aria-hidden="true" height="16" viewBox="0 0 16 16" version="1.1" width="16" data-view-component="true" class="octicon octicon-x">
    <path d="M3.72 3.72a.75.75 0 0 1 1.06 0L8 6.94l3.22-3.22a.749.749 0 0 1 1.275.326.749.749 0 0 1-.215.734L9.06 8l3.22 3.22a.749.749 0 0 1-.326 1.275.749.749 0 0 1-.734-.215L8 9.06l-3.22 3.22a.751.751 0 0 1-1.042-.018.751.751 0 0 1-.018-1.042L6.94 8 3.72 4.78a.75.75 0 0 1 0-1.06Z"></path>
</svg></button>
    </div>
  </div>
</div>
      <div data-view-component="true" class="Overlay-body d-flex flex-column height-full px-2">      <nav aria-label="Site navigation" data-view-component="true" class="ActionList">
  
  <nav-list>
    <ul data-view-component="true" class="ActionListWrap">
        
          
<li item_id="general" data-item-id="" data-targets="nav-list.items" data-view-component="true" class="ActionListItem">
    
    <a data-hotkey="g d" hydro-click="{&quot;event_type&quot;:&quot;global_header.user_menu_dropdown.click&quot;,&quot;payload&quot;:{&quot;request_url&quot;:&quot;https://github.com/Devarakondadurgaprasad/STAT_ML/blob/main/linear_regression.ipynb&quot;,&quot;target&quot;:&quot;HOME&quot;,&quot;originating_url&quot;:&quot;https://github.com/Devarakondadurgaprasad/STAT_ML/blob/main/linear_regression.ipynb&quot;,&quot;user_id&quot;:131774616}}" hydro-click-hmac="8e3f1078df3defbce4556eb0a65b7617bcd2f6870f7d74264dd66158879923ed" id="item-19e537c3-9306-485e-b3ef-8b738f93d16f" href="/dashboard" data-view-component="true" class="ActionListContent ActionListContent--visual16">
        <span class="ActionListItem-visual ActionListItem-visual--leading">
          <svg aria-hidden="true" height="16" viewBox="0 0 16 16" version="1.1" width="16" data-view-component="true" class="octicon octicon-home">
    <path d="M6.906.664a1.749 1.749 0 0 1 2.187 0l5.25 4.2c.415.332.657.835.657 1.367v7.019A1.75 1.75 0 0 1 13.25 15h-3.5a.75.75 0 0 1-.75-.75V9H7v5.25a.75.75 0 0 1-.75.75h-3.5A1.75 1.75 0 0 1 1 13.25V6.23c0-.531.242-1.034.657-1.366l5.25-4.2Zm1.25 1.171a.25.25 0 0 0-.312 0l-5.25 4.2a.25.25 0 0 0-.094.196v7.019c0 .138.112.25.25.25H5.5V8.25a.75.75 0 0 1 .75-.75h3.5a.75.75 0 0 1 .75.75v5.25h2.75a.25.25 0 0 0 .25-.25V6.23a.25.25 0 0 0-.094-.195Z"></path>
</svg>
        </span>
      
        <span data-view-component="true" class="ActionListItem-label">
          Home
</span></a>
  
  
</li>

        
          
<li item_id="personal_info" data-item-id="" data-targets="nav-list.items" data-view-component="true" class="ActionListItem">
    
    <a data-hotkey="g i" hydro-click="{&quot;event_type&quot;:&quot;global_header.user_menu_dropdown.click&quot;,&quot;payload&quot;:{&quot;request_url&quot;:&quot;https://github.com/Devarakondadurgaprasad/STAT_ML/blob/main/linear_regression.ipynb&quot;,&quot;target&quot;:&quot;ISSUES&quot;,&quot;originating_url&quot;:&quot;https://github.com/Devarakondadurgaprasad/STAT_ML/blob/main/linear_regression.ipynb&quot;,&quot;user_id&quot;:131774616}}" hydro-click-hmac="d4463cb130837ed875fcb3051d06b6ac8e9929cb45c08b958093d8d0471771ec" id="item-83d00528-5135-4259-b012-f5abde28900b" href="/issues" data-view-component="true" class="ActionListContent ActionListContent--visual16">
        <span class="ActionListItem-visual ActionListItem-visual--leading">
          <svg aria-hidden="true" height="16" viewBox="0 0 16 16" version="1.1" width="16" data-view-component="true" class="octicon octicon-issue-opened">
    <path d="M8 9.5a1.5 1.5 0 1 0 0-3 1.5 1.5 0 0 0 0 3Z"></path><path d="M8 0a8 8 0 1 1 0 16A8 8 0 0 1 8 0ZM1.5 8a6.5 6.5 0 1 0 13 0 6.5 6.5 0 0 0-13 0Z"></path>
</svg>
        </span>
      
        <span data-view-component="true" class="ActionListItem-label">
          Issues
</span></a>
  
  
</li>

        
          
<li item_id="password" data-item-id="" data-targets="nav-list.items" data-view-component="true" class="ActionListItem">
    
    <a data-hotkey="g p" hydro-click="{&quot;event_type&quot;:&quot;global_header.user_menu_dropdown.click&quot;,&quot;payload&quot;:{&quot;request_url&quot;:&quot;https://github.com/Devarakondadurgaprasad/STAT_ML/blob/main/linear_regression.ipynb&quot;,&quot;target&quot;:&quot;PULL_REQUESTS&quot;,&quot;originating_url&quot;:&quot;https://github.com/Devarakondadurgaprasad/STAT_ML/blob/main/linear_regression.ipynb&quot;,&quot;user_id&quot;:131774616}}" hydro-click-hmac="2f726fcf57fad29bbfc9d453a62ef100fdfac8aa408a49971eff8d14dff579e2" id="item-9b6cd6d6-5e51-41a0-a49d-3d8fe3f7a9ca" href="/pulls" data-view-component="true" class="ActionListContent ActionListContent--visual16">
        <span class="ActionListItem-visual ActionListItem-visual--leading">
          <svg aria-hidden="true" height="16" viewBox="0 0 16 16" version="1.1" width="16" data-view-component="true" class="octicon octicon-git-pull-request">
    <path d="M1.5 3.25a2.25 2.25 0 1 1 3 2.122v5.256a2.251 2.251 0 1 1-1.5 0V5.372A2.25 2.25 0 0 1 1.5 3.25Zm5.677-.177L9.573.677A.25.25 0 0 1 10 .854V2.5h1A2.5 2.5 0 0 1 13.5 5v5.628a2.251 2.251 0 1 1-1.5 0V5a1 1 0 0 0-1-1h-1v1.646a.25.25 0 0 1-.427.177L7.177 3.427a.25.25 0 0 1 0-.354ZM3.75 2.5a.75.75 0 1 0 0 1.5.75.75 0 0 0 0-1.5Zm0 9.5a.75.75 0 1 0 0 1.5.75.75 0 0 0 0-1.5Zm8.25.75a.75.75 0 1 0 1.5 0 .75.75 0 0 0-1.5 0Z"></path>
</svg>
        </span>
      
        <span data-view-component="true" class="ActionListItem-label">
          Pull requests
</span></a>
  
  
</li>

        
          
<li item_id="billing" data-item-id="" data-targets="nav-list.items" data-view-component="true" class="ActionListItem">
    
    <a hydro-click="{&quot;event_type&quot;:&quot;global_header.user_menu_dropdown.click&quot;,&quot;payload&quot;:{&quot;request_url&quot;:&quot;https://github.com/Devarakondadurgaprasad/STAT_ML/blob/main/linear_regression.ipynb&quot;,&quot;target&quot;:&quot;DISCUSSIONS&quot;,&quot;originating_url&quot;:&quot;https://github.com/Devarakondadurgaprasad/STAT_ML/blob/main/linear_regression.ipynb&quot;,&quot;user_id&quot;:131774616}}" hydro-click-hmac="caa0188eb6bfdef0d43a78850ec3f3b19112a50fd838111b3b053a24bd828e03" id="item-d48bf81d-97fc-498a-856f-d892aa3349e6" href="/discussions" data-view-component="true" class="ActionListContent ActionListContent--visual16">
        <span class="ActionListItem-visual ActionListItem-visual--leading">
          <svg aria-hidden="true" height="16" viewBox="0 0 16 16" version="1.1" width="16" data-view-component="true" class="octicon octicon-comment-discussion">
    <path d="M1.75 1h8.5c.966 0 1.75.784 1.75 1.75v5.5A1.75 1.75 0 0 1 10.25 10H7.061l-2.574 2.573A1.458 1.458 0 0 1 2 11.543V10h-.25A1.75 1.75 0 0 1 0 8.25v-5.5C0 1.784.784 1 1.75 1ZM1.5 2.75v5.5c0 .138.112.25.25.25h1a.75.75 0 0 1 .75.75v2.19l2.72-2.72a.749.749 0 0 1 .53-.22h3.5a.25.25 0 0 0 .25-.25v-5.5a.25.25 0 0 0-.25-.25h-8.5a.25.25 0 0 0-.25.25Zm13 2a.25.25 0 0 0-.25-.25h-.5a.75.75 0 0 1 0-1.5h.5c.966 0 1.75.784 1.75 1.75v5.5A1.75 1.75 0 0 1 14.25 12H14v1.543a1.458 1.458 0 0 1-2.487 1.03L9.22 12.28a.749.749 0 0 1 .326-1.275.749.749 0 0 1 .734.215l2.22 2.22v-2.19a.75.75 0 0 1 .75-.75h1a.25.25 0 0 0 .25-.25Z"></path>
</svg>
        </span>
      
        <span data-view-component="true" class="ActionListItem-label">
          Discussions
</span></a>
  
  
</li>

</ul>  </nav-list>
</nav>

      <div data-view-component="true" class="my-3 d-flex flex-justify-center height-full">
        <svg style="box-sizing: content-box; color: var(--color-icon-primary);" width="16" height="16" viewBox="0 0 16 16" fill="none" data-view-component="true" class="anim-rotate">
  <circle cx="8" cy="8" r="7" stroke="currentColor" stroke-opacity="0.25" stroke-width="2" vector-effect="non-scaling-stroke" />
  <path d="M15 8a7.002 7.002 0 00-7-7" stroke="currentColor" stroke-width="2" stroke-linecap="round" vector-effect="non-scaling-stroke" />
</svg>
</div>
</div>
      <div data-view-component="true" class="Overlay-footer Overlay-footer--alignEnd d-block pt-0">      <li role="presentation" aria-hidden="true" data-view-component="true" class="ActionList-sectionDivider mt-0 mb-1"></li>

        <nav aria-label="Additional navigation" data-view-component="true" class="ActionList px-0 flex-1">
  
  <nav-list>
    <ul data-view-component="true" class="ActionListWrap">
        
          
<li item_id="general" data-item-id="" data-targets="nav-list.items" data-view-component="true" class="ActionListItem">
    
    <a hydro-click="{&quot;event_type&quot;:&quot;global_header.user_menu_dropdown.click&quot;,&quot;payload&quot;:{&quot;request_url&quot;:&quot;https://github.com/Devarakondadurgaprasad/STAT_ML/blob/main/linear_regression.ipynb&quot;,&quot;target&quot;:&quot;EXPLORE&quot;,&quot;originating_url&quot;:&quot;https://github.com/Devarakondadurgaprasad/STAT_ML/blob/main/linear_regression.ipynb&quot;,&quot;user_id&quot;:131774616}}" hydro-click-hmac="4ecfa53e418f515913314fb778122debf0320c57eac2b4b9f1e4e31c6f4a2965" id="item-d20717a0-218e-4948-a29d-c4e8f3ee6826" href="/explore" data-view-component="true" class="ActionListContent ActionListContent--visual16">
        <span class="ActionListItem-visual ActionListItem-visual--leading">
          <svg aria-hidden="true" height="16" viewBox="0 0 16 16" version="1.1" width="16" data-view-component="true" class="octicon octicon-telescope">
    <path d="M14.184 1.143v-.001l1.422 2.464a1.75 1.75 0 0 1-.757 2.451L3.104 11.713a1.75 1.75 0 0 1-2.275-.702l-.447-.775a1.75 1.75 0 0 1 .53-2.32L11.682.573a1.748 1.748 0 0 1 2.502.57Zm-4.709 9.32h-.001l2.644 3.863a.75.75 0 1 1-1.238.848l-1.881-2.75v2.826a.75.75 0 0 1-1.5 0v-2.826l-1.881 2.75a.75.75 0 1 1-1.238-.848l2.049-2.992a.746.746 0 0 1 .293-.253l1.809-.87a.749.749 0 0 1 .944.252ZM9.436 3.92h-.001l-4.97 3.39.942 1.63 5.42-2.61Zm3.091-2.108h.001l-1.85 1.26 1.505 2.605 2.016-.97a.247.247 0 0 0 .13-.151.247.247 0 0 0-.022-.199l-1.422-2.464a.253.253 0 0 0-.161-.119.254.254 0 0 0-.197.038ZM1.756 9.157a.25.25 0 0 0-.075.33l.447.775a.25.25 0 0 0 .325.1l1.598-.769-.83-1.436-1.465 1Z"></path>
</svg>
        </span>
      
        <span data-view-component="true" class="ActionListItem-label">
          Explore
</span></a>
  
  
</li>

        
          
<li item_id="general" data-item-id="" data-targets="nav-list.items" data-view-component="true" class="ActionListItem">
    
    <a hydro-click="{&quot;event_type&quot;:&quot;global_header.user_menu_dropdown.click&quot;,&quot;payload&quot;:{&quot;request_url&quot;:&quot;https://github.com/Devarakondadurgaprasad/STAT_ML/blob/main/linear_regression.ipynb&quot;,&quot;target&quot;:&quot;MARKETPLACE&quot;,&quot;originating_url&quot;:&quot;https://github.com/Devarakondadurgaprasad/STAT_ML/blob/main/linear_regression.ipynb&quot;,&quot;user_id&quot;:131774616}}" hydro-click-hmac="b7a2ef6a1c5d2c98e5f0416dbf9ca7762463e3d48cc44ffaa4bdd9279c4987c1" id="item-4b7343de-5b65-4146-aa20-629c8500ce75" href="/marketplace" data-view-component="true" class="ActionListContent ActionListContent--visual16">
        <span class="ActionListItem-visual ActionListItem-visual--leading">
          <svg aria-hidden="true" height="16" viewBox="0 0 16 16" version="1.1" width="16" data-view-component="true" class="octicon octicon-gift">
    <path d="M2 2.75A2.75 2.75 0 0 1 4.75 0c.983 0 1.873.42 2.57 1.232.268.318.497.668.68 1.042.183-.375.411-.725.68-1.044C9.376.42 10.266 0 11.25 0a2.75 2.75 0 0 1 2.45 4h.55c.966 0 1.75.784 1.75 1.75v2c0 .698-.409 1.301-1 1.582v4.918A1.75 1.75 0 0 1 13.25 16H2.75A1.75 1.75 0 0 1 1 14.25V9.332C.409 9.05 0 8.448 0 7.75v-2C0 4.784.784 4 1.75 4h.55c-.192-.375-.3-.8-.3-1.25ZM7.25 9.5H2.5v4.75c0 .138.112.25.25.25h4.5Zm1.5 0v5h4.5a.25.25 0 0 0 .25-.25V9.5Zm0-4V8h5.5a.25.25 0 0 0 .25-.25v-2a.25.25 0 0 0-.25-.25Zm-7 0a.25.25 0 0 0-.25.25v2c0 .138.112.25.25.25h5.5V5.5h-5.5Zm3-4a1.25 1.25 0 0 0 0 2.5h2.309c-.233-.818-.542-1.401-.878-1.793-.43-.502-.915-.707-1.431-.707ZM8.941 4h2.309a1.25 1.25 0 0 0 0-2.5c-.516 0-1 .205-1.43.707-.337.392-.646.975-.879 1.793Z"></path>
</svg>
        </span>
      
        <span data-view-component="true" class="ActionListItem-label">
          Marketplace
</span></a>
  
  
</li>

        
          
<li item_id="feedback" data-item-id="" data-targets="nav-list.items" data-view-component="true" class="ActionListItem">
    
    <a id="item-22b0b0ba-3e81-4e25-86ce-c259a7b7d620" href="https://gh.io/navigation-update" data-view-component="true" class="ActionListContent ActionListContent--visual16">
        <span class="ActionListItem-visual ActionListItem-visual--leading">
          <svg aria-hidden="true" height="16" viewBox="0 0 16 16" version="1.1" width="16" data-view-component="true" class="octicon octicon-comment-discussion">
    <path d="M1.75 1h8.5c.966 0 1.75.784 1.75 1.75v5.5A1.75 1.75 0 0 1 10.25 10H7.061l-2.574 2.573A1.458 1.458 0 0 1 2 11.543V10h-.25A1.75 1.75 0 0 1 0 8.25v-5.5C0 1.784.784 1 1.75 1ZM1.5 2.75v5.5c0 .138.112.25.25.25h1a.75.75 0 0 1 .75.75v2.19l2.72-2.72a.749.749 0 0 1 .53-.22h3.5a.25.25 0 0 0 .25-.25v-5.5a.25.25 0 0 0-.25-.25h-8.5a.25.25 0 0 0-.25.25Zm13 2a.25.25 0 0 0-.25-.25h-.5a.75.75 0 0 1 0-1.5h.5c.966 0 1.75.784 1.75 1.75v5.5A1.75 1.75 0 0 1 14.25 12H14v1.543a1.458 1.458 0 0 1-2.487 1.03L9.22 12.28a.749.749 0 0 1 .326-1.275.749.749 0 0 1 .734.215l2.22 2.22v-2.19a.75.75 0 0 1 .75-.75h1a.25.25 0 0 0 .25-.25Z"></path>
</svg>
        </span>
      
        <span data-view-component="true" class="ActionListItem-label">
          Give new navigation feedback
</span>        <span class="ActionListItem-visual ActionListItem-visual--trailing">
          <span title="Beta" data-view-component="true" class="Counter color-bg-default color-border-success-emphasis color-fg-success">Beta</span>
        </span>
</a>
  
  
</li>

</ul>  </nav-list>
</nav>

      <div data-view-component="true" class="px-2">      <p class="color-fg-subtle text-small text-light">&copy; 2023 GitHub, Inc.</p>

      <div data-view-component="true" class="d-flex text-small text-light">
          <a target="_blank" href="/about" data-view-component="true" class="Link no-underline mr-2">About</a>
          <a target="_blank" href="https://github.blog" data-view-component="true" class="Link no-underline mr-2">Blog</a>
          <a target="_blank" href="https://docs.github.com/site-policy/github-terms/github-terms-of-service" data-view-component="true" class="Link no-underline mr-2">Terms</a>
          <a target="_blank" href="https://docs.github.com/site-policy/privacy-policies/github-privacy-statement" data-view-component="true" class="Link no-underline mr-2">Privacy</a>
          <a target="_blank" href="/security" data-view-component="true" class="Link no-underline mr-2">Security</a>
        <a target="_blank" href="https://www.githubstatus.com/" data-view-component="true" class="Link no-underline mr-3">Status</a>
</div></div>
</div>
</modal-dialog></div>

  </include-fragment>
</deferred-side-panel>

        <a
          class="AppHeader-logo ml-2"
          href="https://github.com/"
          data-hotkey="g d"
          aria-label="Homepage "
          data-turbo="false"
          data-analytics-event="{&quot;category&quot;:&quot;Header&quot;,&quot;action&quot;:&quot;go to dashboard&quot;,&quot;label&quot;:&quot;icon:logo&quot;}"
        >
          <svg height="32" aria-hidden="true" viewBox="0 0 16 16" version="1.1" width="32" data-view-component="true" class="octicon octicon-mark-github v-align-middle color-fg-default">
    <path d="M8 0c4.42 0 8 3.58 8 8a8.013 8.013 0 0 1-5.45 7.59c-.4.08-.55-.17-.55-.38 0-.27.01-1.13.01-2.2 0-.75-.25-1.23-.54-1.48 1.78-.2 3.65-.88 3.65-3.95 0-.88-.31-1.59-.82-2.15.08-.2.36-1.02-.08-2.12 0 0-.67-.22-2.2.82-.64-.18-1.32-.27-2-.27-.68 0-1.36.09-2 .27-1.53-1.03-2.2-.82-2.2-.82-.44 1.1-.16 1.92-.08 2.12-.51.56-.82 1.28-.82 2.15 0 3.06 1.86 3.75 3.64 3.95-.23.2-.44.55-.51 1.07-.46.21-1.61.55-2.33-.66-.15-.24-.6-.83-1.23-.82-.67.01-.27.38.01.53.34.19.73.9.82 1.13.16.45.68 1.31 2.69.94 0 .67.01 1.3.01 1.49 0 .21-.15.45-.55.38A7.995 7.995 0 0 1 0 8c0-4.42 3.58-8 8-8Z"></path>
</svg>
        </a>

          <div class="AppHeader-context" >
  <div class="AppHeader-context-compact">
        <button aria-expanded="false" aria-haspopup="dialog" aria-label="Page context: Devarakondadurgaprasad / STAT_ML" id="dialog-show-context-region-dialog" data-show-dialog-id="context-region-dialog" type="button" data-view-component="true" class="AppHeader-context-compact-trigger Truncate Button--secondary Button--medium Button box-shadow-none">    <span class="Button-content">
      <span class="Button-label"><span class="AppHeader-context-compact-lead">
                <span class="AppHeader-context-compact-parentItem">Devarakondadurgaprasad</span>
                <span class="AppHeader-context-compact-separator">&nbsp;/</span>

            </span>

            <strong class="AppHeader-context-compact-mainItem d-flex flex-items-center Truncate" >
  <span class="Truncate-text ">STAT_ML</span>

</strong></span>
    </span>
</button>  

<div class="Overlay--hidden Overlay-backdrop--center" data-modal-dialog-overlay>
  <modal-dialog role="dialog" id="context-region-dialog" aria-modal="true" aria-disabled="true" aria-describedby="context-region-dialog-title context-region-dialog-description" data-view-component="true" class="Overlay Overlay-whenNarrow Overlay--size-medium Overlay--motion-scaleFade">
    <div data-view-component="true" class="Overlay-header">
  <div class="Overlay-headerContentWrap">
    <div class="Overlay-titleWrap">
      <h1 class="Overlay-title " id="context-region-dialog-title">
        Navigate back to
      </h1>
    </div>
    <div class="Overlay-actionWrap">
      <button data-close-dialog-id="context-region-dialog" aria-label="Close" type="button" data-view-component="true" class="close-button Overlay-closeButton"><svg aria-hidden="true" height="16" viewBox="0 0 16 16" version="1.1" width="16" data-view-component="true" class="octicon octicon-x">
    <path d="M3.72 3.72a.75.75 0 0 1 1.06 0L8 6.94l3.22-3.22a.749.749 0 0 1 1.275.326.749.749 0 0 1-.215.734L9.06 8l3.22 3.22a.749.749 0 0 1-.326 1.275.749.749 0 0 1-.734-.215L8 9.06l-3.22 3.22a.751.751 0 0 1-1.042-.018.751.751 0 0 1-.018-1.042L6.94 8 3.72 4.78a.75.75 0 0 1 0-1.06Z"></path>
</svg></button>
    </div>
  </div>
</div>
      <div data-view-component="true" class="Overlay-body">          <ul role="list" class="list-style-none" >
    <li>
      <a data-analytics-event="{&quot;category&quot;:&quot;SiteHeaderComponent&quot;,&quot;action&quot;:&quot;context_region_crumb&quot;,&quot;label&quot;:&quot;Devarakondadurgaprasad&quot;,&quot;screen_size&quot;:&quot;compact&quot;}" href="/Devarakondadurgaprasad" data-view-component="true" class="Link--primary Truncate d-flex flex-items-center py-1">
        <span class="AppHeader-context-item-label Truncate-text ">
          Devarakondadurgaprasad
        </span>

</a>
    </li>
    <li>
      <a data-analytics-event="{&quot;category&quot;:&quot;SiteHeaderComponent&quot;,&quot;action&quot;:&quot;context_region_crumb&quot;,&quot;label&quot;:&quot;STAT_ML&quot;,&quot;screen_size&quot;:&quot;compact&quot;}" href="/Devarakondadurgaprasad/STAT_ML" data-view-component="true" class="Link--primary Truncate d-flex flex-items-center py-1">
        <span class="AppHeader-context-item-label Truncate-text ">
          STAT_ML
        </span>

</a>
    </li>
</ul>

</div>
      
</modal-dialog></div>
  </div>

  <div class="AppHeader-context-full">
    <nav role="navigation" aria-label="Page context">
      <ul role="list" class="list-style-none" >
    <li>
      <a data-analytics-event="{&quot;category&quot;:&quot;SiteHeaderComponent&quot;,&quot;action&quot;:&quot;context_region_crumb&quot;,&quot;label&quot;:&quot;Devarakondadurgaprasad&quot;,&quot;screen_size&quot;:&quot;full&quot;}" data-hovercard-type="user" data-hovercard-url="/users/Devarakondadurgaprasad/hovercard" data-octo-click="hovercard-link-click" data-octo-dimensions="link_type:self" href="/Devarakondadurgaprasad" data-view-component="true" class="AppHeader-context-item">
        <span class="AppHeader-context-item-label  ">
          Devarakondadurgaprasad
        </span>

</a>
        <span class="AppHeader-context-item-separator">/</span>
    </li>
    <li>
      <a data-analytics-event="{&quot;category&quot;:&quot;SiteHeaderComponent&quot;,&quot;action&quot;:&quot;context_region_crumb&quot;,&quot;label&quot;:&quot;STAT_ML&quot;,&quot;screen_size&quot;:&quot;full&quot;}" href="/Devarakondadurgaprasad/STAT_ML" data-view-component="true" class="AppHeader-context-item">
        <span class="AppHeader-context-item-label  ">
          STAT_ML
        </span>

</a>
    </li>
</ul>

    </nav>
  </div>
</div>

      </div>
      <div class="AppHeader-globalBar-end">
          <div class="AppHeader-search" >
              


<qbsearch-input class="search-input" data-scope="repo:Devarakondadurgaprasad/STAT_ML" data-custom-scopes-path="/search/custom_scopes" data-delete-custom-scopes-csrf="lPPvxGnUJcjbLKxzcNl4O4pqAm0MXHf31LxE8FUF62qFR-CMsDmB_ciwrIfteIIrIGsLLMZw3gUpdX0L0h4jpA" data-max-custom-scopes="10" data-header-redesign-enabled="true" data-initial-value="" data-blackbird-suggestions-path="/search/suggestions" data-jump-to-suggestions-path="/_graphql/GetSuggestedNavigationDestinations" data-current-repository="Devarakondadurgaprasad/STAT_ML" data-current-org="" data-current-owner="Devarakondadurgaprasad" data-logged-in="true">
  <div
    class="search-input-container search-with-dialog position-relative d-flex flex-row flex-items-center height-auto color-bg-transparent border-0 color-fg-subtle mx-0"
    data-action="click:qbsearch-input#searchInputContainerClicked"
  >
      
            <button type="button" data-action="click:qbsearch-input#handleExpand" class="AppHeader-button AppHeader-search-whenNarrow" aria-label="Search or jump to…" aria-expanded="false" aria-haspopup="dialog">
            <svg aria-hidden="true" height="16" viewBox="0 0 16 16" version="1.1" width="16" data-view-component="true" class="octicon octicon-search">
    <path d="M10.68 11.74a6 6 0 0 1-7.922-8.982 6 6 0 0 1 8.982 7.922l3.04 3.04a.749.749 0 0 1-.326 1.275.749.749 0 0 1-.734-.215ZM11.5 7a4.499 4.499 0 1 0-8.997 0A4.499 4.499 0 0 0 11.5 7Z"></path>
</svg>
          </button>


<div class="AppHeader-search-whenRegular">
  <div class="AppHeader-search-wrap AppHeader-search-wrap--hasTrailing">
    <div class="AppHeader-search-control">
      <label
        for="AppHeader-searchInput"
        aria-label="Search or jump to…"
        class="AppHeader-search-visual--leading"
      >
        <svg aria-hidden="true" height="16" viewBox="0 0 16 16" version="1.1" width="16" data-view-component="true" class="octicon octicon-search">
    <path d="M10.68 11.74a6 6 0 0 1-7.922-8.982 6 6 0 0 1 8.982 7.922l3.04 3.04a.749.749 0 0 1-.326 1.275.749.749 0 0 1-.734-.215ZM11.5 7a4.499 4.499 0 1 0-8.997 0A4.499 4.499 0 0 0 11.5 7Z"></path>
</svg>
      </label>

                <button
            type="button"
            data-target="qbsearch-input.inputButton"
            data-action="click:qbsearch-input#handleExpand"
            class="AppHeader-searchButton form-control input-contrast text-left color-fg-subtle no-wrap"
            data-hotkey="s,/"
          >
            <div class="overflow-hidden">
              <span data-target="qbsearch-input.inputButtonText">
                  Type <kbd class="AppHeader-search-kbd">/</kbd> to search
              </span>
            </div>
          </button>

    </div>


      <button type="button" id="AppHeader-commandPalette-button" class="AppHeader-search-action--trailing js-activate-command-palette" data-analytics-event="{&quot;category&quot;:&quot;SiteHeaderComponent&quot;,&quot;action&quot;:&quot;command_palette&quot;,&quot;label&quot;:&quot;open command palette&quot;}">
        <svg aria-hidden="true" height="16" viewBox="0 0 16 16" version="1.1" width="16" data-view-component="true" class="octicon octicon-command-palette">
    <path d="m6.354 8.04-4.773 4.773a.75.75 0 1 0 1.061 1.06L7.945 8.57a.75.75 0 0 0 0-1.06L2.642 2.206a.75.75 0 0 0-1.06 1.061L6.353 8.04ZM8.75 11.5a.75.75 0 0 0 0 1.5h5.5a.75.75 0 0 0 0-1.5h-5.5Z"></path>
</svg>
      </button>

      <tool-tip id="tooltip-49f6de52-522a-4f0a-9de2-72d17ec18117" for="AppHeader-commandPalette-button" popover="manual" data-direction="s" data-type="label" data-view-component="true" class="sr-only position-absolute">Command palette</tool-tip>
  </div>
</div>

    <input type="hidden" name="type" class="js-site-search-type-field">

    
<div class="Overlay--hidden " data-modal-dialog-overlay>
  <modal-dialog data-action="close:qbsearch-input#handleClose cancel:qbsearch-input#handleClose" data-target="qbsearch-input.searchSuggestionsDialog" role="dialog" id="search-suggestions-dialog" aria-modal="true" aria-labelledby="search-suggestions-dialog-header" data-view-component="true" class="Overlay Overlay--width-medium Overlay--height-auto">
      <h1 id="search-suggestions-dialog-header" class="sr-only">Search code, repositories, users, issues, pull requests...</h1>
    <div class="Overlay-body Overlay-body--paddingNone">
      
          <div data-view-component="true">        <div class="search-suggestions position-absolute width-full color-shadow-large border color-fg-default color-bg-default overflow-hidden d-flex flex-column query-builder-container"
          style="border-radius: 12px;"
          data-target="qbsearch-input.queryBuilderContainer"
          hidden
        >
          <!-- '"` --><!-- </textarea></xmp> --></option></form><form id="query-builder-test-form" action="" accept-charset="UTF-8" method="get">
  <query-builder data-target="qbsearch-input.queryBuilder" id="query-builder-query-builder-test" data-filter-key=":" data-view-component="true" class="QueryBuilder search-query-builder">
    <div class="FormControl FormControl--fullWidth">
      <label id="query-builder-test-label" for="query-builder-test" class="FormControl-label sr-only">
        Search
      </label>
      <div
        class="QueryBuilder-StyledInput width-fit "
        data-target="query-builder.styledInput"
      >
          <span id="query-builder-test-leadingvisual-wrap" class="FormControl-input-leadingVisualWrap QueryBuilder-leadingVisualWrap">
            <svg aria-hidden="true" height="16" viewBox="0 0 16 16" version="1.1" width="16" data-view-component="true" class="octicon octicon-search FormControl-input-leadingVisual">
    <path d="M10.68 11.74a6 6 0 0 1-7.922-8.982 6 6 0 0 1 8.982 7.922l3.04 3.04a.749.749 0 0 1-.326 1.275.749.749 0 0 1-.734-.215ZM11.5 7a4.499 4.499 0 1 0-8.997 0A4.499 4.499 0 0 0 11.5 7Z"></path>
</svg>
          </span>
        <div data-target="query-builder.styledInputContainer" class="QueryBuilder-StyledInputContainer">
          <div
            aria-hidden="true"
            class="QueryBuilder-StyledInputContent"
            data-target="query-builder.styledInputContent"
          ></div>
          <div class="QueryBuilder-InputWrapper">
            <div aria-hidden="true" class="QueryBuilder-Sizer" data-target="query-builder.sizer"></div>
            <input id="query-builder-test" name="query-builder-test" value="" autocomplete="off" type="text" role="combobox" spellcheck="false" aria-expanded="false" aria-describedby="validation-f8e43792-2a65-4d81-969a-6562cbea1c8d" data-target="query-builder.input" data-action="
          input:query-builder#inputChange
          blur:query-builder#inputBlur
          keydown:query-builder#inputKeydown
          focus:query-builder#inputFocus
        " data-view-component="true" class="FormControl-input QueryBuilder-Input FormControl-medium" />
          </div>
        </div>
          <span class="sr-only" id="query-builder-test-clear">Clear</span>
          
  <button role="button" id="query-builder-test-clear-button" aria-labelledby="query-builder-test-clear query-builder-test-label" data-target="query-builder.clearButton" data-action="
                click:query-builder#clear
                focus:query-builder#clearButtonFocus
                blur:query-builder#clearButtonBlur
              " variant="small" hidden="hidden" type="button" data-view-component="true" class="Button Button--iconOnly Button--invisible Button--medium mr-1 px-2 py-0 d-flex flex-items-center rounded-1 color-fg-muted">    <svg aria-hidden="true" height="16" viewBox="0 0 16 16" version="1.1" width="16" data-view-component="true" class="octicon octicon-x-circle-fill Button-visual">
    <path d="M2.343 13.657A8 8 0 1 1 13.658 2.343 8 8 0 0 1 2.343 13.657ZM6.03 4.97a.751.751 0 0 0-1.042.018.751.751 0 0 0-.018 1.042L6.94 8 4.97 9.97a.749.749 0 0 0 .326 1.275.749.749 0 0 0 .734-.215L8 9.06l1.97 1.97a.749.749 0 0 0 1.275-.326.749.749 0 0 0-.215-.734L9.06 8l1.97-1.97a.749.749 0 0 0-.326-1.275.749.749 0 0 0-.734.215L8 6.94Z"></path>
</svg>
</button>  

      </div>
      <template id="search-icon">
  <svg aria-hidden="true" height="16" viewBox="0 0 16 16" version="1.1" width="16" data-view-component="true" class="octicon octicon-search">
    <path d="M10.68 11.74a6 6 0 0 1-7.922-8.982 6 6 0 0 1 8.982 7.922l3.04 3.04a.749.749 0 0 1-.326 1.275.749.749 0 0 1-.734-.215ZM11.5 7a4.499 4.499 0 1 0-8.997 0A4.499 4.499 0 0 0 11.5 7Z"></path>
</svg>
</template>

<template id="code-icon">
  <svg aria-hidden="true" height="16" viewBox="0 0 16 16" version="1.1" width="16" data-view-component="true" class="octicon octicon-code">
    <path d="m11.28 3.22 4.25 4.25a.75.75 0 0 1 0 1.06l-4.25 4.25a.749.749 0 0 1-1.275-.326.749.749 0 0 1 .215-.734L13.94 8l-3.72-3.72a.749.749 0 0 1 .326-1.275.749.749 0 0 1 .734.215Zm-6.56 0a.751.751 0 0 1 1.042.018.751.751 0 0 1 .018 1.042L2.06 8l3.72 3.72a.749.749 0 0 1-.326 1.275.749.749 0 0 1-.734-.215L.47 8.53a.75.75 0 0 1 0-1.06Z"></path>
</svg>
</template>

<template id="file-code-icon">
  <svg aria-hidden="true" height="16" viewBox="0 0 16 16" version="1.1" width="16" data-view-component="true" class="octicon octicon-file-code">
    <path d="M4 1.75C4 .784 4.784 0 5.75 0h5.586c.464 0 .909.184 1.237.513l2.914 2.914c.329.328.513.773.513 1.237v8.586A1.75 1.75 0 0 1 14.25 15h-9a.75.75 0 0 1 0-1.5h9a.25.25 0 0 0 .25-.25V6h-2.75A1.75 1.75 0 0 1 10 4.25V1.5H5.75a.25.25 0 0 0-.25.25v2.5a.75.75 0 0 1-1.5 0Zm1.72 4.97a.75.75 0 0 1 1.06 0l2 2a.75.75 0 0 1 0 1.06l-2 2a.749.749 0 0 1-1.275-.326.749.749 0 0 1 .215-.734l1.47-1.47-1.47-1.47a.75.75 0 0 1 0-1.06ZM3.28 7.78 1.81 9.25l1.47 1.47a.751.751 0 0 1-.018 1.042.751.751 0 0 1-1.042.018l-2-2a.75.75 0 0 1 0-1.06l2-2a.751.751 0 0 1 1.042.018.751.751 0 0 1 .018 1.042Zm8.22-6.218V4.25c0 .138.112.25.25.25h2.688l-.011-.013-2.914-2.914-.013-.011Z"></path>
</svg>
</template>

<template id="history-icon">
  <svg aria-hidden="true" height="16" viewBox="0 0 16 16" version="1.1" width="16" data-view-component="true" class="octicon octicon-history">
    <path d="m.427 1.927 1.215 1.215a8.002 8.002 0 1 1-1.6 5.685.75.75 0 1 1 1.493-.154 6.5 6.5 0 1 0 1.18-4.458l1.358 1.358A.25.25 0 0 1 3.896 6H.25A.25.25 0 0 1 0 5.75V2.104a.25.25 0 0 1 .427-.177ZM7.75 4a.75.75 0 0 1 .75.75v2.992l2.028.812a.75.75 0 0 1-.557 1.392l-2.5-1A.751.751 0 0 1 7 8.25v-3.5A.75.75 0 0 1 7.75 4Z"></path>
</svg>
</template>

<template id="repo-icon">
  <svg aria-hidden="true" height="16" viewBox="0 0 16 16" version="1.1" width="16" data-view-component="true" class="octicon octicon-repo">
    <path d="M2 2.5A2.5 2.5 0 0 1 4.5 0h8.75a.75.75 0 0 1 .75.75v12.5a.75.75 0 0 1-.75.75h-2.5a.75.75 0 0 1 0-1.5h1.75v-2h-8a1 1 0 0 0-.714 1.7.75.75 0 1 1-1.072 1.05A2.495 2.495 0 0 1 2 11.5Zm10.5-1h-8a1 1 0 0 0-1 1v6.708A2.486 2.486 0 0 1 4.5 9h8ZM5 12.25a.25.25 0 0 1 .25-.25h3.5a.25.25 0 0 1 .25.25v3.25a.25.25 0 0 1-.4.2l-1.45-1.087a.249.249 0 0 0-.3 0L5.4 15.7a.25.25 0 0 1-.4-.2Z"></path>
</svg>
</template>

<template id="bookmark-icon">
  <svg aria-hidden="true" height="16" viewBox="0 0 16 16" version="1.1" width="16" data-view-component="true" class="octicon octicon-bookmark">
    <path d="M3 2.75C3 1.784 3.784 1 4.75 1h6.5c.966 0 1.75.784 1.75 1.75v11.5a.75.75 0 0 1-1.227.579L8 11.722l-3.773 3.107A.751.751 0 0 1 3 14.25Zm1.75-.25a.25.25 0 0 0-.25.25v9.91l3.023-2.489a.75.75 0 0 1 .954 0l3.023 2.49V2.75a.25.25 0 0 0-.25-.25Z"></path>
</svg>
</template>

<template id="plus-circle-icon">
  <svg aria-hidden="true" height="16" viewBox="0 0 16 16" version="1.1" width="16" data-view-component="true" class="octicon octicon-plus-circle">
    <path d="M8 0a8 8 0 1 1 0 16A8 8 0 0 1 8 0ZM1.5 8a6.5 6.5 0 1 0 13 0 6.5 6.5 0 0 0-13 0Zm7.25-3.25v2.5h2.5a.75.75 0 0 1 0 1.5h-2.5v2.5a.75.75 0 0 1-1.5 0v-2.5h-2.5a.75.75 0 0 1 0-1.5h2.5v-2.5a.75.75 0 0 1 1.5 0Z"></path>
</svg>
</template>

<template id="circle-icon">
  <svg aria-hidden="true" height="16" viewBox="0 0 16 16" version="1.1" width="16" data-view-component="true" class="octicon octicon-dot-fill">
    <path d="M8 4a4 4 0 1 1 0 8 4 4 0 0 1 0-8Z"></path>
</svg>
</template>

<template id="trash-icon">
  <svg aria-hidden="true" height="16" viewBox="0 0 16 16" version="1.1" width="16" data-view-component="true" class="octicon octicon-trash">
    <path d="M11 1.75V3h2.25a.75.75 0 0 1 0 1.5H2.75a.75.75 0 0 1 0-1.5H5V1.75C5 .784 5.784 0 6.75 0h2.5C10.216 0 11 .784 11 1.75ZM4.496 6.675l.66 6.6a.25.25 0 0 0 .249.225h5.19a.25.25 0 0 0 .249-.225l.66-6.6a.75.75 0 0 1 1.492.149l-.66 6.6A1.748 1.748 0 0 1 10.595 15h-5.19a1.75 1.75 0 0 1-1.741-1.575l-.66-6.6a.75.75 0 1 1 1.492-.15ZM6.5 1.75V3h3V1.75a.25.25 0 0 0-.25-.25h-2.5a.25.25 0 0 0-.25.25Z"></path>
</svg>
</template>

<template id="team-icon">
  <svg aria-hidden="true" height="16" viewBox="0 0 16 16" version="1.1" width="16" data-view-component="true" class="octicon octicon-people">
    <path d="M2 5.5a3.5 3.5 0 1 1 5.898 2.549 5.508 5.508 0 0 1 3.034 4.084.75.75 0 1 1-1.482.235 4 4 0 0 0-7.9 0 .75.75 0 0 1-1.482-.236A5.507 5.507 0 0 1 3.102 8.05 3.493 3.493 0 0 1 2 5.5ZM11 4a3.001 3.001 0 0 1 2.22 5.018 5.01 5.01 0 0 1 2.56 3.012.749.749 0 0 1-.885.954.752.752 0 0 1-.549-.514 3.507 3.507 0 0 0-2.522-2.372.75.75 0 0 1-.574-.73v-.352a.75.75 0 0 1 .416-.672A1.5 1.5 0 0 0 11 5.5.75.75 0 0 1 11 4Zm-5.5-.5a2 2 0 1 0-.001 3.999A2 2 0 0 0 5.5 3.5Z"></path>
</svg>
</template>

<template id="project-icon">
  <svg aria-hidden="true" height="16" viewBox="0 0 16 16" version="1.1" width="16" data-view-component="true" class="octicon octicon-project">
    <path d="M1.75 0h12.5C15.216 0 16 .784 16 1.75v12.5A1.75 1.75 0 0 1 14.25 16H1.75A1.75 1.75 0 0 1 0 14.25V1.75C0 .784.784 0 1.75 0ZM1.5 1.75v12.5c0 .138.112.25.25.25h12.5a.25.25 0 0 0 .25-.25V1.75a.25.25 0 0 0-.25-.25H1.75a.25.25 0 0 0-.25.25ZM11.75 3a.75.75 0 0 1 .75.75v7.5a.75.75 0 0 1-1.5 0v-7.5a.75.75 0 0 1 .75-.75Zm-8.25.75a.75.75 0 0 1 1.5 0v5.5a.75.75 0 0 1-1.5 0ZM8 3a.75.75 0 0 1 .75.75v3.5a.75.75 0 0 1-1.5 0v-3.5A.75.75 0 0 1 8 3Z"></path>
</svg>
</template>

<template id="pencil-icon">
  <svg aria-hidden="true" height="16" viewBox="0 0 16 16" version="1.1" width="16" data-view-component="true" class="octicon octicon-pencil">
    <path d="M11.013 1.427a1.75 1.75 0 0 1 2.474 0l1.086 1.086a1.75 1.75 0 0 1 0 2.474l-8.61 8.61c-.21.21-.47.364-.756.445l-3.251.93a.75.75 0 0 1-.927-.928l.929-3.25c.081-.286.235-.547.445-.758l8.61-8.61Zm.176 4.823L9.75 4.81l-6.286 6.287a.253.253 0 0 0-.064.108l-.558 1.953 1.953-.558a.253.253 0 0 0 .108-.064Zm1.238-3.763a.25.25 0 0 0-.354 0L10.811 3.75l1.439 1.44 1.263-1.263a.25.25 0 0 0 0-.354Z"></path>
</svg>
</template>

        <div class="position-relative">
                <ul
                  role="listbox"
                  class="ActionListWrap QueryBuilder-ListWrap"
                  aria-label="Suggestions"
                  data-action="
                    combobox-commit:query-builder#comboboxCommit
                    mousedown:query-builder#resultsMousedown
                  "
                  data-target="query-builder.resultsList"
                  data-persist-list=false
                  id="query-builder-test-results"
                ></ul>
        </div>
      <div class="FormControl-inlineValidation" id="validation-f8e43792-2a65-4d81-969a-6562cbea1c8d" hidden="hidden">
        <span class="FormControl-inlineValidation--visual">
          <svg aria-hidden="true" height="12" viewBox="0 0 12 12" version="1.1" width="12" data-view-component="true" class="octicon octicon-alert-fill">
    <path d="M4.855.708c.5-.896 1.79-.896 2.29 0l4.675 8.351a1.312 1.312 0 0 1-1.146 1.954H1.33A1.313 1.313 0 0 1 .183 9.058ZM7 7V3H5v4Zm-1 3a1 1 0 1 0 0-2 1 1 0 0 0 0 2Z"></path>
</svg>
        </span>
        <span></span>
</div>    </div>
    <div data-target="query-builder.screenReaderFeedback" aria-live="polite" aria-atomic="true" class="sr-only"></div>
</query-builder></form>
          <div class="d-flex flex-row color-fg-muted px-3 text-small color-bg-default search-feedback-prompt">
            <a target="_blank" href="https://docs.github.com/en/search-github/github-code-search/understanding-github-code-search-syntax" data-view-component="true" class="Link color-fg-accent text-normal ml-2">
              Search syntax tips
</a>            <div class="d-flex flex-1"></div>
                <button data-action="click:qbsearch-input#showFeedbackDialog" type="button" data-view-component="true" class="Button--link Button--medium Button color-fg-accent text-normal ml-2">    <span class="Button-content">
      <span class="Button-label">Give feedback</span>
    </span>
</button>  
          </div>
        </div>
</div>

    </div>
</modal-dialog></div>
  </div>
  <div data-action="click:qbsearch-input#retract" class="dark-backdrop position-fixed" hidden data-target="qbsearch-input.darkBackdrop"></div>
  <div class="color-fg-default">
    
<div class="Overlay--hidden Overlay-backdrop--center" data-modal-dialog-overlay>
  <modal-dialog data-target="qbsearch-input.feedbackDialog" data-action="close:qbsearch-input#handleDialogClose cancel:qbsearch-input#handleDialogClose" role="dialog" id="feedback-dialog" aria-modal="true" aria-disabled="true" aria-describedby="feedback-dialog-title feedback-dialog-description" data-view-component="true" class="Overlay Overlay-whenNarrow Overlay--size-medium Overlay--motion-scaleFade">
    <div data-view-component="true" class="Overlay-header">
  <div class="Overlay-headerContentWrap">
    <div class="Overlay-titleWrap">
      <h1 class="Overlay-title " id="feedback-dialog-title">
        Provide feedback
      </h1>
    </div>
    <div class="Overlay-actionWrap">
      <button data-close-dialog-id="feedback-dialog" aria-label="Close" type="button" data-view-component="true" class="close-button Overlay-closeButton"><svg aria-hidden="true" height="16" viewBox="0 0 16 16" version="1.1" width="16" data-view-component="true" class="octicon octicon-x">
    <path d="M3.72 3.72a.75.75 0 0 1 1.06 0L8 6.94l3.22-3.22a.749.749 0 0 1 1.275.326.749.749 0 0 1-.215.734L9.06 8l3.22 3.22a.749.749 0 0 1-.326 1.275.749.749 0 0 1-.734-.215L8 9.06l-3.22 3.22a.751.751 0 0 1-1.042-.018.751.751 0 0 1-.018-1.042L6.94 8 3.72 4.78a.75.75 0 0 1 0-1.06Z"></path>
</svg></button>
    </div>
  </div>
</div>
      <div data-view-component="true" class="Overlay-body">        <!-- '"` --><!-- </textarea></xmp> --></option></form><form id="code-search-feedback-form" data-turbo="false" action="/search/feedback" accept-charset="UTF-8" method="post"><input type="hidden" name="authenticity_token" value="P13xIiTllrDdllh0git8QSyhatvsYTj84TU0eX-fWZeFYRR8aD1033pP66oosS8aThzsmn_Xtg3xUyef96vpNw" />
          <p>We read every piece of feedback, and take your input very seriously.</p>
          <textarea name="feedback" class="form-control width-full mb-2" style="height: 120px" id="feedback"></textarea>
          <input name="include_email" id="include_email" aria-label="Include my email address so I can be contacted" class="form-control mr-2" type="checkbox">
          <label for="include_email" style="font-weight: normal">Include my email address so I can be contacted</label>
</form></div>
      <div data-view-component="true" class="Overlay-footer Overlay-footer--alignEnd">          <button data-close-dialog-id="feedback-dialog" type="button" data-view-component="true" class="btn">    Cancel
</button>
          <button form="code-search-feedback-form" data-action="click:qbsearch-input#submitFeedback" type="submit" data-view-component="true" class="btn-primary btn">    Submit feedback
</button>
</div>
</modal-dialog></div>

    <custom-scopes data-target="qbsearch-input.customScopesManager">
    
<div class="Overlay--hidden Overlay-backdrop--center" data-modal-dialog-overlay>
  <modal-dialog data-target="custom-scopes.customScopesModalDialog" data-action="close:qbsearch-input#handleDialogClose cancel:qbsearch-input#handleDialogClose" role="dialog" id="custom-scopes-dialog" aria-modal="true" aria-disabled="true" aria-describedby="custom-scopes-dialog-title custom-scopes-dialog-description" data-view-component="true" class="Overlay Overlay-whenNarrow Overlay--size-medium Overlay--motion-scaleFade">
    <div data-view-component="true" class="Overlay-header Overlay-header--divided">
  <div class="Overlay-headerContentWrap">
    <div class="Overlay-titleWrap">
      <h1 class="Overlay-title " id="custom-scopes-dialog-title">
        Saved searches
      </h1>
        <h2 id="custom-scopes-dialog-description" class="Overlay-description">Use saved searches to filter your results more quickly</h2>
    </div>
    <div class="Overlay-actionWrap">
      <button data-close-dialog-id="custom-scopes-dialog" aria-label="Close" type="button" data-view-component="true" class="close-button Overlay-closeButton"><svg aria-hidden="true" height="16" viewBox="0 0 16 16" version="1.1" width="16" data-view-component="true" class="octicon octicon-x">
    <path d="M3.72 3.72a.75.75 0 0 1 1.06 0L8 6.94l3.22-3.22a.749.749 0 0 1 1.275.326.749.749 0 0 1-.215.734L9.06 8l3.22 3.22a.749.749 0 0 1-.326 1.275.749.749 0 0 1-.734-.215L8 9.06l-3.22 3.22a.751.751 0 0 1-1.042-.018.751.751 0 0 1-.018-1.042L6.94 8 3.72 4.78a.75.75 0 0 1 0-1.06Z"></path>
</svg></button>
    </div>
  </div>
</div>
      <div data-view-component="true" class="Overlay-body">        <div data-target="custom-scopes.customScopesModalDialogFlash"></div>

        <div hidden class="create-custom-scope-form" data-target="custom-scopes.createCustomScopeForm">
        <!-- '"` --><!-- </textarea></xmp> --></option></form><form id="custom-scopes-dialog-form" data-turbo="false" action="/search/custom_scopes" accept-charset="UTF-8" method="post"><input type="hidden" name="authenticity_token" value="6F_jcUNxpiWIma4PypXOZ-PV1PdbvE1MsK79GwkIqA3odET1gfrgZ3PikUy1vDKAXUZlwYEWt21WNmG_-Sp9Zg" />
          <div data-target="custom-scopes.customScopesModalDialogFlash"></div>

          <input type="hidden" id="custom_scope_id" name="custom_scope_id" data-target="custom-scopes.customScopesIdField">

          <div class="form-group">
            <label for="custom_scope_name">Name</label>
            <auto-check src="/search/custom_scopes/check_name" required>
              <input
                type="text"
                name="custom_scope_name"
                id="custom_scope_name"
                data-target="custom-scopes.customScopesNameField"
                class="form-control"
                autocomplete="off"
                placeholder="github-ruby"
                required
                maxlength="50">
              <input type="hidden" value="STdovmslrh6f9SXCbbECYunWA645WildwrFoJs1j_NwXNmQarQzmveqo0GD39MPq3B_E3MgdzoOvHdmNWnVQlQ" data-csrf="true" />
            </auto-check>
          </div>

          <div class="form-group">
            <label for="custom_scope_query">Query</label>
            <input
              type="text"
              name="custom_scope_query"
              id="custom_scope_query"
              data-target="custom-scopes.customScopesQueryField"
              class="form-control"
              autocomplete="off"
              placeholder="(repo:mona/a OR repo:mona/b) AND lang:python"
              required
              maxlength="500">
          </div>

          <p class="text-small color-fg-muted">
            To see all available qualifiers, see our <a class="Link--inTextBlock" href="https://docs.github.com/en/search-github/github-code-search/understanding-github-code-search-syntax">documentation</a>.
          </p>
</form>        </div>

        <div data-target="custom-scopes.manageCustomScopesForm">
          <div data-target="custom-scopes.list"></div>
        </div>

</div>
      <div data-view-component="true" class="Overlay-footer Overlay-footer--alignEnd Overlay-footer--divided">          <button data-action="click:custom-scopes#customScopesCancel" type="button" data-view-component="true" class="btn">    Cancel
</button>
          <button form="custom-scopes-dialog-form" data-action="click:custom-scopes#customScopesSubmit" data-target="custom-scopes.customScopesSubmitButton" type="submit" data-view-component="true" class="btn-primary btn">    Create saved search
</button>
</div>
</modal-dialog></div>
    </custom-scopes>
  </div>
</qbsearch-input><input type="hidden" value="WB3WmTxVu--6a7c5zIHcrZJgMKJNUaScSp-jlfEajHRB97783CBrjAn1J8XdtdTn2SgqiEMspGoWG_JR7wwMaQ" data-csrf="true" class="js-data-jump-to-suggestions-path-csrf" />

          </div>

        <div class="AppHeader-actions">
          <action-menu data-select-variant="none" data-view-component="true">
  <focus-group direction="vertical" mnemonics retain>
    <div data-view-component="true" class="Button-withTooltip">  <button id="global-create-menu-button" popovertarget="global-create-menu-overlay" aria-label="Create something new" aria-controls="global-create-menu-list" aria-haspopup="true" type="button" data-view-component="true" class="AppHeader-button Button--secondary Button--small Button width-auto color-fg-muted box-shadow-none">    <span class="Button-content">
        <span class="Button-visual Button-leadingVisual">
          <svg aria-hidden="true" height="16" viewBox="0 0 16 16" version="1.1" width="16" data-view-component="true" class="octicon octicon-plus">
    <path d="M7.75 2a.75.75 0 0 1 .75.75V7h4.25a.75.75 0 0 1 0 1.5H8.5v4.25a.75.75 0 0 1-1.5 0V8.5H2.75a.75.75 0 0 1 0-1.5H7V2.75A.75.75 0 0 1 7.75 2Z"></path>
</svg>
        </span>
      <span class="Button-label"><svg aria-hidden="true" height="16" viewBox="0 0 16 16" version="1.1" width="16" data-view-component="true" class="octicon octicon-triangle-down">
    <path d="m4.427 7.427 3.396 3.396a.25.25 0 0 0 .354 0l3.396-3.396A.25.25 0 0 0 11.396 7H4.604a.25.25 0 0 0-.177.427Z"></path>
</svg></span>
    </span>
</button>  <tool-tip id="tooltip-a740ec7a-0b69-4b3c-b26c-bf0ee7822151" for="global-create-menu-button" popover="manual" data-direction="s" data-type="description" data-view-component="true" class="sr-only position-absolute">Create new...</tool-tip>
</div>

<anchored-position id="global-create-menu-overlay" anchor="global-create-menu-button" align="end" side="outside-bottom" anchor-offset="normal" popover="auto" aria-label="Menu" data-view-component="true">
  <div data-view-component="true" class="Overlay Overlay--size-auto">
    
      
        <div data-view-component="true">
  <ul aria-labelledby="global-create-menu-button" id="global-create-menu-list" role="menu" data-view-component="true" class="ActionListWrap--inset ActionListWrap">
      <li data-analytics-event="{&quot;category&quot;:&quot;SiteHeaderComponent&quot;,&quot;action&quot;:&quot;add_dropdown&quot;,&quot;label&quot;:&quot;new repository&quot;}" data-targets="action-list.items" role="none" data-view-component="true" class="ActionListItem">
    
    <a href="/new" tabindex="-1" id="item-cee56cf8-97ca-47a6-8722-0f5ef050bc6e" role="menuitem" data-view-component="true" class="ActionListContent ActionListContent--visual16">
        <span class="ActionListItem-visual ActionListItem-visual--leading">
          <svg aria-hidden="true" height="16" viewBox="0 0 16 16" version="1.1" width="16" data-view-component="true" class="octicon octicon-repo">
    <path d="M2 2.5A2.5 2.5 0 0 1 4.5 0h8.75a.75.75 0 0 1 .75.75v12.5a.75.75 0 0 1-.75.75h-2.5a.75.75 0 0 1 0-1.5h1.75v-2h-8a1 1 0 0 0-.714 1.7.75.75 0 1 1-1.072 1.05A2.495 2.495 0 0 1 2 11.5Zm10.5-1h-8a1 1 0 0 0-1 1v6.708A2.486 2.486 0 0 1 4.5 9h8ZM5 12.25a.25.25 0 0 1 .25-.25h3.5a.25.25 0 0 1 .25.25v3.25a.25.25 0 0 1-.4.2l-1.45-1.087a.249.249 0 0 0-.3 0L5.4 15.7a.25.25 0 0 1-.4-.2Z"></path>
</svg>
        </span>
      
        <span data-view-component="true" class="ActionListItem-label">
              New repository

</span></a>
  
  
</li>
      <li data-analytics-event="{&quot;category&quot;:&quot;SiteHeaderComponent&quot;,&quot;action&quot;:&quot;add_dropdown&quot;,&quot;label&quot;:&quot;import repository&quot;}" data-targets="action-list.items" role="none" data-view-component="true" class="ActionListItem">
    
    <a href="/new/import" tabindex="-1" id="item-1e43b283-0c4c-480a-81cb-75a37eeed3cd" role="menuitem" data-view-component="true" class="ActionListContent ActionListContent--visual16">
        <span class="ActionListItem-visual ActionListItem-visual--leading">
          <svg aria-hidden="true" height="16" viewBox="0 0 16 16" version="1.1" width="16" data-view-component="true" class="octicon octicon-repo-push">
    <path d="M1 2.5A2.5 2.5 0 0 1 3.5 0h8.75a.75.75 0 0 1 .75.75v3.5a.75.75 0 0 1-1.5 0V1.5h-8a1 1 0 0 0-1 1v6.708A2.493 2.493 0 0 1 3.5 9h3.25a.75.75 0 0 1 0 1.5H3.5a1 1 0 0 0 0 2h5.75a.75.75 0 0 1 0 1.5H3.5A2.5 2.5 0 0 1 1 11.5Zm13.23 7.79h-.001l-1.224-1.224v6.184a.75.75 0 0 1-1.5 0V9.066L10.28 10.29a.75.75 0 0 1-1.06-1.061l2.505-2.504a.75.75 0 0 1 1.06 0L15.29 9.23a.751.751 0 0 1-.018 1.042.751.751 0 0 1-1.042.018Z"></path>
</svg>
        </span>
      
        <span data-view-component="true" class="ActionListItem-label">
                Import repository

</span></a>
  
  
</li>
      <li role="presentation" aria-hidden="true" data-view-component="true" class="ActionList-sectionDivider"></li>
      <li data-analytics-event="{&quot;category&quot;:&quot;SiteHeaderComponent&quot;,&quot;action&quot;:&quot;add_dropdown&quot;,&quot;label&quot;:&quot;new codespace&quot;}" data-targets="action-list.items" role="none" data-view-component="true" class="ActionListItem">
    
    <a href="/codespaces/new" tabindex="-1" id="item-8f976ff3-d3ba-4411-b1eb-a87fc7f362d7" role="menuitem" data-view-component="true" class="ActionListContent ActionListContent--visual16">
        <span class="ActionListItem-visual ActionListItem-visual--leading">
          <svg aria-hidden="true" height="16" viewBox="0 0 16 16" version="1.1" width="16" data-view-component="true" class="octicon octicon-codespaces">
    <path d="M0 11.25c0-.966.784-1.75 1.75-1.75h12.5c.966 0 1.75.784 1.75 1.75v3A1.75 1.75 0 0 1 14.25 16H1.75A1.75 1.75 0 0 1 0 14.25Zm2-9.5C2 .784 2.784 0 3.75 0h8.5C13.216 0 14 .784 14 1.75v5a1.75 1.75 0 0 1-1.75 1.75h-8.5A1.75 1.75 0 0 1 2 6.75Zm1.75-.25a.25.25 0 0 0-.25.25v5c0 .138.112.25.25.25h8.5a.25.25 0 0 0 .25-.25v-5a.25.25 0 0 0-.25-.25Zm-2 9.5a.25.25 0 0 0-.25.25v3c0 .138.112.25.25.25h12.5a.25.25 0 0 0 .25-.25v-3a.25.25 0 0 0-.25-.25Z"></path><path d="M7 12.75a.75.75 0 0 1 .75-.75h4.5a.75.75 0 0 1 0 1.5h-4.5a.75.75 0 0 1-.75-.75Zm-4 0a.75.75 0 0 1 .75-.75h.5a.75.75 0 0 1 0 1.5h-.5a.75.75 0 0 1-.75-.75Z"></path>
</svg>
        </span>
      
        <span data-view-component="true" class="ActionListItem-label">
                New codespace

</span></a>
  
  
</li>
      <li data-analytics-event="{&quot;category&quot;:&quot;SiteHeaderComponent&quot;,&quot;action&quot;:&quot;add_dropdown&quot;,&quot;label&quot;:&quot;new gist&quot;}" data-targets="action-list.items" role="none" data-view-component="true" class="ActionListItem">
    
    <a href="https://gist.github.com/" tabindex="-1" id="item-61307824-acf2-49ec-943f-30ad10df83ee" role="menuitem" data-view-component="true" class="ActionListContent ActionListContent--visual16">
        <span class="ActionListItem-visual ActionListItem-visual--leading">
          <svg aria-hidden="true" height="16" viewBox="0 0 16 16" version="1.1" width="16" data-view-component="true" class="octicon octicon-code">
    <path d="m11.28 3.22 4.25 4.25a.75.75 0 0 1 0 1.06l-4.25 4.25a.749.749 0 0 1-1.275-.326.749.749 0 0 1 .215-.734L13.94 8l-3.72-3.72a.749.749 0 0 1 .326-1.275.749.749 0 0 1 .734.215Zm-6.56 0a.751.751 0 0 1 1.042.018.751.751 0 0 1 .018 1.042L2.06 8l3.72 3.72a.749.749 0 0 1-.326 1.275.749.749 0 0 1-.734-.215L.47 8.53a.75.75 0 0 1 0-1.06Z"></path>
</svg>
        </span>
      
        <span data-view-component="true" class="ActionListItem-label">
              New gist

</span></a>
  
  
</li>
      <li role="presentation" aria-hidden="true" data-view-component="true" class="ActionList-sectionDivider"></li>
      <li data-analytics-event="{&quot;category&quot;:&quot;SiteHeaderComponent&quot;,&quot;action&quot;:&quot;add_dropdown&quot;,&quot;label&quot;:&quot;new organization&quot;}" data-targets="action-list.items" role="none" data-view-component="true" class="ActionListItem">
    
    <a href="/account/organizations/new" tabindex="-1" id="item-bc82b2b6-6a04-4334-a3ac-f864894c5709" role="menuitem" data-view-component="true" class="ActionListContent ActionListContent--visual16">
        <span class="ActionListItem-visual ActionListItem-visual--leading">
          <svg aria-hidden="true" height="16" viewBox="0 0 16 16" version="1.1" width="16" data-view-component="true" class="octicon octicon-organization">
    <path d="M1.75 16A1.75 1.75 0 0 1 0 14.25V1.75C0 .784.784 0 1.75 0h8.5C11.216 0 12 .784 12 1.75v12.5c0 .085-.006.168-.018.25h2.268a.25.25 0 0 0 .25-.25V8.285a.25.25 0 0 0-.111-.208l-1.055-.703a.749.749 0 1 1 .832-1.248l1.055.703c.487.325.779.871.779 1.456v5.965A1.75 1.75 0 0 1 14.25 16h-3.5a.766.766 0 0 1-.197-.026c-.099.017-.2.026-.303.026h-3a.75.75 0 0 1-.75-.75V14h-1v1.25a.75.75 0 0 1-.75.75Zm-.25-1.75c0 .138.112.25.25.25H4v-1.25a.75.75 0 0 1 .75-.75h2.5a.75.75 0 0 1 .75.75v1.25h2.25a.25.25 0 0 0 .25-.25V1.75a.25.25 0 0 0-.25-.25h-8.5a.25.25 0 0 0-.25.25ZM3.75 6h.5a.75.75 0 0 1 0 1.5h-.5a.75.75 0 0 1 0-1.5ZM3 3.75A.75.75 0 0 1 3.75 3h.5a.75.75 0 0 1 0 1.5h-.5A.75.75 0 0 1 3 3.75Zm4 3A.75.75 0 0 1 7.75 6h.5a.75.75 0 0 1 0 1.5h-.5A.75.75 0 0 1 7 6.75ZM7.75 3h.5a.75.75 0 0 1 0 1.5h-.5a.75.75 0 0 1 0-1.5ZM3 9.75A.75.75 0 0 1 3.75 9h.5a.75.75 0 0 1 0 1.5h-.5A.75.75 0 0 1 3 9.75ZM7.75 9h.5a.75.75 0 0 1 0 1.5h-.5a.75.75 0 0 1 0-1.5Z"></path>
</svg>
        </span>
      
        <span data-view-component="true" class="ActionListItem-label">
                New organization

</span></a>
  
  
</li>
</ul>  
</div>

</div></anchored-position>  </focus-group>
</action-menu>

          <div data-view-component="true" class="Button-withTooltip">
  <a href="/issues" id="icon-button-ef9a0346-7fa1-49b0-8d42-75b45d8a5d3d" data-view-component="true" class="Button Button--iconOnly Button--secondary Button--medium AppHeader-button color-fg-muted">    <svg aria-hidden="true" height="16" viewBox="0 0 16 16" version="1.1" width="16" data-view-component="true" class="octicon octicon-issue-opened Button-visual">
    <path d="M8 9.5a1.5 1.5 0 1 0 0-3 1.5 1.5 0 0 0 0 3Z"></path><path d="M8 0a8 8 0 1 1 0 16A8 8 0 0 1 8 0ZM1.5 8a6.5 6.5 0 1 0 13 0 6.5 6.5 0 0 0-13 0Z"></path>
</svg>
</a>  <tool-tip id="tooltip-8333c0f7-fc0d-4fbe-9db0-f5979cba955b" for="icon-button-ef9a0346-7fa1-49b0-8d42-75b45d8a5d3d" popover="manual" data-direction="s" data-type="label" data-view-component="true" class="sr-only position-absolute">Issues</tool-tip>
</div>
          <div data-view-component="true" class="Button-withTooltip">
  <a href="/pulls" id="icon-button-b88e5266-ab19-489a-a677-0bfc2d77e9c0" data-view-component="true" class="Button Button--iconOnly Button--secondary Button--medium AppHeader-button color-fg-muted">    <svg aria-hidden="true" height="16" viewBox="0 0 16 16" version="1.1" width="16" data-view-component="true" class="octicon octicon-git-pull-request Button-visual">
    <path d="M1.5 3.25a2.25 2.25 0 1 1 3 2.122v5.256a2.251 2.251 0 1 1-1.5 0V5.372A2.25 2.25 0 0 1 1.5 3.25Zm5.677-.177L9.573.677A.25.25 0 0 1 10 .854V2.5h1A2.5 2.5 0 0 1 13.5 5v5.628a2.251 2.251 0 1 1-1.5 0V5a1 1 0 0 0-1-1h-1v1.646a.25.25 0 0 1-.427.177L7.177 3.427a.25.25 0 0 1 0-.354ZM3.75 2.5a.75.75 0 1 0 0 1.5.75.75 0 0 0 0-1.5Zm0 9.5a.75.75 0 1 0 0 1.5.75.75 0 0 0 0-1.5Zm8.25.75a.75.75 0 1 0 1.5 0 .75.75 0 0 0-1.5 0Z"></path>
</svg>
</a>  <tool-tip id="tooltip-6a2a64f4-81b2-4b5a-b98d-8d0c75295d18" for="icon-button-b88e5266-ab19-489a-a677-0bfc2d77e9c0" popover="manual" data-direction="s" data-type="label" data-view-component="true" class="sr-only position-absolute">Pull requests</tool-tip>
</div>
        </div>

        <div class="mr-0">
          

<notification-indicator data-channel="eyJjIjoibm90aWZpY2F0aW9uLWNoYW5nZWQ6MTMxNzc0NjE2IiwidCI6MTY5MjI0OTQyOH0=--370fdb3778a85cb3cf1c24a987854e1011da045bb630b639faebe18b13a90413" data-indicator-mode="none" data-tooltip-global="You have unread notifications" data-tooltip-unavailable="Notifications are unavailable at the moment." data-tooltip-none="You have no unread notifications" data-header-redesign-enabled="true" data-fetch-indicator-src="/notifications/indicator" data-fetch-indicator-enabled="true" data-view-component="true" class="js-socket-channel">
  <a id="AppHeader-notifications-button" href="/notifications"
    class="AppHeader-button"

    style="width:32px;height:32px;"

    data-hotkey="g n"
    data-target="notification-indicator.link"
    aria-label="Notifications"

      data-analytics-event="{&quot;category&quot;:&quot;SiteHeaderComponent&quot;,&quot;action&quot;:&quot;notifications&quot;,&quot;label&quot;:null}"
  >

    <span
      data-target="notification-indicator.badge"
      class="mail-status unread d-none" hidden>
    </span>

      <svg aria-hidden="true" height="16" viewBox="0 0 16 16" version="1.1" width="16" data-view-component="true" class="octicon octicon-inbox color-fg-muted mr-0">
    <path d="M2.8 2.06A1.75 1.75 0 0 1 4.41 1h7.18c.7 0 1.333.417 1.61 1.06l2.74 6.395c.04.093.06.194.06.295v4.5A1.75 1.75 0 0 1 14.25 15H1.75A1.75 1.75 0 0 1 0 13.25v-4.5c0-.101.02-.202.06-.295Zm1.61.44a.25.25 0 0 0-.23.152L1.887 8H4.75a.75.75 0 0 1 .6.3L6.625 10h2.75l1.275-1.7a.75.75 0 0 1 .6-.3h2.863L11.82 2.652a.25.25 0 0 0-.23-.152Zm10.09 7h-2.875l-1.275 1.7a.75.75 0 0 1-.6.3h-3.5a.75.75 0 0 1-.6-.3L4.375 9.5H1.5v3.75c0 .138.112.25.25.25h12.5a.25.25 0 0 0 .25-.25Z"></path>
</svg>
  </a>

    <tool-tip data-target="notification-indicator.tooltip" id="tooltip-b1caf076-abd4-4bba-8e64-9a231fed9122" for="AppHeader-notifications-button" popover="manual" data-direction="s" data-type="description" data-view-component="true" class="sr-only position-absolute">Notifications</tool-tip>
</notification-indicator>
        </div>

        

        <div class="AppHeader-user">
          <deferred-side-panel data-url="/_side-panels/user?memex_enabled=true&amp;repository=STAT_ML&amp;user=Devarakondadurgaprasad&amp;user_can_create_organizations=true&amp;user_id=131774616">
  <include-fragment data-target="deferred-side-panel.fragment">
      <user-drawer-side-panel>
      <button aria-label="Open user account menu" data-action="click:deferred-side-panel#loadPanel click:deferred-side-panel#panelOpened" data-show-dialog-id="dialog-f871ac57-fabc-442d-b515-3bada2cd86d7" id="dialog-show-dialog-f871ac57-fabc-442d-b515-3bada2cd86d7" type="button" data-view-component="true" class="AppHeader-logo Button--invisible Button--medium Button Button--invisible-noVisuals color-bg-transparent p-0">    <span class="Button-content">
      <span class="Button-label"><img src="https://avatars.githubusercontent.com/u/131774616?v=4" alt="" size="32" height="32" width="32" data-view-component="true" class="avatar circle" /></span>
    </span>
</button>  

<div class="Overlay--hidden Overlay-backdrop--side Overlay-backdrop--placement-right" data-modal-dialog-overlay>
  <modal-dialog data-target="deferred-side-panel.panel" role="dialog" id="dialog-f871ac57-fabc-442d-b515-3bada2cd86d7" aria-modal="true" aria-disabled="true" aria-describedby="dialog-f871ac57-fabc-442d-b515-3bada2cd86d7-title dialog-f871ac57-fabc-442d-b515-3bada2cd86d7-description" data-view-component="true" class="Overlay Overlay-whenNarrow Overlay--size-small-portrait Overlay--motion-scaleFade SidePanel">
    <div styles="flex-direction: row;" data-view-component="true" class="Overlay-header">
  <div class="Overlay-headerContentWrap">
    <div class="Overlay-titleWrap">
      <h1 class="Overlay-title sr-only" id="dialog-f871ac57-fabc-442d-b515-3bada2cd86d7-title">
        Account menu
      </h1>
            <div data-view-component="true" class="d-flex">
      <div data-view-component="true" class="AppHeader-logo position-relative">
        <img src="https://avatars.githubusercontent.com/u/131774616?v=4" alt="" size="32" height="32" width="32" data-view-component="true" class="avatar circle" />
</div>        <div data-view-component="true" class="d-flex width-full">        <div data-view-component="true" class="lh-condensed d-flex flex-column flex-justify-center ml-2 f5 mr-auto">
          <span data-view-component="true" class="Truncate d-block text-bold">
    <span data-view-component="true" class="Truncate-text">
            Devarakondadurgaprasad
</span>
</span>          </div>
</div>
</div>
    </div>
    <div class="Overlay-actionWrap">
      <button data-close-dialog-id="dialog-f871ac57-fabc-442d-b515-3bada2cd86d7" aria-label="Close" type="button" data-view-component="true" class="close-button Overlay-closeButton"><svg aria-hidden="true" height="16" viewBox="0 0 16 16" version="1.1" width="16" data-view-component="true" class="octicon octicon-x">
    <path d="M3.72 3.72a.75.75 0 0 1 1.06 0L8 6.94l3.22-3.22a.749.749 0 0 1 1.275.326.749.749 0 0 1-.215.734L9.06 8l3.22 3.22a.749.749 0 0 1-.326 1.275.749.749 0 0 1-.734-.215L8 9.06l-3.22 3.22a.751.751 0 0 1-1.042-.018.751.751 0 0 1-.018-1.042L6.94 8 3.72 4.78a.75.75 0 0 1 0-1.06Z"></path>
</svg></button>
    </div>
  </div>
</div>
      <div data-view-component="true" class="Overlay-body d-flex flex-column height-full px-2">      <nav aria-label="User navigation" data-view-component="true" class="ActionList">
  
  <nav-list>
    <ul data-view-component="true" class="ActionListWrap">
        
          
<li data-item-id="" data-targets="nav-list.items" data-view-component="true" class="ActionListItem">
    
    <button id="item-f833cecb-7180-4ac1-b52a-d1c679390b0f" type="button" data-view-component="true" class="ActionListContent ActionListContent--visual16">
        <span class="ActionListItem-visual ActionListItem-visual--leading">
          <span data-view-component="true" class="d-flex flex-items-center">    <svg style="box-sizing: content-box; color: var(--color-icon-primary);" width="16" height="16" viewBox="0 0 16 16" fill="none" data-view-component="true" class="anim-rotate">
  <circle cx="8" cy="8" r="7" stroke="currentColor" stroke-opacity="0.25" stroke-width="2" vector-effect="non-scaling-stroke" />
  <path d="M15 8a7.002 7.002 0 00-7-7" stroke="currentColor" stroke-width="2" stroke-linecap="round" vector-effect="non-scaling-stroke" />
</svg>
</span>
        </span>
      
        <span data-view-component="true" class="ActionListItem-label">
          

  <span class="color-fg-muted">
    Loading...
  </span>

</span></button>
  
  
</li>

        
          <li role="presentation" aria-hidden="true" data-view-component="true" class="ActionList-sectionDivider"></li>
        
          
<li data-item-id="" data-targets="nav-list.items" data-view-component="true" class="ActionListItem">
    
    <a id="item-fc8f1410-dd52-4cf2-945a-d07655f1a954" href="https://github.com/Devarakondadurgaprasad" data-view-component="true" class="ActionListContent ActionListContent--visual16">
        <span class="ActionListItem-visual ActionListItem-visual--leading">
          <svg aria-hidden="true" height="16" viewBox="0 0 16 16" version="1.1" width="16" data-view-component="true" class="octicon octicon-person">
    <path d="M10.561 8.073a6.005 6.005 0 0 1 3.432 5.142.75.75 0 1 1-1.498.07 4.5 4.5 0 0 0-8.99 0 .75.75 0 0 1-1.498-.07 6.004 6.004 0 0 1 3.431-5.142 3.999 3.999 0 1 1 5.123 0ZM10.5 5a2.5 2.5 0 1 0-5 0 2.5 2.5 0 0 0 5 0Z"></path>
</svg>
        </span>
      
        <span data-view-component="true" class="ActionListItem-label">
          Your profile
</span></a>
  
  
</li>

        
          <li role="presentation" aria-hidden="true" data-view-component="true" class="ActionList-sectionDivider"></li>
        
          
<li data-item-id="" data-targets="nav-list.items" data-view-component="true" class="ActionListItem">
    
    <a id="item-90dde507-0b9c-4500-a5fa-d53c415b6b5a" href="/Devarakondadurgaprasad?tab=repositories" data-view-component="true" class="ActionListContent ActionListContent--visual16">
        <span class="ActionListItem-visual ActionListItem-visual--leading">
          <svg aria-hidden="true" height="16" viewBox="0 0 16 16" version="1.1" width="16" data-view-component="true" class="octicon octicon-repo">
    <path d="M2 2.5A2.5 2.5 0 0 1 4.5 0h8.75a.75.75 0 0 1 .75.75v12.5a.75.75 0 0 1-.75.75h-2.5a.75.75 0 0 1 0-1.5h1.75v-2h-8a1 1 0 0 0-.714 1.7.75.75 0 1 1-1.072 1.05A2.495 2.495 0 0 1 2 11.5Zm10.5-1h-8a1 1 0 0 0-1 1v6.708A2.486 2.486 0 0 1 4.5 9h8ZM5 12.25a.25.25 0 0 1 .25-.25h3.5a.25.25 0 0 1 .25.25v3.25a.25.25 0 0 1-.4.2l-1.45-1.087a.249.249 0 0 0-.3 0L5.4 15.7a.25.25 0 0 1-.4-.2Z"></path>
</svg>
        </span>
      
        <span data-view-component="true" class="ActionListItem-label">
          Your repositories
</span></a>
  
  
</li>

        
          
<li data-item-id="" data-targets="nav-list.items" data-view-component="true" class="ActionListItem">
    
    <a id="item-d262465a-bc3c-4752-80e7-d0e7ed02de1a" href="/Devarakondadurgaprasad?tab=projects" data-view-component="true" class="ActionListContent ActionListContent--visual16">
        <span class="ActionListItem-visual ActionListItem-visual--leading">
          <svg aria-hidden="true" height="16" viewBox="0 0 16 16" version="1.1" width="16" data-view-component="true" class="octicon octicon-project">
    <path d="M1.75 0h12.5C15.216 0 16 .784 16 1.75v12.5A1.75 1.75 0 0 1 14.25 16H1.75A1.75 1.75 0 0 1 0 14.25V1.75C0 .784.784 0 1.75 0ZM1.5 1.75v12.5c0 .138.112.25.25.25h12.5a.25.25 0 0 0 .25-.25V1.75a.25.25 0 0 0-.25-.25H1.75a.25.25 0 0 0-.25.25ZM11.75 3a.75.75 0 0 1 .75.75v7.5a.75.75 0 0 1-1.5 0v-7.5a.75.75 0 0 1 .75-.75Zm-8.25.75a.75.75 0 0 1 1.5 0v5.5a.75.75 0 0 1-1.5 0ZM8 3a.75.75 0 0 1 .75.75v3.5a.75.75 0 0 1-1.5 0v-3.5A.75.75 0 0 1 8 3Z"></path>
</svg>
        </span>
      
        <span data-view-component="true" class="ActionListItem-label">
          Your projects
</span></a>
  
  
</li>

        
          
<li data-item-id="" data-targets="nav-list.items" data-view-component="true" class="ActionListItem">
    
    <a id="item-8d93a6ef-a58a-4187-8863-930f78366caf" href="/codespaces" data-view-component="true" class="ActionListContent ActionListContent--visual16">
        <span class="ActionListItem-visual ActionListItem-visual--leading">
          <svg aria-hidden="true" height="16" viewBox="0 0 16 16" version="1.1" width="16" data-view-component="true" class="octicon octicon-codespaces">
    <path d="M0 11.25c0-.966.784-1.75 1.75-1.75h12.5c.966 0 1.75.784 1.75 1.75v3A1.75 1.75 0 0 1 14.25 16H1.75A1.75 1.75 0 0 1 0 14.25Zm2-9.5C2 .784 2.784 0 3.75 0h8.5C13.216 0 14 .784 14 1.75v5a1.75 1.75 0 0 1-1.75 1.75h-8.5A1.75 1.75 0 0 1 2 6.75Zm1.75-.25a.25.25 0 0 0-.25.25v5c0 .138.112.25.25.25h8.5a.25.25 0 0 0 .25-.25v-5a.25.25 0 0 0-.25-.25Zm-2 9.5a.25.25 0 0 0-.25.25v3c0 .138.112.25.25.25h12.5a.25.25 0 0 0 .25-.25v-3a.25.25 0 0 0-.25-.25Z"></path><path d="M7 12.75a.75.75 0 0 1 .75-.75h4.5a.75.75 0 0 1 0 1.5h-4.5a.75.75 0 0 1-.75-.75Zm-4 0a.75.75 0 0 1 .75-.75h.5a.75.75 0 0 1 0 1.5h-.5a.75.75 0 0 1-.75-.75Z"></path>
</svg>
        </span>
      
        <span data-view-component="true" class="ActionListItem-label">
          Your codespaces
</span></a>
  
  
</li>

        
          
<li data-item-id="" data-targets="nav-list.items" data-view-component="true" class="ActionListItem">
    
    <button id="item-8821ff98-25cf-4043-9837-3c65d651b3f8" type="button" data-view-component="true" class="ActionListContent ActionListContent--visual16">
        <span class="ActionListItem-visual ActionListItem-visual--leading">
          <span data-view-component="true" class="d-flex flex-items-center">    <svg style="box-sizing: content-box; color: var(--color-icon-primary);" width="16" height="16" viewBox="0 0 16 16" fill="none" data-view-component="true" class="anim-rotate">
  <circle cx="8" cy="8" r="7" stroke="currentColor" stroke-opacity="0.25" stroke-width="2" vector-effect="non-scaling-stroke" />
  <path d="M15 8a7.002 7.002 0 00-7-7" stroke="currentColor" stroke-width="2" stroke-linecap="round" vector-effect="non-scaling-stroke" />
</svg>
</span>
        </span>
      
        <span data-view-component="true" class="ActionListItem-label">
          

  <span class="color-fg-muted">
    Loading...
  </span>

</span></button>
  
  
</li>

        
          
<li data-item-id="" data-targets="nav-list.items" data-view-component="true" class="ActionListItem">
    
    <a id="item-a71c8e54-70c2-49cd-888a-35631196c4e9" href="/Devarakondadurgaprasad?tab=stars" data-view-component="true" class="ActionListContent ActionListContent--visual16">
        <span class="ActionListItem-visual ActionListItem-visual--leading">
          <svg aria-hidden="true" height="16" viewBox="0 0 16 16" version="1.1" width="16" data-view-component="true" class="octicon octicon-star">
    <path d="M8 .25a.75.75 0 0 1 .673.418l1.882 3.815 4.21.612a.75.75 0 0 1 .416 1.279l-3.046 2.97.719 4.192a.751.751 0 0 1-1.088.791L8 12.347l-3.766 1.98a.75.75 0 0 1-1.088-.79l.72-4.194L.818 6.374a.75.75 0 0 1 .416-1.28l4.21-.611L7.327.668A.75.75 0 0 1 8 .25Zm0 2.445L6.615 5.5a.75.75 0 0 1-.564.41l-3.097.45 2.24 2.184a.75.75 0 0 1 .216.664l-.528 3.084 2.769-1.456a.75.75 0 0 1 .698 0l2.77 1.456-.53-3.084a.75.75 0 0 1 .216-.664l2.24-2.183-3.096-.45a.75.75 0 0 1-.564-.41L8 2.694Z"></path>
</svg>
        </span>
      
        <span data-view-component="true" class="ActionListItem-label">
          Your stars
</span></a>
  
  
</li>

        
          
<li data-item-id="" data-targets="nav-list.items" data-view-component="true" class="ActionListItem">
    
    <a id="item-343e46bd-ad36-4e38-b6f5-30b72b5bc41f" href="/sponsors/accounts" data-view-component="true" class="ActionListContent ActionListContent--visual16">
        <span class="ActionListItem-visual ActionListItem-visual--leading">
          <svg aria-hidden="true" height="16" viewBox="0 0 16 16" version="1.1" width="16" data-view-component="true" class="octicon octicon-heart">
    <path d="m8 14.25.345.666a.75.75 0 0 1-.69 0l-.008-.004-.018-.01a7.152 7.152 0 0 1-.31-.17 22.055 22.055 0 0 1-3.434-2.414C2.045 10.731 0 8.35 0 5.5 0 2.836 2.086 1 4.25 1 5.797 1 7.153 1.802 8 3.02 8.847 1.802 10.203 1 11.75 1 13.914 1 16 2.836 16 5.5c0 2.85-2.045 5.231-3.885 6.818a22.066 22.066 0 0 1-3.744 2.584l-.018.01-.006.003h-.002ZM4.25 2.5c-1.336 0-2.75 1.164-2.75 3 0 2.15 1.58 4.144 3.365 5.682A20.58 20.58 0 0 0 8 13.393a20.58 20.58 0 0 0 3.135-2.211C12.92 9.644 14.5 7.65 14.5 5.5c0-1.836-1.414-3-2.75-3-1.373 0-2.609.986-3.029 2.456a.749.749 0 0 1-1.442 0C6.859 3.486 5.623 2.5 4.25 2.5Z"></path>
</svg>
        </span>
      
        <span data-view-component="true" class="ActionListItem-label">
          Your sponsors
</span></a>
  
  
</li>

        
          
<li data-item-id="" data-targets="nav-list.items" data-view-component="true" class="ActionListItem">
    
    <a id="item-788a5308-8e22-48ed-8ea7-dc8a83bceabc" href="https://gist.github.com/mine" data-view-component="true" class="ActionListContent ActionListContent--visual16">
        <span class="ActionListItem-visual ActionListItem-visual--leading">
          <svg aria-hidden="true" height="16" viewBox="0 0 16 16" version="1.1" width="16" data-view-component="true" class="octicon octicon-code-square">
    <path d="M0 1.75C0 .784.784 0 1.75 0h12.5C15.216 0 16 .784 16 1.75v12.5A1.75 1.75 0 0 1 14.25 16H1.75A1.75 1.75 0 0 1 0 14.25Zm1.75-.25a.25.25 0 0 0-.25.25v12.5c0 .138.112.25.25.25h12.5a.25.25 0 0 0 .25-.25V1.75a.25.25 0 0 0-.25-.25Zm7.47 3.97a.75.75 0 0 1 1.06 0l2 2a.75.75 0 0 1 0 1.06l-2 2a.749.749 0 0 1-1.275-.326.749.749 0 0 1 .215-.734L10.69 8 9.22 6.53a.75.75 0 0 1 0-1.06ZM6.78 6.53 5.31 8l1.47 1.47a.749.749 0 0 1-.326 1.275.749.749 0 0 1-.734-.215l-2-2a.75.75 0 0 1 0-1.06l2-2a.751.751 0 0 1 1.042.018.751.751 0 0 1 .018 1.042Z"></path>
</svg>
        </span>
      
        <span data-view-component="true" class="ActionListItem-label">
          Your gists
</span></a>
  
  
</li>

        
          <li role="presentation" aria-hidden="true" data-view-component="true" class="ActionList-sectionDivider"></li>
        
          
<li data-item-id="" data-targets="nav-list.items" data-view-component="true" class="ActionListItem">
    
    <button id="item-9f9dac95-cb9e-4386-93c0-694b0a6018bc" type="button" data-view-component="true" class="ActionListContent ActionListContent--visual16">
        <span class="ActionListItem-visual ActionListItem-visual--leading">
          <span data-view-component="true" class="d-flex flex-items-center">    <svg style="box-sizing: content-box; color: var(--color-icon-primary);" width="16" height="16" viewBox="0 0 16 16" fill="none" data-view-component="true" class="anim-rotate">
  <circle cx="8" cy="8" r="7" stroke="currentColor" stroke-opacity="0.25" stroke-width="2" vector-effect="non-scaling-stroke" />
  <path d="M15 8a7.002 7.002 0 00-7-7" stroke="currentColor" stroke-width="2" stroke-linecap="round" vector-effect="non-scaling-stroke" />
</svg>
</span>
        </span>
      
        <span data-view-component="true" class="ActionListItem-label">
          

  <span class="color-fg-muted">
    Loading...
  </span>

</span></button>
  
  
</li>

        
          
<li data-item-id="" data-targets="nav-list.items" data-view-component="true" class="ActionListItem">
    
    <button id="item-d5274d31-9075-4c1b-8663-d72d58e3a1f3" type="button" data-view-component="true" class="ActionListContent ActionListContent--visual16">
        <span class="ActionListItem-visual ActionListItem-visual--leading">
          <span data-view-component="true" class="d-flex flex-items-center">    <svg style="box-sizing: content-box; color: var(--color-icon-primary);" width="16" height="16" viewBox="0 0 16 16" fill="none" data-view-component="true" class="anim-rotate">
  <circle cx="8" cy="8" r="7" stroke="currentColor" stroke-opacity="0.25" stroke-width="2" vector-effect="non-scaling-stroke" />
  <path d="M15 8a7.002 7.002 0 00-7-7" stroke="currentColor" stroke-width="2" stroke-linecap="round" vector-effect="non-scaling-stroke" />
</svg>
</span>
        </span>
      
        <span data-view-component="true" class="ActionListItem-label">
          

  <span class="color-fg-muted">
    Loading...
  </span>

</span></button>
  
  
</li>

        
          
<li data-item-id="" data-targets="nav-list.items" data-view-component="true" class="ActionListItem">
    
    <button id="item-bb2a48ca-0168-4d83-adcf-8ca04b199d90" type="button" data-view-component="true" class="ActionListContent ActionListContent--visual16">
        <span class="ActionListItem-visual ActionListItem-visual--leading">
          <span data-view-component="true" class="d-flex flex-items-center">    <svg style="box-sizing: content-box; color: var(--color-icon-primary);" width="16" height="16" viewBox="0 0 16 16" fill="none" data-view-component="true" class="anim-rotate">
  <circle cx="8" cy="8" r="7" stroke="currentColor" stroke-opacity="0.25" stroke-width="2" vector-effect="non-scaling-stroke" />
  <path d="M15 8a7.002 7.002 0 00-7-7" stroke="currentColor" stroke-width="2" stroke-linecap="round" vector-effect="non-scaling-stroke" />
</svg>
</span>
        </span>
      
        <span data-view-component="true" class="ActionListItem-label">
          

  <span class="color-fg-muted">
    Loading...
  </span>

</span></button>
  
  
</li>

        
          
<li data-item-id="" data-targets="nav-list.items" data-view-component="true" class="ActionListItem">
    
    <a id="item-f5a9e505-cfe2-4d99-8a3c-8e5f0315007c" href="/settings/profile" data-view-component="true" class="ActionListContent ActionListContent--visual16">
        <span class="ActionListItem-visual ActionListItem-visual--leading">
          <svg aria-hidden="true" height="16" viewBox="0 0 16 16" version="1.1" width="16" data-view-component="true" class="octicon octicon-gear">
    <path d="M8 0a8.2 8.2 0 0 1 .701.031C9.444.095 9.99.645 10.16 1.29l.288 1.107c.018.066.079.158.212.224.231.114.454.243.668.386.123.082.233.09.299.071l1.103-.303c.644-.176 1.392.021 1.82.63.27.385.506.792.704 1.218.315.675.111 1.422-.364 1.891l-.814.806c-.049.048-.098.147-.088.294.016.257.016.515 0 .772-.01.147.038.246.088.294l.814.806c.475.469.679 1.216.364 1.891a7.977 7.977 0 0 1-.704 1.217c-.428.61-1.176.807-1.82.63l-1.102-.302c-.067-.019-.177-.011-.3.071a5.909 5.909 0 0 1-.668.386c-.133.066-.194.158-.211.224l-.29 1.106c-.168.646-.715 1.196-1.458 1.26a8.006 8.006 0 0 1-1.402 0c-.743-.064-1.289-.614-1.458-1.26l-.289-1.106c-.018-.066-.079-.158-.212-.224a5.738 5.738 0 0 1-.668-.386c-.123-.082-.233-.09-.299-.071l-1.103.303c-.644.176-1.392-.021-1.82-.63a8.12 8.12 0 0 1-.704-1.218c-.315-.675-.111-1.422.363-1.891l.815-.806c.05-.048.098-.147.088-.294a6.214 6.214 0 0 1 0-.772c.01-.147-.038-.246-.088-.294l-.815-.806C.635 6.045.431 5.298.746 4.623a7.92 7.92 0 0 1 .704-1.217c.428-.61 1.176-.807 1.82-.63l1.102.302c.067.019.177.011.3-.071.214-.143.437-.272.668-.386.133-.066.194-.158.211-.224l.29-1.106C6.009.645 6.556.095 7.299.03 7.53.01 7.764 0 8 0Zm-.571 1.525c-.036.003-.108.036-.137.146l-.289 1.105c-.147.561-.549.967-.998 1.189-.173.086-.34.183-.5.29-.417.278-.97.423-1.529.27l-1.103-.303c-.109-.03-.175.016-.195.045-.22.312-.412.644-.573.99-.014.031-.021.11.059.19l.815.806c.411.406.562.957.53 1.456a4.709 4.709 0 0 0 0 .582c.032.499-.119 1.05-.53 1.456l-.815.806c-.081.08-.073.159-.059.19.162.346.353.677.573.989.02.03.085.076.195.046l1.102-.303c.56-.153 1.113-.008 1.53.27.161.107.328.204.501.29.447.222.85.629.997 1.189l.289 1.105c.029.109.101.143.137.146a6.6 6.6 0 0 0 1.142 0c.036-.003.108-.036.137-.146l.289-1.105c.147-.561.549-.967.998-1.189.173-.086.34-.183.5-.29.417-.278.97-.423 1.529-.27l1.103.303c.109.029.175-.016.195-.045.22-.313.411-.644.573-.99.014-.031.021-.11-.059-.19l-.815-.806c-.411-.406-.562-.957-.53-1.456a4.709 4.709 0 0 0 0-.582c-.032-.499.119-1.05.53-1.456l.815-.806c.081-.08.073-.159.059-.19a6.464 6.464 0 0 0-.573-.989c-.02-.03-.085-.076-.195-.046l-1.102.303c-.56.153-1.113.008-1.53-.27a4.44 4.44 0 0 0-.501-.29c-.447-.222-.85-.629-.997-1.189l-.289-1.105c-.029-.11-.101-.143-.137-.146a6.6 6.6 0 0 0-1.142 0ZM11 8a3 3 0 1 1-6 0 3 3 0 0 1 6 0ZM9.5 8a1.5 1.5 0 1 0-3.001.001A1.5 1.5 0 0 0 9.5 8Z"></path>
</svg>
        </span>
      
        <span data-view-component="true" class="ActionListItem-label">
          Settings
</span></a>
  
  
</li>

        
          <li role="presentation" aria-hidden="true" data-view-component="true" class="ActionList-sectionDivider"></li>
        
          
<li data-item-id="" data-targets="nav-list.items" data-view-component="true" class="ActionListItem">
    
    <a id="item-ac56822a-a7ca-41d6-a5cf-44248b4b4ad0" href="https://docs.github.com" data-view-component="true" class="ActionListContent ActionListContent--visual16">
        <span class="ActionListItem-visual ActionListItem-visual--leading">
          <svg aria-hidden="true" height="16" viewBox="0 0 16 16" version="1.1" width="16" data-view-component="true" class="octicon octicon-book">
    <path d="M0 1.75A.75.75 0 0 1 .75 1h4.253c1.227 0 2.317.59 3 1.501A3.743 3.743 0 0 1 11.006 1h4.245a.75.75 0 0 1 .75.75v10.5a.75.75 0 0 1-.75.75h-4.507a2.25 2.25 0 0 0-1.591.659l-.622.621a.75.75 0 0 1-1.06 0l-.622-.621A2.25 2.25 0 0 0 5.258 13H.75a.75.75 0 0 1-.75-.75Zm7.251 10.324.004-5.073-.002-2.253A2.25 2.25 0 0 0 5.003 2.5H1.5v9h3.757a3.75 3.75 0 0 1 1.994.574ZM8.755 4.75l-.004 7.322a3.752 3.752 0 0 1 1.992-.572H14.5v-9h-3.495a2.25 2.25 0 0 0-2.25 2.25Z"></path>
</svg>
        </span>
      
        <span data-view-component="true" class="ActionListItem-label">
          GitHub Docs
</span></a>
  
  
</li>

        
          
<li data-item-id="" data-targets="nav-list.items" data-view-component="true" class="ActionListItem">
    
    <a id="item-715b7315-a834-4669-92fb-b71489856a10" href="https://support.github.com" data-view-component="true" class="ActionListContent ActionListContent--visual16">
        <span class="ActionListItem-visual ActionListItem-visual--leading">
          <svg aria-hidden="true" height="16" viewBox="0 0 16 16" version="1.1" width="16" data-view-component="true" class="octicon octicon-people">
    <path d="M2 5.5a3.5 3.5 0 1 1 5.898 2.549 5.508 5.508 0 0 1 3.034 4.084.75.75 0 1 1-1.482.235 4 4 0 0 0-7.9 0 .75.75 0 0 1-1.482-.236A5.507 5.507 0 0 1 3.102 8.05 3.493 3.493 0 0 1 2 5.5ZM11 4a3.001 3.001 0 0 1 2.22 5.018 5.01 5.01 0 0 1 2.56 3.012.749.749 0 0 1-.885.954.752.752 0 0 1-.549-.514 3.507 3.507 0 0 0-2.522-2.372.75.75 0 0 1-.574-.73v-.352a.75.75 0 0 1 .416-.672A1.5 1.5 0 0 0 11 5.5.75.75 0 0 1 11 4Zm-5.5-.5a2 2 0 1 0-.001 3.999A2 2 0 0 0 5.5 3.5Z"></path>
</svg>
        </span>
      
        <span data-view-component="true" class="ActionListItem-label">
          GitHub Support
</span></a>
  
  
</li>

        
          <li role="presentation" aria-hidden="true" data-view-component="true" class="ActionList-sectionDivider"></li>
        
          
<li data-item-id="" data-targets="nav-list.items" data-view-component="true" class="ActionListItem">
    
    <a id="item-4fe81244-1f58-422c-ae05-b3eac4ebb4d6" href="/logout" data-view-component="true" class="ActionListContent">
      
        <span data-view-component="true" class="ActionListItem-label">
          Sign out
</span></a>
  
  
</li>

</ul>  </nav-list>
</nav>


</div>
      
</modal-dialog></div>
  </user-drawer-side-panel>

  </include-fragment>
</deferred-side-panel>
        </div>

        <div class="Header-item position-relative mr-2 mt-2">
            
<site-header-logged-in-user-menu>

</site-header-logged-in-user-menu>

        </div>
      </div>
    </div>


      <div class="AppHeader-localBar" >
        <nav data-pjax="#js-repo-pjax-container" aria-label="Repository" data-view-component="true" class="js-repo-nav js-sidenav-container-pjax js-responsive-underlinenav overflow-hidden UnderlineNav">

  <ul data-view-component="true" class="UnderlineNav-body list-style-none">
      <li data-view-component="true" class="d-inline-flex">
  <a id="code-tab" href="/Devarakondadurgaprasad/STAT_ML" data-tab-item="i0code-tab" data-selected-links="repo_source repo_downloads repo_commits repo_releases repo_tags repo_branches repo_packages repo_deployments /Devarakondadurgaprasad/STAT_ML" data-pjax="#repo-content-pjax-container" data-turbo-frame="repo-content-turbo-frame" data-hotkey="g c" data-analytics-event="{&quot;category&quot;:&quot;Underline navbar&quot;,&quot;action&quot;:&quot;Click tab&quot;,&quot;label&quot;:&quot;Code&quot;,&quot;target&quot;:&quot;UNDERLINE_NAV.TAB&quot;}" data-view-component="true" class="UnderlineNav-item no-wrap js-responsive-underlinenav-item js-selected-navigation-item">
    
              <svg aria-hidden="true" height="16" viewBox="0 0 16 16" version="1.1" width="16" data-view-component="true" class="octicon octicon-code UnderlineNav-octicon d-none d-sm-inline">
    <path d="m11.28 3.22 4.25 4.25a.75.75 0 0 1 0 1.06l-4.25 4.25a.749.749 0 0 1-1.275-.326.749.749 0 0 1 .215-.734L13.94 8l-3.72-3.72a.749.749 0 0 1 .326-1.275.749.749 0 0 1 .734.215Zm-6.56 0a.751.751 0 0 1 1.042.018.751.751 0 0 1 .018 1.042L2.06 8l3.72 3.72a.749.749 0 0 1-.326 1.275.749.749 0 0 1-.734-.215L.47 8.53a.75.75 0 0 1 0-1.06Z"></path>
</svg>
        <span data-content="Code">Code</span>
          <span id="code-repo-tab-count" data-pjax-replace="" data-turbo-replace="" title="Not available" data-view-component="true" class="Counter"></span>


    
</a></li>
      <li data-view-component="true" class="d-inline-flex">
  <a id="issues-tab" href="/Devarakondadurgaprasad/STAT_ML/issues" data-tab-item="i1issues-tab" data-selected-links="repo_issues repo_labels repo_milestones /Devarakondadurgaprasad/STAT_ML/issues" data-pjax="#repo-content-pjax-container" data-turbo-frame="repo-content-turbo-frame" data-hotkey="g i" data-analytics-event="{&quot;category&quot;:&quot;Underline navbar&quot;,&quot;action&quot;:&quot;Click tab&quot;,&quot;label&quot;:&quot;Issues&quot;,&quot;target&quot;:&quot;UNDERLINE_NAV.TAB&quot;}" data-view-component="true" class="UnderlineNav-item no-wrap js-responsive-underlinenav-item js-selected-navigation-item">
    
              <svg aria-hidden="true" height="16" viewBox="0 0 16 16" version="1.1" width="16" data-view-component="true" class="octicon octicon-issue-opened UnderlineNav-octicon d-none d-sm-inline">
    <path d="M8 9.5a1.5 1.5 0 1 0 0-3 1.5 1.5 0 0 0 0 3Z"></path><path d="M8 0a8 8 0 1 1 0 16A8 8 0 0 1 8 0ZM1.5 8a6.5 6.5 0 1 0 13 0 6.5 6.5 0 0 0-13 0Z"></path>
</svg>
        <span data-content="Issues">Issues</span>
          <span id="issues-repo-tab-count" data-pjax-replace="" data-turbo-replace="" title="0" hidden="hidden" data-view-component="true" class="Counter">0</span>


    
</a></li>
      <li data-view-component="true" class="d-inline-flex">
  <a id="pull-requests-tab" href="/Devarakondadurgaprasad/STAT_ML/pulls" data-tab-item="i2pull-requests-tab" data-selected-links="repo_pulls checks /Devarakondadurgaprasad/STAT_ML/pulls" data-pjax="#repo-content-pjax-container" data-turbo-frame="repo-content-turbo-frame" data-hotkey="g p" data-analytics-event="{&quot;category&quot;:&quot;Underline navbar&quot;,&quot;action&quot;:&quot;Click tab&quot;,&quot;label&quot;:&quot;Pull requests&quot;,&quot;target&quot;:&quot;UNDERLINE_NAV.TAB&quot;}" data-view-component="true" class="UnderlineNav-item no-wrap js-responsive-underlinenav-item js-selected-navigation-item">
    
              <svg aria-hidden="true" height="16" viewBox="0 0 16 16" version="1.1" width="16" data-view-component="true" class="octicon octicon-git-pull-request UnderlineNav-octicon d-none d-sm-inline">
    <path d="M1.5 3.25a2.25 2.25 0 1 1 3 2.122v5.256a2.251 2.251 0 1 1-1.5 0V5.372A2.25 2.25 0 0 1 1.5 3.25Zm5.677-.177L9.573.677A.25.25 0 0 1 10 .854V2.5h1A2.5 2.5 0 0 1 13.5 5v5.628a2.251 2.251 0 1 1-1.5 0V5a1 1 0 0 0-1-1h-1v1.646a.25.25 0 0 1-.427.177L7.177 3.427a.25.25 0 0 1 0-.354ZM3.75 2.5a.75.75 0 1 0 0 1.5.75.75 0 0 0 0-1.5Zm0 9.5a.75.75 0 1 0 0 1.5.75.75 0 0 0 0-1.5Zm8.25.75a.75.75 0 1 0 1.5 0 .75.75 0 0 0-1.5 0Z"></path>
</svg>
        <span data-content="Pull requests">Pull requests</span>
          <span id="pull-requests-repo-tab-count" data-pjax-replace="" data-turbo-replace="" title="0" hidden="hidden" data-view-component="true" class="Counter">0</span>


    
</a></li>
      <li data-view-component="true" class="d-inline-flex">
  <a id="actions-tab" href="/Devarakondadurgaprasad/STAT_ML/actions" data-tab-item="i3actions-tab" data-selected-links="repo_actions /Devarakondadurgaprasad/STAT_ML/actions" data-pjax="#repo-content-pjax-container" data-turbo-frame="repo-content-turbo-frame" data-hotkey="g a" data-analytics-event="{&quot;category&quot;:&quot;Underline navbar&quot;,&quot;action&quot;:&quot;Click tab&quot;,&quot;label&quot;:&quot;Actions&quot;,&quot;target&quot;:&quot;UNDERLINE_NAV.TAB&quot;}" data-view-component="true" class="UnderlineNav-item no-wrap js-responsive-underlinenav-item js-selected-navigation-item">
    
              <svg aria-hidden="true" height="16" viewBox="0 0 16 16" version="1.1" width="16" data-view-component="true" class="octicon octicon-play UnderlineNav-octicon d-none d-sm-inline">
    <path d="M8 0a8 8 0 1 1 0 16A8 8 0 0 1 8 0ZM1.5 8a6.5 6.5 0 1 0 13 0 6.5 6.5 0 0 0-13 0Zm4.879-2.773 4.264 2.559a.25.25 0 0 1 0 .428l-4.264 2.559A.25.25 0 0 1 6 10.559V5.442a.25.25 0 0 1 .379-.215Z"></path>
</svg>
        <span data-content="Actions">Actions</span>
          <span id="actions-repo-tab-count" data-pjax-replace="" data-turbo-replace="" title="Not available" data-view-component="true" class="Counter"></span>


    
</a></li>
      <li data-view-component="true" class="d-inline-flex">
  <a id="projects-tab" href="/Devarakondadurgaprasad/STAT_ML/projects" data-tab-item="i4projects-tab" data-selected-links="repo_projects new_repo_project repo_project /Devarakondadurgaprasad/STAT_ML/projects" data-pjax="#repo-content-pjax-container" data-turbo-frame="repo-content-turbo-frame" data-hotkey="g b" data-analytics-event="{&quot;category&quot;:&quot;Underline navbar&quot;,&quot;action&quot;:&quot;Click tab&quot;,&quot;label&quot;:&quot;Projects&quot;,&quot;target&quot;:&quot;UNDERLINE_NAV.TAB&quot;}" data-view-component="true" class="UnderlineNav-item no-wrap js-responsive-underlinenav-item js-selected-navigation-item">
    
              <svg aria-hidden="true" height="16" viewBox="0 0 16 16" version="1.1" width="16" data-view-component="true" class="octicon octicon-table UnderlineNav-octicon d-none d-sm-inline">
    <path d="M0 1.75C0 .784.784 0 1.75 0h12.5C15.216 0 16 .784 16 1.75v12.5A1.75 1.75 0 0 1 14.25 16H1.75A1.75 1.75 0 0 1 0 14.25ZM6.5 6.5v8h7.75a.25.25 0 0 0 .25-.25V6.5Zm8-1.5V1.75a.25.25 0 0 0-.25-.25H6.5V5Zm-13 1.5v7.75c0 .138.112.25.25.25H5v-8ZM5 5V1.5H1.75a.25.25 0 0 0-.25.25V5Z"></path>
</svg>
        <span data-content="Projects">Projects</span>
          <span id="projects-repo-tab-count" data-pjax-replace="" data-turbo-replace="" title="0" hidden="hidden" data-view-component="true" class="Counter">0</span>


    
</a></li>
      <li data-view-component="true" class="d-inline-flex">
  <a id="wiki-tab" href="/Devarakondadurgaprasad/STAT_ML/wiki" data-tab-item="i5wiki-tab" data-selected-links="repo_wiki /Devarakondadurgaprasad/STAT_ML/wiki" data-pjax="#repo-content-pjax-container" data-turbo-frame="repo-content-turbo-frame" data-hotkey="g w" data-analytics-event="{&quot;category&quot;:&quot;Underline navbar&quot;,&quot;action&quot;:&quot;Click tab&quot;,&quot;label&quot;:&quot;Wiki&quot;,&quot;target&quot;:&quot;UNDERLINE_NAV.TAB&quot;}" data-view-component="true" class="UnderlineNav-item no-wrap js-responsive-underlinenav-item js-selected-navigation-item">
    
              <svg aria-hidden="true" height="16" viewBox="0 0 16 16" version="1.1" width="16" data-view-component="true" class="octicon octicon-book UnderlineNav-octicon d-none d-sm-inline">
    <path d="M0 1.75A.75.75 0 0 1 .75 1h4.253c1.227 0 2.317.59 3 1.501A3.743 3.743 0 0 1 11.006 1h4.245a.75.75 0 0 1 .75.75v10.5a.75.75 0 0 1-.75.75h-4.507a2.25 2.25 0 0 0-1.591.659l-.622.621a.75.75 0 0 1-1.06 0l-.622-.621A2.25 2.25 0 0 0 5.258 13H.75a.75.75 0 0 1-.75-.75Zm7.251 10.324.004-5.073-.002-2.253A2.25 2.25 0 0 0 5.003 2.5H1.5v9h3.757a3.75 3.75 0 0 1 1.994.574ZM8.755 4.75l-.004 7.322a3.752 3.752 0 0 1 1.992-.572H14.5v-9h-3.495a2.25 2.25 0 0 0-2.25 2.25Z"></path>
</svg>
        <span data-content="Wiki">Wiki</span>
          <span id="wiki-repo-tab-count" data-pjax-replace="" data-turbo-replace="" title="Not available" data-view-component="true" class="Counter"></span>


    
</a></li>
      <li data-view-component="true" class="d-inline-flex">
  <a id="security-tab" href="/Devarakondadurgaprasad/STAT_ML/security" data-tab-item="i6security-tab" data-selected-links="security overview alerts policy token_scanning code_scanning /Devarakondadurgaprasad/STAT_ML/security" data-pjax="#repo-content-pjax-container" data-turbo-frame="repo-content-turbo-frame" data-hotkey="g s" data-analytics-event="{&quot;category&quot;:&quot;Underline navbar&quot;,&quot;action&quot;:&quot;Click tab&quot;,&quot;label&quot;:&quot;Security&quot;,&quot;target&quot;:&quot;UNDERLINE_NAV.TAB&quot;}" data-view-component="true" class="UnderlineNav-item no-wrap js-responsive-underlinenav-item js-selected-navigation-item">
    
              <svg aria-hidden="true" height="16" viewBox="0 0 16 16" version="1.1" width="16" data-view-component="true" class="octicon octicon-shield UnderlineNav-octicon d-none d-sm-inline">
    <path d="M7.467.133a1.748 1.748 0 0 1 1.066 0l5.25 1.68A1.75 1.75 0 0 1 15 3.48V7c0 1.566-.32 3.182-1.303 4.682-.983 1.498-2.585 2.813-5.032 3.855a1.697 1.697 0 0 1-1.33 0c-2.447-1.042-4.049-2.357-5.032-3.855C1.32 10.182 1 8.566 1 7V3.48a1.75 1.75 0 0 1 1.217-1.667Zm.61 1.429a.25.25 0 0 0-.153 0l-5.25 1.68a.25.25 0 0 0-.174.238V7c0 1.358.275 2.666 1.057 3.86.784 1.194 2.121 2.34 4.366 3.297a.196.196 0 0 0 .154 0c2.245-.956 3.582-2.104 4.366-3.298C13.225 9.666 13.5 8.36 13.5 7V3.48a.251.251 0 0 0-.174-.237l-5.25-1.68ZM8.75 4.75v3a.75.75 0 0 1-1.5 0v-3a.75.75 0 0 1 1.5 0ZM9 10.5a1 1 0 1 1-2 0 1 1 0 0 1 2 0Z"></path>
</svg>
        <span data-content="Security">Security</span>
          <include-fragment src="/Devarakondadurgaprasad/STAT_ML/security/overall-count" accept="text/fragment+html"></include-fragment>

    
</a></li>
      <li data-view-component="true" class="d-inline-flex">
  <a id="insights-tab" href="/Devarakondadurgaprasad/STAT_ML/pulse" data-tab-item="i7insights-tab" data-selected-links="repo_graphs repo_contributors dependency_graph dependabot_updates pulse people community /Devarakondadurgaprasad/STAT_ML/pulse" data-pjax="#repo-content-pjax-container" data-turbo-frame="repo-content-turbo-frame" data-analytics-event="{&quot;category&quot;:&quot;Underline navbar&quot;,&quot;action&quot;:&quot;Click tab&quot;,&quot;label&quot;:&quot;Insights&quot;,&quot;target&quot;:&quot;UNDERLINE_NAV.TAB&quot;}" data-view-component="true" class="UnderlineNav-item no-wrap js-responsive-underlinenav-item js-selected-navigation-item">
    
              <svg aria-hidden="true" height="16" viewBox="0 0 16 16" version="1.1" width="16" data-view-component="true" class="octicon octicon-graph UnderlineNav-octicon d-none d-sm-inline">
    <path d="M1.5 1.75V13.5h13.75a.75.75 0 0 1 0 1.5H.75a.75.75 0 0 1-.75-.75V1.75a.75.75 0 0 1 1.5 0Zm14.28 2.53-5.25 5.25a.75.75 0 0 1-1.06 0L7 7.06 4.28 9.78a.751.751 0 0 1-1.042-.018.751.751 0 0 1-.018-1.042l3.25-3.25a.75.75 0 0 1 1.06 0L10 7.94l4.72-4.72a.751.751 0 0 1 1.042.018.751.751 0 0 1 .018 1.042Z"></path>
</svg>
        <span data-content="Insights">Insights</span>
          <span id="insights-repo-tab-count" data-pjax-replace="" data-turbo-replace="" title="Not available" data-view-component="true" class="Counter"></span>


    
</a></li>
      <li data-view-component="true" class="d-inline-flex">
  <a id="settings-tab" href="/Devarakondadurgaprasad/STAT_ML/settings" data-tab-item="i8settings-tab" data-selected-links="code_review_limits codespaces_repository_settings collaborators custom_tabs hooks integration_installations interaction_limits issue_template_editor key_links_settings notifications repo_actions_settings repo_announcements repo_branch_settings repo_keys_settings repo_pages_settings repo_issue_types repo_rule_insights repo_rulesets repo_protected_tags_settings repo_settings reported_content repo_custom_properties repository_actions_settings_add_new_runner repository_actions_settings_general repository_actions_settings_runners repository_environments role_details secrets secrets_settings_actions secrets_settings_codespaces secrets_settings_dependabot security_analysis /Devarakondadurgaprasad/STAT_ML/settings" data-pjax="#repo-content-pjax-container" data-turbo-frame="repo-content-turbo-frame" data-analytics-event="{&quot;category&quot;:&quot;Underline navbar&quot;,&quot;action&quot;:&quot;Click tab&quot;,&quot;label&quot;:&quot;Settings&quot;,&quot;target&quot;:&quot;UNDERLINE_NAV.TAB&quot;}" data-view-component="true" class="UnderlineNav-item no-wrap js-responsive-underlinenav-item js-selected-navigation-item">
    
              <svg aria-hidden="true" height="16" viewBox="0 0 16 16" version="1.1" width="16" data-view-component="true" class="octicon octicon-gear UnderlineNav-octicon d-none d-sm-inline">
    <path d="M8 0a8.2 8.2 0 0 1 .701.031C9.444.095 9.99.645 10.16 1.29l.288 1.107c.018.066.079.158.212.224.231.114.454.243.668.386.123.082.233.09.299.071l1.103-.303c.644-.176 1.392.021 1.82.63.27.385.506.792.704 1.218.315.675.111 1.422-.364 1.891l-.814.806c-.049.048-.098.147-.088.294.016.257.016.515 0 .772-.01.147.038.246.088.294l.814.806c.475.469.679 1.216.364 1.891a7.977 7.977 0 0 1-.704 1.217c-.428.61-1.176.807-1.82.63l-1.102-.302c-.067-.019-.177-.011-.3.071a5.909 5.909 0 0 1-.668.386c-.133.066-.194.158-.211.224l-.29 1.106c-.168.646-.715 1.196-1.458 1.26a8.006 8.006 0 0 1-1.402 0c-.743-.064-1.289-.614-1.458-1.26l-.289-1.106c-.018-.066-.079-.158-.212-.224a5.738 5.738 0 0 1-.668-.386c-.123-.082-.233-.09-.299-.071l-1.103.303c-.644.176-1.392-.021-1.82-.63a8.12 8.12 0 0 1-.704-1.218c-.315-.675-.111-1.422.363-1.891l.815-.806c.05-.048.098-.147.088-.294a6.214 6.214 0 0 1 0-.772c.01-.147-.038-.246-.088-.294l-.815-.806C.635 6.045.431 5.298.746 4.623a7.92 7.92 0 0 1 .704-1.217c.428-.61 1.176-.807 1.82-.63l1.102.302c.067.019.177.011.3-.071.214-.143.437-.272.668-.386.133-.066.194-.158.211-.224l.29-1.106C6.009.645 6.556.095 7.299.03 7.53.01 7.764 0 8 0Zm-.571 1.525c-.036.003-.108.036-.137.146l-.289 1.105c-.147.561-.549.967-.998 1.189-.173.086-.34.183-.5.29-.417.278-.97.423-1.529.27l-1.103-.303c-.109-.03-.175.016-.195.045-.22.312-.412.644-.573.99-.014.031-.021.11.059.19l.815.806c.411.406.562.957.53 1.456a4.709 4.709 0 0 0 0 .582c.032.499-.119 1.05-.53 1.456l-.815.806c-.081.08-.073.159-.059.19.162.346.353.677.573.989.02.03.085.076.195.046l1.102-.303c.56-.153 1.113-.008 1.53.27.161.107.328.204.501.29.447.222.85.629.997 1.189l.289 1.105c.029.109.101.143.137.146a6.6 6.6 0 0 0 1.142 0c.036-.003.108-.036.137-.146l.289-1.105c.147-.561.549-.967.998-1.189.173-.086.34-.183.5-.29.417-.278.97-.423 1.529-.27l1.103.303c.109.029.175-.016.195-.045.22-.313.411-.644.573-.99.014-.031.021-.11-.059-.19l-.815-.806c-.411-.406-.562-.957-.53-1.456a4.709 4.709 0 0 0 0-.582c-.032-.499.119-1.05.53-1.456l.815-.806c.081-.08.073-.159.059-.19a6.464 6.464 0 0 0-.573-.989c-.02-.03-.085-.076-.195-.046l-1.102.303c-.56.153-1.113.008-1.53-.27a4.44 4.44 0 0 0-.501-.29c-.447-.222-.85-.629-.997-1.189l-.289-1.105c-.029-.11-.101-.143-.137-.146a6.6 6.6 0 0 0-1.142 0ZM11 8a3 3 0 1 1-6 0 3 3 0 0 1 6 0ZM9.5 8a1.5 1.5 0 1 0-3.001.001A1.5 1.5 0 0 0 9.5 8Z"></path>
</svg>
        <span data-content="Settings">Settings</span>
          <span id="settings-repo-tab-count" data-pjax-replace="" data-turbo-replace="" title="Not available" data-view-component="true" class="Counter"></span>


    
</a></li>
</ul>
    <div style="visibility:hidden;" data-view-component="true" class="UnderlineNav-actions js-responsive-underlinenav-overflow position-absolute pr-3 pr-md-4 pr-lg-5 right-0">        <details data-view-component="true" class="details-overlay details-reset position-relative">
    <summary role="button" data-view-component="true">          <div class="UnderlineNav-item mr-0 border-0">
            <svg aria-hidden="true" height="16" viewBox="0 0 16 16" version="1.1" width="16" data-view-component="true" class="octicon octicon-kebab-horizontal">
    <path d="M8 9a1.5 1.5 0 1 0 0-3 1.5 1.5 0 0 0 0 3ZM1.5 9a1.5 1.5 0 1 0 0-3 1.5 1.5 0 0 0 0 3Zm13 0a1.5 1.5 0 1 0 0-3 1.5 1.5 0 0 0 0 3Z"></path>
</svg>
            <span class="sr-only">More</span>
          </div>
</summary>
    <details-menu role="menu" data-view-component="true" class="dropdown-menu dropdown-menu-sw">
          <ul>
              <li data-menu-item="i0code-tab" hidden>
                <a role="menuitem" class="js-selected-navigation-item dropdown-item" data-selected-links="repo_source repo_downloads repo_commits repo_releases repo_tags repo_branches repo_packages repo_deployments /Devarakondadurgaprasad/STAT_ML" href="/Devarakondadurgaprasad/STAT_ML">
                  Code
</a>              </li>
              <li data-menu-item="i1issues-tab" hidden>
                <a role="menuitem" class="js-selected-navigation-item dropdown-item" data-selected-links="repo_issues repo_labels repo_milestones /Devarakondadurgaprasad/STAT_ML/issues" href="/Devarakondadurgaprasad/STAT_ML/issues">
                  Issues
</a>              </li>
              <li data-menu-item="i2pull-requests-tab" hidden>
                <a role="menuitem" class="js-selected-navigation-item dropdown-item" data-selected-links="repo_pulls checks /Devarakondadurgaprasad/STAT_ML/pulls" href="/Devarakondadurgaprasad/STAT_ML/pulls">
                  Pull requests
</a>              </li>
              <li data-menu-item="i3actions-tab" hidden>
                <a role="menuitem" class="js-selected-navigation-item dropdown-item" data-selected-links="repo_actions /Devarakondadurgaprasad/STAT_ML/actions" href="/Devarakondadurgaprasad/STAT_ML/actions">
                  Actions
</a>              </li>
              <li data-menu-item="i4projects-tab" hidden>
                <a role="menuitem" class="js-selected-navigation-item dropdown-item" data-selected-links="repo_projects new_repo_project repo_project /Devarakondadurgaprasad/STAT_ML/projects" href="/Devarakondadurgaprasad/STAT_ML/projects">
                  Projects
</a>              </li>
              <li data-menu-item="i5wiki-tab" hidden>
                <a role="menuitem" class="js-selected-navigation-item dropdown-item" data-selected-links="repo_wiki /Devarakondadurgaprasad/STAT_ML/wiki" href="/Devarakondadurgaprasad/STAT_ML/wiki">
                  Wiki
</a>              </li>
              <li data-menu-item="i6security-tab" hidden>
                <a role="menuitem" class="js-selected-navigation-item dropdown-item" data-selected-links="security overview alerts policy token_scanning code_scanning /Devarakondadurgaprasad/STAT_ML/security" href="/Devarakondadurgaprasad/STAT_ML/security">
                  Security
</a>              </li>
              <li data-menu-item="i7insights-tab" hidden>
                <a role="menuitem" class="js-selected-navigation-item dropdown-item" data-selected-links="repo_graphs repo_contributors dependency_graph dependabot_updates pulse people community /Devarakondadurgaprasad/STAT_ML/pulse" href="/Devarakondadurgaprasad/STAT_ML/pulse">
                  Insights
</a>              </li>
              <li data-menu-item="i8settings-tab" hidden>
                <a role="menuitem" class="js-selected-navigation-item dropdown-item" data-selected-links="code_review_limits codespaces_repository_settings collaborators custom_tabs hooks integration_installations interaction_limits issue_template_editor key_links_settings notifications repo_actions_settings repo_announcements repo_branch_settings repo_keys_settings repo_pages_settings repo_issue_types repo_rule_insights repo_rulesets repo_protected_tags_settings repo_settings reported_content repo_custom_properties repository_actions_settings_add_new_runner repository_actions_settings_general repository_actions_settings_runners repository_environments role_details secrets secrets_settings_actions secrets_settings_codespaces secrets_settings_dependabot security_analysis /Devarakondadurgaprasad/STAT_ML/settings" href="/Devarakondadurgaprasad/STAT_ML/settings">
                  Settings
</a>              </li>
          </ul>
</details-menu>
</details></div>
</nav>
      </div>
</header>


      <div hidden="hidden" data-view-component="true" class="js-stale-session-flash flash flash-warn mb-3">
  
        <svg aria-hidden="true" height="16" viewBox="0 0 16 16" version="1.1" width="16" data-view-component="true" class="octicon octicon-alert">
    <path d="M6.457 1.047c.659-1.234 2.427-1.234 3.086 0l6.082 11.378A1.75 1.75 0 0 1 14.082 15H1.918a1.75 1.75 0 0 1-1.543-2.575Zm1.763.707a.25.25 0 0 0-.44 0L1.698 13.132a.25.25 0 0 0 .22.368h12.164a.25.25 0 0 0 .22-.368Zm.53 3.996v2.5a.75.75 0 0 1-1.5 0v-2.5a.75.75 0 0 1 1.5 0ZM9 11a1 1 0 1 1-2 0 1 1 0 0 1 2 0Z"></path>
</svg>
        <span class="js-stale-session-flash-signed-in" hidden>You signed in with another tab or window. <a class="Link--inTextBlock" href="">Reload</a> to refresh your session.</span>
        <span class="js-stale-session-flash-signed-out" hidden>You signed out in another tab or window. <a class="Link--inTextBlock" href="">Reload</a> to refresh your session.</span>
        <span class="js-stale-session-flash-switched" hidden>You switched accounts on another tab or window. <a class="Link--inTextBlock" href="">Reload</a> to refresh your session.</span>

    <button class="flash-close js-flash-close" type="button" aria-label="Close">
      <svg aria-hidden="true" height="16" viewBox="0 0 16 16" version="1.1" width="16" data-view-component="true" class="octicon octicon-x">
    <path d="M3.72 3.72a.75.75 0 0 1 1.06 0L8 6.94l3.22-3.22a.749.749 0 0 1 1.275.326.749.749 0 0 1-.215.734L9.06 8l3.22 3.22a.749.749 0 0 1-.326 1.275.749.749 0 0 1-.734-.215L8 9.06l-3.22 3.22a.751.751 0 0 1-1.042-.018.751.751 0 0 1-.018-1.042L6.94 8 3.72 4.78a.75.75 0 0 1 0-1.06Z"></path>
</svg>
    </button>

  
</div>
          
    </div>

  <div id="start-of-content" class="show-on-focus"></div>








    <div id="js-flash-container" data-turbo-replace>





  <template class="js-flash-template">
    
<div class="flash flash-full   {{ className }}">
  <div class="px-2" >
    <button autofocus class="flash-close js-flash-close" type="button" aria-label="Dismiss this message">
      <svg aria-hidden="true" height="16" viewBox="0 0 16 16" version="1.1" width="16" data-view-component="true" class="octicon octicon-x">
    <path d="M3.72 3.72a.75.75 0 0 1 1.06 0L8 6.94l3.22-3.22a.749.749 0 0 1 1.275.326.749.749 0 0 1-.215.734L9.06 8l3.22 3.22a.749.749 0 0 1-.326 1.275.749.749 0 0 1-.734-.215L8 9.06l-3.22 3.22a.751.751 0 0 1-1.042-.018.751.751 0 0 1-.018-1.042L6.94 8 3.72 4.78a.75.75 0 0 1 0-1.06Z"></path>
</svg>
    </button>
    <div aria-atomic="true" role="alert" class="js-flash-alert">
      
      <div>{{ message }}</div>

    </div>
  </div>
</div>
  </template>
</div>


    
    <notification-shelf-watcher data-base-url="https://github.com/notifications/beta/shelf" data-channel="eyJjIjoibm90aWZpY2F0aW9uLWNoYW5nZWQ6MTMxNzc0NjE2IiwidCI6MTY5MjI0OTQyOH0=--370fdb3778a85cb3cf1c24a987854e1011da045bb630b639faebe18b13a90413" data-view-component="true" class="js-socket-channel"></notification-shelf-watcher>
  <div hidden data-initial data-target="notification-shelf-watcher.placeholder"></div>






      <details
  class="details-reset details-overlay details-overlay-dark js-command-palette-dialog"
  id="command-palette-pjax-container"
  data-turbo-replace
>
  <summary aria-label="command palette trigger" tabindex="-1"></summary>
  <details-dialog class="command-palette-details-dialog d-flex flex-column flex-justify-center height-fit" aria-label="command palette">
    <command-palette
      class="command-palette color-bg-default rounded-3 border color-shadow-small"
      return-to=/Devarakondadurgaprasad/STAT_ML/blob/main/linear_regression.ipynb
      user-id="131774616"
      activation-hotkey="Mod+k,Mod+Alt+k"
      command-mode-hotkey="Mod+Shift+k"
      data-action="
        command-palette-input-ready:command-palette#inputReady
        command-palette-page-stack-updated:command-palette#updateInputScope
        itemsUpdated:command-palette#itemsUpdated
        keydown:command-palette#onKeydown
        loadingStateChanged:command-palette#loadingStateChanged
        selectedItemChanged:command-palette#selectedItemChanged
        pageFetchError:command-palette#pageFetchError
      ">

        <command-palette-mode
          data-char="#"
            data-scope-types="[&quot;&quot;]"
            data-placeholder="Search issues and pull requests"
        ></command-palette-mode>
        <command-palette-mode
          data-char="#"
            data-scope-types="[&quot;owner&quot;,&quot;repository&quot;]"
            data-placeholder="Search issues, pull requests, discussions, and projects"
        ></command-palette-mode>
        <command-palette-mode
          data-char="!"
            data-scope-types="[&quot;owner&quot;,&quot;repository&quot;]"
            data-placeholder="Search projects"
        ></command-palette-mode>
        <command-palette-mode
          data-char="@"
            data-scope-types="[&quot;&quot;]"
            data-placeholder="Search or jump to a user, organization, or repository"
        ></command-palette-mode>
        <command-palette-mode
          data-char="@"
            data-scope-types="[&quot;owner&quot;]"
            data-placeholder="Search or jump to a repository"
        ></command-palette-mode>
        <command-palette-mode
          data-char="/"
            data-scope-types="[&quot;repository&quot;]"
            data-placeholder="Search files"
        ></command-palette-mode>
        <command-palette-mode
          data-char="?"
        ></command-palette-mode>
        <command-palette-mode
          data-char="&gt;"
            data-placeholder="Run a command"
        ></command-palette-mode>
        <command-palette-mode
          data-char=""
            data-scope-types="[&quot;&quot;]"
            data-placeholder="Search or jump to..."
        ></command-palette-mode>
        <command-palette-mode
          data-char=""
            data-scope-types="[&quot;owner&quot;]"
            data-placeholder="Search or jump to..."
        ></command-palette-mode>
      <command-palette-mode
        class="js-command-palette-default-mode"
        data-char=""
        data-placeholder="Search or jump to..."
      ></command-palette-mode>

      <command-palette-input placeholder="Search or jump to..."

        data-action="
          command-palette-input:command-palette#onInput
          command-palette-select:command-palette#onSelect
          command-palette-descope:command-palette#onDescope
          command-palette-cleared:command-palette#onInputClear
        "
      >
        <div class="js-search-icon d-flex flex-items-center mr-2" style="height: 26px">
          <svg aria-hidden="true" height="16" viewBox="0 0 16 16" version="1.1" width="16" data-view-component="true" class="octicon octicon-search color-fg-muted">
    <path d="M10.68 11.74a6 6 0 0 1-7.922-8.982 6 6 0 0 1 8.982 7.922l3.04 3.04a.749.749 0 0 1-.326 1.275.749.749 0 0 1-.734-.215ZM11.5 7a4.499 4.499 0 1 0-8.997 0A4.499 4.499 0 0 0 11.5 7Z"></path>
</svg>
        </div>
        <div class="js-spinner d-flex flex-items-center mr-2 color-fg-muted" hidden>
          <svg aria-label="Loading" class="anim-rotate" viewBox="0 0 16 16" fill="none" width="16" height="16">
            <circle
              cx="8"
              cy="8"
              r="7"
              stroke="currentColor"
              stroke-opacity="0.25"
              stroke-width="2"
              vector-effect="non-scaling-stroke"
            ></circle>
            <path
              d="M15 8a7.002 7.002 0 00-7-7"
              stroke="currentColor"
              stroke-width="2"
              stroke-linecap="round"
              vector-effect="non-scaling-stroke"
            ></path>
          </svg>
        </div>
        <command-palette-scope >
          <div data-target="command-palette-scope.placeholder" hidden class="color-fg-subtle">/&nbsp;&nbsp;<span class="text-semibold color-fg-default">...</span>&nbsp;&nbsp;/&nbsp;&nbsp;</div>
              <command-palette-token
                data-text="Devarakondadurgaprasad"
                data-id="U_kgDOB9q4mA"
                data-type="owner"
                data-value="Devarakondadurgaprasad"
                data-targets="command-palette-scope.tokens"
                class="color-fg-default text-semibold"
                style="white-space:nowrap;line-height:20px;"
                >Devarakondadurgap...<span class="color-fg-subtle text-normal">&nbsp;&nbsp;/&nbsp;&nbsp;</span></command-palette-token>
              <command-palette-token
                data-text="STAT_ML"
                data-id="R_kgDOKGZIWA"
                data-type="repository"
                data-value="STAT_ML"
                data-targets="command-palette-scope.tokens"
                class="color-fg-default text-semibold"
                style="white-space:nowrap;line-height:20px;"
                >STAT_ML<span class="color-fg-subtle text-normal">&nbsp;&nbsp;/&nbsp;&nbsp;</span></command-palette-token>
        </command-palette-scope>
        <div class="command-palette-input-group flex-1 form-control border-0 box-shadow-none" style="z-index: 0">
          <div class="command-palette-typeahead position-absolute d-flex flex-items-center Truncate">
            <span class="typeahead-segment input-mirror" data-target="command-palette-input.mirror"></span>
            <span class="Truncate-text" data-target="command-palette-input.typeaheadText"></span>
            <span class="typeahead-segment" data-target="command-palette-input.typeaheadPlaceholder"></span>
          </div>
          <input
            class="js-overlay-input typeahead-input d-none"
            disabled
            tabindex="-1"
            aria-label="Hidden input for typeahead"
          >
          <input
            type="text"
            autocomplete="off"
            autocorrect="off"
            autocapitalize="off"
            spellcheck="false"
            class="js-input typeahead-input form-control border-0 box-shadow-none input-block width-full no-focus-indicator"
            aria-label="Command palette input"
            aria-haspopup="listbox"
            aria-expanded="false"
            aria-autocomplete="list"
            aria-controls="command-palette-page-stack"
            role="combobox"
            data-action="
              input:command-palette-input#onInput
              keydown:command-palette-input#onKeydown
            "
          >
        </div>
          <div data-view-component="true" class="position-relative d-inline-block">
    <button aria-keyshortcuts="Control+Backspace" data-action="click:command-palette-input#onClear keypress:command-palette-input#onClear" data-target="command-palette-input.clearButton" id="command-palette-clear-button" hidden="hidden" type="button" data-view-component="true" class="btn-octicon command-palette-input-clear-button">      <svg aria-hidden="true" height="16" viewBox="0 0 16 16" version="1.1" width="16" data-view-component="true" class="octicon octicon-x-circle-fill">
    <path d="M2.343 13.657A8 8 0 1 1 13.658 2.343 8 8 0 0 1 2.343 13.657ZM6.03 4.97a.751.751 0 0 0-1.042.018.751.751 0 0 0-.018 1.042L6.94 8 4.97 9.97a.749.749 0 0 0 .326 1.275.749.749 0 0 0 .734-.215L8 9.06l1.97 1.97a.749.749 0 0 0 1.275-.326.749.749 0 0 0-.215-.734L9.06 8l1.97-1.97a.749.749 0 0 0-.326-1.275.749.749 0 0 0-.734.215L8 6.94Z"></path>
</svg>
</button>    <tool-tip id="tooltip-a6221d62-ce73-4e64-9ca6-b6fb6922d152" for="command-palette-clear-button" popover="manual" data-direction="w" data-type="label" data-view-component="true" class="sr-only position-absolute">Clear Command Palette</tool-tip>
</div>
      </command-palette-input>

      <command-palette-page-stack
        data-default-scope-id="R_kgDOKGZIWA"
        data-default-scope-type="Repository"
        data-action="command-palette-page-octicons-cached:command-palette-page-stack#cacheOcticons"
      >
          <command-palette-tip
            class="color-fg-muted f6 px-3 py-1 my-2"
              data-scope-types="[&quot;&quot;,&quot;owner&quot;,&quot;repository&quot;]"
            data-mode=""
            data-value="">
            <div class="d-flex flex-items-start flex-justify-between">
              <div>
                <span class="text-bold">Tip:</span>
                  Type <kbd class="hx_kbd">#</kbd> to search pull requests
              </div>
              <div class="ml-2 flex-shrink-0">
                Type <kbd class="hx_kbd">?</kbd> for help and tips
              </div>
            </div>
          </command-palette-tip>
          <command-palette-tip
            class="color-fg-muted f6 px-3 py-1 my-2"
              data-scope-types="[&quot;&quot;,&quot;owner&quot;,&quot;repository&quot;]"
            data-mode=""
            data-value="">
            <div class="d-flex flex-items-start flex-justify-between">
              <div>
                <span class="text-bold">Tip:</span>
                  Type <kbd class="hx_kbd">#</kbd> to search issues
              </div>
              <div class="ml-2 flex-shrink-0">
                Type <kbd class="hx_kbd">?</kbd> for help and tips
              </div>
            </div>
          </command-palette-tip>
          <command-palette-tip
            class="color-fg-muted f6 px-3 py-1 my-2"
              data-scope-types="[&quot;owner&quot;,&quot;repository&quot;]"
            data-mode=""
            data-value="">
            <div class="d-flex flex-items-start flex-justify-between">
              <div>
                <span class="text-bold">Tip:</span>
                  Type <kbd class="hx_kbd">#</kbd> to search discussions
              </div>
              <div class="ml-2 flex-shrink-0">
                Type <kbd class="hx_kbd">?</kbd> for help and tips
              </div>
            </div>
          </command-palette-tip>
          <command-palette-tip
            class="color-fg-muted f6 px-3 py-1 my-2"
              data-scope-types="[&quot;owner&quot;,&quot;repository&quot;]"
            data-mode=""
            data-value="">
            <div class="d-flex flex-items-start flex-justify-between">
              <div>
                <span class="text-bold">Tip:</span>
                  Type <kbd class="hx_kbd">!</kbd> to search projects
              </div>
              <div class="ml-2 flex-shrink-0">
                Type <kbd class="hx_kbd">?</kbd> for help and tips
              </div>
            </div>
          </command-palette-tip>
          <command-palette-tip
            class="color-fg-muted f6 px-3 py-1 my-2"
              data-scope-types="[&quot;owner&quot;]"
            data-mode=""
            data-value="">
            <div class="d-flex flex-items-start flex-justify-between">
              <div>
                <span class="text-bold">Tip:</span>
                  Type <kbd class="hx_kbd">@</kbd> to search teams
              </div>
              <div class="ml-2 flex-shrink-0">
                Type <kbd class="hx_kbd">?</kbd> for help and tips
              </div>
            </div>
          </command-palette-tip>
          <command-palette-tip
            class="color-fg-muted f6 px-3 py-1 my-2"
              data-scope-types="[&quot;&quot;]"
            data-mode=""
            data-value="">
            <div class="d-flex flex-items-start flex-justify-between">
              <div>
                <span class="text-bold">Tip:</span>
                  Type <kbd class="hx_kbd">@</kbd> to search people and organizations
              </div>
              <div class="ml-2 flex-shrink-0">
                Type <kbd class="hx_kbd">?</kbd> for help and tips
              </div>
            </div>
          </command-palette-tip>
          <command-palette-tip
            class="color-fg-muted f6 px-3 py-1 my-2"
              data-scope-types="[&quot;&quot;,&quot;owner&quot;,&quot;repository&quot;]"
            data-mode=""
            data-value="">
            <div class="d-flex flex-items-start flex-justify-between">
              <div>
                <span class="text-bold">Tip:</span>
                  Type <kbd class="hx_kbd">&gt;</kbd> to activate command mode
              </div>
              <div class="ml-2 flex-shrink-0">
                Type <kbd class="hx_kbd">?</kbd> for help and tips
              </div>
            </div>
          </command-palette-tip>
          <command-palette-tip
            class="color-fg-muted f6 px-3 py-1 my-2"
              data-scope-types="[&quot;&quot;,&quot;owner&quot;,&quot;repository&quot;]"
            data-mode=""
            data-value="">
            <div class="d-flex flex-items-start flex-justify-between">
              <div>
                <span class="text-bold">Tip:</span>
                  Go to your accessibility settings to change your keyboard shortcuts
              </div>
              <div class="ml-2 flex-shrink-0">
                Type <kbd class="hx_kbd">?</kbd> for help and tips
              </div>
            </div>
          </command-palette-tip>
          <command-palette-tip
            class="color-fg-muted f6 px-3 py-1 my-2"
              data-scope-types="[&quot;&quot;,&quot;owner&quot;,&quot;repository&quot;]"
            data-mode="#"
            data-value="">
            <div class="d-flex flex-items-start flex-justify-between">
              <div>
                <span class="text-bold">Tip:</span>
                  Type author:@me to search your content
              </div>
              <div class="ml-2 flex-shrink-0">
                Type <kbd class="hx_kbd">?</kbd> for help and tips
              </div>
            </div>
          </command-palette-tip>
          <command-palette-tip
            class="color-fg-muted f6 px-3 py-1 my-2"
              data-scope-types="[&quot;&quot;,&quot;owner&quot;,&quot;repository&quot;]"
            data-mode="#"
            data-value="">
            <div class="d-flex flex-items-start flex-justify-between">
              <div>
                <span class="text-bold">Tip:</span>
                  Type is:pr to filter to pull requests
              </div>
              <div class="ml-2 flex-shrink-0">
                Type <kbd class="hx_kbd">?</kbd> for help and tips
              </div>
            </div>
          </command-palette-tip>
          <command-palette-tip
            class="color-fg-muted f6 px-3 py-1 my-2"
              data-scope-types="[&quot;&quot;,&quot;owner&quot;,&quot;repository&quot;]"
            data-mode="#"
            data-value="">
            <div class="d-flex flex-items-start flex-justify-between">
              <div>
                <span class="text-bold">Tip:</span>
                  Type is:issue to filter to issues
              </div>
              <div class="ml-2 flex-shrink-0">
                Type <kbd class="hx_kbd">?</kbd> for help and tips
              </div>
            </div>
          </command-palette-tip>
          <command-palette-tip
            class="color-fg-muted f6 px-3 py-1 my-2"
              data-scope-types="[&quot;owner&quot;,&quot;repository&quot;]"
            data-mode="#"
            data-value="">
            <div class="d-flex flex-items-start flex-justify-between">
              <div>
                <span class="text-bold">Tip:</span>
                  Type is:project to filter to projects
              </div>
              <div class="ml-2 flex-shrink-0">
                Type <kbd class="hx_kbd">?</kbd> for help and tips
              </div>
            </div>
          </command-palette-tip>
          <command-palette-tip
            class="color-fg-muted f6 px-3 py-1 my-2"
              data-scope-types="[&quot;&quot;,&quot;owner&quot;,&quot;repository&quot;]"
            data-mode="#"
            data-value="">
            <div class="d-flex flex-items-start flex-justify-between">
              <div>
                <span class="text-bold">Tip:</span>
                  Type is:open to filter to open content
              </div>
              <div class="ml-2 flex-shrink-0">
                Type <kbd class="hx_kbd">?</kbd> for help and tips
              </div>
            </div>
          </command-palette-tip>
        <command-palette-tip class="mx-3 my-2 flash flash-error d-flex flex-items-center" data-scope-types="*" data-on-error>
          <div>
            <svg aria-hidden="true" height="16" viewBox="0 0 16 16" version="1.1" width="16" data-view-component="true" class="octicon octicon-alert">
    <path d="M6.457 1.047c.659-1.234 2.427-1.234 3.086 0l6.082 11.378A1.75 1.75 0 0 1 14.082 15H1.918a1.75 1.75 0 0 1-1.543-2.575Zm1.763.707a.25.25 0 0 0-.44 0L1.698 13.132a.25.25 0 0 0 .22.368h12.164a.25.25 0 0 0 .22-.368Zm.53 3.996v2.5a.75.75 0 0 1-1.5 0v-2.5a.75.75 0 0 1 1.5 0ZM9 11a1 1 0 1 1-2 0 1 1 0 0 1 2 0Z"></path>
</svg>
          </div>
          <div class="px-2">
            We’ve encountered an error and some results aren't available at this time. Type a new search or try again later.
          </div>
        </command-palette-tip>
        <command-palette-tip class="h4 color-fg-default pl-3 pb-2 pt-3" data-on-empty data-scope-types="*" data-match-mode="[^?]|^$">
          No results matched your search
        </command-palette-tip>

        <div hidden>

            <div data-targets="command-palette-page-stack.localOcticons" data-octicon-id="arrow-right-color-fg-muted">
              <svg height="16" class="octicon octicon-arrow-right color-fg-muted" viewBox="0 0 16 16" version="1.1" width="16" aria-hidden="true"><path d="M8.22 2.97a.75.75 0 0 1 1.06 0l4.25 4.25a.75.75 0 0 1 0 1.06l-4.25 4.25a.751.751 0 0 1-1.042-.018.751.751 0 0 1-.018-1.042l2.97-2.97H3.75a.75.75 0 0 1 0-1.5h7.44L8.22 4.03a.75.75 0 0 1 0-1.06Z"></path></svg>
            </div>
            <div data-targets="command-palette-page-stack.localOcticons" data-octicon-id="arrow-right-color-fg-default">
              <svg height="16" class="octicon octicon-arrow-right color-fg-default" viewBox="0 0 16 16" version="1.1" width="16" aria-hidden="true"><path d="M8.22 2.97a.75.75 0 0 1 1.06 0l4.25 4.25a.75.75 0 0 1 0 1.06l-4.25 4.25a.751.751 0 0 1-1.042-.018.751.751 0 0 1-.018-1.042l2.97-2.97H3.75a.75.75 0 0 1 0-1.5h7.44L8.22 4.03a.75.75 0 0 1 0-1.06Z"></path></svg>
            </div>
            <div data-targets="command-palette-page-stack.localOcticons" data-octicon-id="codespaces-color-fg-muted">
              <svg height="16" class="octicon octicon-codespaces color-fg-muted" viewBox="0 0 16 16" version="1.1" width="16" aria-hidden="true"><path d="M0 11.25c0-.966.784-1.75 1.75-1.75h12.5c.966 0 1.75.784 1.75 1.75v3A1.75 1.75 0 0 1 14.25 16H1.75A1.75 1.75 0 0 1 0 14.25Zm2-9.5C2 .784 2.784 0 3.75 0h8.5C13.216 0 14 .784 14 1.75v5a1.75 1.75 0 0 1-1.75 1.75h-8.5A1.75 1.75 0 0 1 2 6.75Zm1.75-.25a.25.25 0 0 0-.25.25v5c0 .138.112.25.25.25h8.5a.25.25 0 0 0 .25-.25v-5a.25.25 0 0 0-.25-.25Zm-2 9.5a.25.25 0 0 0-.25.25v3c0 .138.112.25.25.25h12.5a.25.25 0 0 0 .25-.25v-3a.25.25 0 0 0-.25-.25Z"></path><path d="M7 12.75a.75.75 0 0 1 .75-.75h4.5a.75.75 0 0 1 0 1.5h-4.5a.75.75 0 0 1-.75-.75Zm-4 0a.75.75 0 0 1 .75-.75h.5a.75.75 0 0 1 0 1.5h-.5a.75.75 0 0 1-.75-.75Z"></path></svg>
            </div>
            <div data-targets="command-palette-page-stack.localOcticons" data-octicon-id="copy-color-fg-muted">
              <svg height="16" class="octicon octicon-copy color-fg-muted" viewBox="0 0 16 16" version="1.1" width="16" aria-hidden="true"><path d="M0 6.75C0 5.784.784 5 1.75 5h1.5a.75.75 0 0 1 0 1.5h-1.5a.25.25 0 0 0-.25.25v7.5c0 .138.112.25.25.25h7.5a.25.25 0 0 0 .25-.25v-1.5a.75.75 0 0 1 1.5 0v1.5A1.75 1.75 0 0 1 9.25 16h-7.5A1.75 1.75 0 0 1 0 14.25Z"></path><path d="M5 1.75C5 .784 5.784 0 6.75 0h7.5C15.216 0 16 .784 16 1.75v7.5A1.75 1.75 0 0 1 14.25 11h-7.5A1.75 1.75 0 0 1 5 9.25Zm1.75-.25a.25.25 0 0 0-.25.25v7.5c0 .138.112.25.25.25h7.5a.25.25 0 0 0 .25-.25v-7.5a.25.25 0 0 0-.25-.25Z"></path></svg>
            </div>
            <div data-targets="command-palette-page-stack.localOcticons" data-octicon-id="dash-color-fg-muted">
              <svg height="16" class="octicon octicon-dash color-fg-muted" viewBox="0 0 16 16" version="1.1" width="16" aria-hidden="true"><path d="M2 7.75A.75.75 0 0 1 2.75 7h10a.75.75 0 0 1 0 1.5h-10A.75.75 0 0 1 2 7.75Z"></path></svg>
            </div>
            <div data-targets="command-palette-page-stack.localOcticons" data-octicon-id="file-color-fg-muted">
              <svg height="16" class="octicon octicon-file color-fg-muted" viewBox="0 0 16 16" version="1.1" width="16" aria-hidden="true"><path d="M2 1.75C2 .784 2.784 0 3.75 0h6.586c.464 0 .909.184 1.237.513l2.914 2.914c.329.328.513.773.513 1.237v9.586A1.75 1.75 0 0 1 13.25 16h-9.5A1.75 1.75 0 0 1 2 14.25Zm1.75-.25a.25.25 0 0 0-.25.25v12.5c0 .138.112.25.25.25h9.5a.25.25 0 0 0 .25-.25V6h-2.75A1.75 1.75 0 0 1 9 4.25V1.5Zm6.75.062V4.25c0 .138.112.25.25.25h2.688l-.011-.013-2.914-2.914-.013-.011Z"></path></svg>
            </div>
            <div data-targets="command-palette-page-stack.localOcticons" data-octicon-id="gear-color-fg-muted">
              <svg height="16" class="octicon octicon-gear color-fg-muted" viewBox="0 0 16 16" version="1.1" width="16" aria-hidden="true"><path d="M8 0a8.2 8.2 0 0 1 .701.031C9.444.095 9.99.645 10.16 1.29l.288 1.107c.018.066.079.158.212.224.231.114.454.243.668.386.123.082.233.09.299.071l1.103-.303c.644-.176 1.392.021 1.82.63.27.385.506.792.704 1.218.315.675.111 1.422-.364 1.891l-.814.806c-.049.048-.098.147-.088.294.016.257.016.515 0 .772-.01.147.038.246.088.294l.814.806c.475.469.679 1.216.364 1.891a7.977 7.977 0 0 1-.704 1.217c-.428.61-1.176.807-1.82.63l-1.102-.302c-.067-.019-.177-.011-.3.071a5.909 5.909 0 0 1-.668.386c-.133.066-.194.158-.211.224l-.29 1.106c-.168.646-.715 1.196-1.458 1.26a8.006 8.006 0 0 1-1.402 0c-.743-.064-1.289-.614-1.458-1.26l-.289-1.106c-.018-.066-.079-.158-.212-.224a5.738 5.738 0 0 1-.668-.386c-.123-.082-.233-.09-.299-.071l-1.103.303c-.644.176-1.392-.021-1.82-.63a8.12 8.12 0 0 1-.704-1.218c-.315-.675-.111-1.422.363-1.891l.815-.806c.05-.048.098-.147.088-.294a6.214 6.214 0 0 1 0-.772c.01-.147-.038-.246-.088-.294l-.815-.806C.635 6.045.431 5.298.746 4.623a7.92 7.92 0 0 1 .704-1.217c.428-.61 1.176-.807 1.82-.63l1.102.302c.067.019.177.011.3-.071.214-.143.437-.272.668-.386.133-.066.194-.158.211-.224l.29-1.106C6.009.645 6.556.095 7.299.03 7.53.01 7.764 0 8 0Zm-.571 1.525c-.036.003-.108.036-.137.146l-.289 1.105c-.147.561-.549.967-.998 1.189-.173.086-.34.183-.5.29-.417.278-.97.423-1.529.27l-1.103-.303c-.109-.03-.175.016-.195.045-.22.312-.412.644-.573.99-.014.031-.021.11.059.19l.815.806c.411.406.562.957.53 1.456a4.709 4.709 0 0 0 0 .582c.032.499-.119 1.05-.53 1.456l-.815.806c-.081.08-.073.159-.059.19.162.346.353.677.573.989.02.03.085.076.195.046l1.102-.303c.56-.153 1.113-.008 1.53.27.161.107.328.204.501.29.447.222.85.629.997 1.189l.289 1.105c.029.109.101.143.137.146a6.6 6.6 0 0 0 1.142 0c.036-.003.108-.036.137-.146l.289-1.105c.147-.561.549-.967.998-1.189.173-.086.34-.183.5-.29.417-.278.97-.423 1.529-.27l1.103.303c.109.029.175-.016.195-.045.22-.313.411-.644.573-.99.014-.031.021-.11-.059-.19l-.815-.806c-.411-.406-.562-.957-.53-1.456a4.709 4.709 0 0 0 0-.582c-.032-.499.119-1.05.53-1.456l.815-.806c.081-.08.073-.159.059-.19a6.464 6.464 0 0 0-.573-.989c-.02-.03-.085-.076-.195-.046l-1.102.303c-.56.153-1.113.008-1.53-.27a4.44 4.44 0 0 0-.501-.29c-.447-.222-.85-.629-.997-1.189l-.289-1.105c-.029-.11-.101-.143-.137-.146a6.6 6.6 0 0 0-1.142 0ZM11 8a3 3 0 1 1-6 0 3 3 0 0 1 6 0ZM9.5 8a1.5 1.5 0 1 0-3.001.001A1.5 1.5 0 0 0 9.5 8Z"></path></svg>
            </div>
            <div data-targets="command-palette-page-stack.localOcticons" data-octicon-id="lock-color-fg-muted">
              <svg height="16" class="octicon octicon-lock color-fg-muted" viewBox="0 0 16 16" version="1.1" width="16" aria-hidden="true"><path d="M4 4a4 4 0 0 1 8 0v2h.25c.966 0 1.75.784 1.75 1.75v5.5A1.75 1.75 0 0 1 12.25 15h-8.5A1.75 1.75 0 0 1 2 13.25v-5.5C2 6.784 2.784 6 3.75 6H4Zm8.25 3.5h-8.5a.25.25 0 0 0-.25.25v5.5c0 .138.112.25.25.25h8.5a.25.25 0 0 0 .25-.25v-5.5a.25.25 0 0 0-.25-.25ZM10.5 6V4a2.5 2.5 0 1 0-5 0v2Z"></path></svg>
            </div>
            <div data-targets="command-palette-page-stack.localOcticons" data-octicon-id="moon-color-fg-muted">
              <svg height="16" class="octicon octicon-moon color-fg-muted" viewBox="0 0 16 16" version="1.1" width="16" aria-hidden="true"><path d="M9.598 1.591a.749.749 0 0 1 .785-.175 7.001 7.001 0 1 1-8.967 8.967.75.75 0 0 1 .961-.96 5.5 5.5 0 0 0 7.046-7.046.75.75 0 0 1 .175-.786Zm1.616 1.945a7 7 0 0 1-7.678 7.678 5.499 5.499 0 1 0 7.678-7.678Z"></path></svg>
            </div>
            <div data-targets="command-palette-page-stack.localOcticons" data-octicon-id="person-color-fg-muted">
              <svg height="16" class="octicon octicon-person color-fg-muted" viewBox="0 0 16 16" version="1.1" width="16" aria-hidden="true"><path d="M10.561 8.073a6.005 6.005 0 0 1 3.432 5.142.75.75 0 1 1-1.498.07 4.5 4.5 0 0 0-8.99 0 .75.75 0 0 1-1.498-.07 6.004 6.004 0 0 1 3.431-5.142 3.999 3.999 0 1 1 5.123 0ZM10.5 5a2.5 2.5 0 1 0-5 0 2.5 2.5 0 0 0 5 0Z"></path></svg>
            </div>
            <div data-targets="command-palette-page-stack.localOcticons" data-octicon-id="pencil-color-fg-muted">
              <svg height="16" class="octicon octicon-pencil color-fg-muted" viewBox="0 0 16 16" version="1.1" width="16" aria-hidden="true"><path d="M11.013 1.427a1.75 1.75 0 0 1 2.474 0l1.086 1.086a1.75 1.75 0 0 1 0 2.474l-8.61 8.61c-.21.21-.47.364-.756.445l-3.251.93a.75.75 0 0 1-.927-.928l.929-3.25c.081-.286.235-.547.445-.758l8.61-8.61Zm.176 4.823L9.75 4.81l-6.286 6.287a.253.253 0 0 0-.064.108l-.558 1.953 1.953-.558a.253.253 0 0 0 .108-.064Zm1.238-3.763a.25.25 0 0 0-.354 0L10.811 3.75l1.439 1.44 1.263-1.263a.25.25 0 0 0 0-.354Z"></path></svg>
            </div>
            <div data-targets="command-palette-page-stack.localOcticons" data-octicon-id="issue-opened-open">
              <svg height="16" class="octicon octicon-issue-opened open" viewBox="0 0 16 16" version="1.1" width="16" aria-hidden="true"><path d="M8 9.5a1.5 1.5 0 1 0 0-3 1.5 1.5 0 0 0 0 3Z"></path><path d="M8 0a8 8 0 1 1 0 16A8 8 0 0 1 8 0ZM1.5 8a6.5 6.5 0 1 0 13 0 6.5 6.5 0 0 0-13 0Z"></path></svg>
            </div>
            <div data-targets="command-palette-page-stack.localOcticons" data-octicon-id="git-pull-request-draft-color-fg-muted">
              <svg height="16" class="octicon octicon-git-pull-request-draft color-fg-muted" viewBox="0 0 16 16" version="1.1" width="16" aria-hidden="true"><path d="M3.25 1A2.25 2.25 0 0 1 4 5.372v5.256a2.251 2.251 0 1 1-1.5 0V5.372A2.251 2.251 0 0 1 3.25 1Zm9.5 14a2.25 2.25 0 1 1 0-4.5 2.25 2.25 0 0 1 0 4.5ZM2.5 3.25a.75.75 0 1 0 1.5 0 .75.75 0 0 0-1.5 0ZM3.25 12a.75.75 0 1 0 0 1.5.75.75 0 0 0 0-1.5Zm9.5 0a.75.75 0 1 0 0 1.5.75.75 0 0 0 0-1.5ZM14 7.5a1.25 1.25 0 1 1-2.5 0 1.25 1.25 0 0 1 2.5 0Zm0-4.25a1.25 1.25 0 1 1-2.5 0 1.25 1.25 0 0 1 2.5 0Z"></path></svg>
            </div>
            <div data-targets="command-palette-page-stack.localOcticons" data-octicon-id="search-color-fg-muted">
              <svg height="16" class="octicon octicon-search color-fg-muted" viewBox="0 0 16 16" version="1.1" width="16" aria-hidden="true"><path d="M10.68 11.74a6 6 0 0 1-7.922-8.982 6 6 0 0 1 8.982 7.922l3.04 3.04a.749.749 0 0 1-.326 1.275.749.749 0 0 1-.734-.215ZM11.5 7a4.499 4.499 0 1 0-8.997 0A4.499 4.499 0 0 0 11.5 7Z"></path></svg>
            </div>
            <div data-targets="command-palette-page-stack.localOcticons" data-octicon-id="sun-color-fg-muted">
              <svg height="16" class="octicon octicon-sun color-fg-muted" viewBox="0 0 16 16" version="1.1" width="16" aria-hidden="true"><path d="M8 12a4 4 0 1 1 0-8 4 4 0 0 1 0 8Zm0-1.5a2.5 2.5 0 1 0 0-5 2.5 2.5 0 0 0 0 5Zm5.657-8.157a.75.75 0 0 1 0 1.061l-1.061 1.06a.749.749 0 0 1-1.275-.326.749.749 0 0 1 .215-.734l1.06-1.06a.75.75 0 0 1 1.06 0Zm-9.193 9.193a.75.75 0 0 1 0 1.06l-1.06 1.061a.75.75 0 1 1-1.061-1.06l1.06-1.061a.75.75 0 0 1 1.061 0ZM8 0a.75.75 0 0 1 .75.75v1.5a.75.75 0 0 1-1.5 0V.75A.75.75 0 0 1 8 0ZM3 8a.75.75 0 0 1-.75.75H.75a.75.75 0 0 1 0-1.5h1.5A.75.75 0 0 1 3 8Zm13 0a.75.75 0 0 1-.75.75h-1.5a.75.75 0 0 1 0-1.5h1.5A.75.75 0 0 1 16 8Zm-8 5a.75.75 0 0 1 .75.75v1.5a.75.75 0 0 1-1.5 0v-1.5A.75.75 0 0 1 8 13Zm3.536-1.464a.75.75 0 0 1 1.06 0l1.061 1.06a.75.75 0 0 1-1.06 1.061l-1.061-1.06a.75.75 0 0 1 0-1.061ZM2.343 2.343a.75.75 0 0 1 1.061 0l1.06 1.061a.751.751 0 0 1-.018 1.042.751.751 0 0 1-1.042.018l-1.06-1.06a.75.75 0 0 1 0-1.06Z"></path></svg>
            </div>
            <div data-targets="command-palette-page-stack.localOcticons" data-octicon-id="sync-color-fg-muted">
              <svg height="16" class="octicon octicon-sync color-fg-muted" viewBox="0 0 16 16" version="1.1" width="16" aria-hidden="true"><path d="M1.705 8.005a.75.75 0 0 1 .834.656 5.5 5.5 0 0 0 9.592 2.97l-1.204-1.204a.25.25 0 0 1 .177-.427h3.646a.25.25 0 0 1 .25.25v3.646a.25.25 0 0 1-.427.177l-1.38-1.38A7.002 7.002 0 0 1 1.05 8.84a.75.75 0 0 1 .656-.834ZM8 2.5a5.487 5.487 0 0 0-4.131 1.869l1.204 1.204A.25.25 0 0 1 4.896 6H1.25A.25.25 0 0 1 1 5.75V2.104a.25.25 0 0 1 .427-.177l1.38 1.38A7.002 7.002 0 0 1 14.95 7.16a.75.75 0 0 1-1.49.178A5.5 5.5 0 0 0 8 2.5Z"></path></svg>
            </div>
            <div data-targets="command-palette-page-stack.localOcticons" data-octicon-id="trash-color-fg-muted">
              <svg height="16" class="octicon octicon-trash color-fg-muted" viewBox="0 0 16 16" version="1.1" width="16" aria-hidden="true"><path d="M11 1.75V3h2.25a.75.75 0 0 1 0 1.5H2.75a.75.75 0 0 1 0-1.5H5V1.75C5 .784 5.784 0 6.75 0h2.5C10.216 0 11 .784 11 1.75ZM4.496 6.675l.66 6.6a.25.25 0 0 0 .249.225h5.19a.25.25 0 0 0 .249-.225l.66-6.6a.75.75 0 0 1 1.492.149l-.66 6.6A1.748 1.748 0 0 1 10.595 15h-5.19a1.75 1.75 0 0 1-1.741-1.575l-.66-6.6a.75.75 0 1 1 1.492-.15ZM6.5 1.75V3h3V1.75a.25.25 0 0 0-.25-.25h-2.5a.25.25 0 0 0-.25.25Z"></path></svg>
            </div>
            <div data-targets="command-palette-page-stack.localOcticons" data-octicon-id="key-color-fg-muted">
              <svg height="16" class="octicon octicon-key color-fg-muted" viewBox="0 0 16 16" version="1.1" width="16" aria-hidden="true"><path d="M10.5 0a5.499 5.499 0 1 1-1.288 10.848l-.932.932a.749.749 0 0 1-.53.22H7v.75a.749.749 0 0 1-.22.53l-.5.5a.749.749 0 0 1-.53.22H5v.75a.749.749 0 0 1-.22.53l-.5.5a.749.749 0 0 1-.53.22h-2A1.75 1.75 0 0 1 0 14.25v-2c0-.199.079-.389.22-.53l4.932-4.932A5.5 5.5 0 0 1 10.5 0Zm-4 5.5c-.001.431.069.86.205 1.269a.75.75 0 0 1-.181.768L1.5 12.56v1.69c0 .138.112.25.25.25h1.69l.06-.06v-1.19a.75.75 0 0 1 .75-.75h1.19l.06-.06v-1.19a.75.75 0 0 1 .75-.75h1.19l1.023-1.025a.75.75 0 0 1 .768-.18A4 4 0 1 0 6.5 5.5ZM11 6a1 1 0 1 1 0-2 1 1 0 0 1 0 2Z"></path></svg>
            </div>
            <div data-targets="command-palette-page-stack.localOcticons" data-octicon-id="comment-discussion-color-fg-muted">
              <svg height="16" class="octicon octicon-comment-discussion color-fg-muted" viewBox="0 0 16 16" version="1.1" width="16" aria-hidden="true"><path d="M1.75 1h8.5c.966 0 1.75.784 1.75 1.75v5.5A1.75 1.75 0 0 1 10.25 10H7.061l-2.574 2.573A1.458 1.458 0 0 1 2 11.543V10h-.25A1.75 1.75 0 0 1 0 8.25v-5.5C0 1.784.784 1 1.75 1ZM1.5 2.75v5.5c0 .138.112.25.25.25h1a.75.75 0 0 1 .75.75v2.19l2.72-2.72a.749.749 0 0 1 .53-.22h3.5a.25.25 0 0 0 .25-.25v-5.5a.25.25 0 0 0-.25-.25h-8.5a.25.25 0 0 0-.25.25Zm13 2a.25.25 0 0 0-.25-.25h-.5a.75.75 0 0 1 0-1.5h.5c.966 0 1.75.784 1.75 1.75v5.5A1.75 1.75 0 0 1 14.25 12H14v1.543a1.458 1.458 0 0 1-2.487 1.03L9.22 12.28a.749.749 0 0 1 .326-1.275.749.749 0 0 1 .734.215l2.22 2.22v-2.19a.75.75 0 0 1 .75-.75h1a.25.25 0 0 0 .25-.25Z"></path></svg>
            </div>
            <div data-targets="command-palette-page-stack.localOcticons" data-octicon-id="bell-color-fg-muted">
              <svg height="16" class="octicon octicon-bell color-fg-muted" viewBox="0 0 16 16" version="1.1" width="16" aria-hidden="true"><path d="M8 16a2 2 0 0 0 1.985-1.75c.017-.137-.097-.25-.235-.25h-3.5c-.138 0-.252.113-.235.25A2 2 0 0 0 8 16ZM3 5a5 5 0 0 1 10 0v2.947c0 .05.015.098.042.139l1.703 2.555A1.519 1.519 0 0 1 13.482 13H2.518a1.516 1.516 0 0 1-1.263-2.36l1.703-2.554A.255.255 0 0 0 3 7.947Zm5-3.5A3.5 3.5 0 0 0 4.5 5v2.947c0 .346-.102.683-.294.97l-1.703 2.556a.017.017 0 0 0-.003.01l.001.006c0 .002.002.004.004.006l.006.004.007.001h10.964l.007-.001.006-.004.004-.006.001-.007a.017.017 0 0 0-.003-.01l-1.703-2.554a1.745 1.745 0 0 1-.294-.97V5A3.5 3.5 0 0 0 8 1.5Z"></path></svg>
            </div>
            <div data-targets="command-palette-page-stack.localOcticons" data-octicon-id="bell-slash-color-fg-muted">
              <svg height="16" class="octicon octicon-bell-slash color-fg-muted" viewBox="0 0 16 16" version="1.1" width="16" aria-hidden="true"><path d="m4.182 4.31.016.011 10.104 7.316.013.01 1.375.996a.75.75 0 1 1-.88 1.214L13.626 13H2.518a1.516 1.516 0 0 1-1.263-2.36l1.703-2.554A.255.255 0 0 0 3 7.947V5.305L.31 3.357a.75.75 0 1 1 .88-1.214Zm7.373 7.19L4.5 6.391v1.556c0 .346-.102.683-.294.97l-1.703 2.556a.017.017 0 0 0-.003.01c0 .005.002.009.005.012l.006.004.007.001ZM8 1.5c-.997 0-1.895.416-2.534 1.086A.75.75 0 1 1 4.38 1.55 5 5 0 0 1 13 5v2.373a.75.75 0 0 1-1.5 0V5A3.5 3.5 0 0 0 8 1.5ZM8 16a2 2 0 0 1-1.985-1.75c-.017-.137.097-.25.235-.25h3.5c.138 0 .252.113.235.25A2 2 0 0 1 8 16Z"></path></svg>
            </div>
            <div data-targets="command-palette-page-stack.localOcticons" data-octicon-id="paintbrush-color-fg-muted">
              <svg height="16" class="octicon octicon-paintbrush color-fg-muted" viewBox="0 0 16 16" version="1.1" width="16" aria-hidden="true"><path d="M11.134 1.535c.7-.509 1.416-.942 2.076-1.155.649-.21 1.463-.267 2.069.34.603.601.568 1.411.368 2.07-.202.668-.624 1.39-1.125 2.096-1.011 1.424-2.496 2.987-3.775 4.249-1.098 1.084-2.132 1.839-3.04 2.3a3.744 3.744 0 0 1-1.055 3.217c-.431.431-1.065.691-1.657.861-.614.177-1.294.287-1.914.357A21.151 21.151 0 0 1 .797 16H.743l.007-.75H.749L.742 16a.75.75 0 0 1-.743-.742l.743-.008-.742.007v-.054a21.25 21.25 0 0 1 .13-2.284c.067-.647.187-1.287.358-1.914.17-.591.43-1.226.86-1.657a3.746 3.746 0 0 1 3.227-1.054c.466-.893 1.225-1.907 2.314-2.982 1.271-1.255 2.833-2.75 4.245-3.777ZM1.62 13.089c-.051.464-.086.929-.104 1.395.466-.018.932-.053 1.396-.104a10.511 10.511 0 0 0 1.668-.309c.526-.151.856-.325 1.011-.48a2.25 2.25 0 1 0-3.182-3.182c-.155.155-.329.485-.48 1.01a10.515 10.515 0 0 0-.309 1.67Zm10.396-10.34c-1.224.89-2.605 2.189-3.822 3.384l1.718 1.718c1.21-1.205 2.51-2.597 3.387-3.833.47-.662.78-1.227.912-1.662.134-.444.032-.551.009-.575h-.001V1.78c-.014-.014-.113-.113-.548.027-.432.14-.995.462-1.655.942Zm-4.832 7.266-.001.001a9.859 9.859 0 0 0 1.63-1.142L7.155 7.216a9.7 9.7 0 0 0-1.161 1.607c.482.302.889.71 1.19 1.192Z"></path></svg>
            </div>

            <command-palette-item-group
              data-group-id="top"
              data-group-title="Top result"
              data-group-hint=""
              data-group-limits="{}"
              data-default-priority="0"
            >
            </command-palette-item-group>
            <command-palette-item-group
              data-group-id="commands"
              data-group-title="Commands"
              data-group-hint="Type &gt; to filter"
              data-group-limits="{&quot;static_items_page&quot;:50,&quot;issue&quot;:50,&quot;pull_request&quot;:50,&quot;discussion&quot;:50}"
              data-default-priority="1"
            >
            </command-palette-item-group>
            <command-palette-item-group
              data-group-id="global_commands"
              data-group-title="Global Commands"
              data-group-hint="Type &gt; to filter"
              data-group-limits="{&quot;issue&quot;:0,&quot;pull_request&quot;:0,&quot;discussion&quot;:0}"
              data-default-priority="2"
            >
            </command-palette-item-group>
            <command-palette-item-group
              data-group-id="this_page"
              data-group-title="This Page"
              data-group-hint=""
              data-group-limits="{}"
              data-default-priority="3"
            >
            </command-palette-item-group>
            <command-palette-item-group
              data-group-id="files"
              data-group-title="Files"
              data-group-hint=""
              data-group-limits="{}"
              data-default-priority="4"
            >
            </command-palette-item-group>
            <command-palette-item-group
              data-group-id="default"
              data-group-title="Default"
              data-group-hint=""
              data-group-limits="{&quot;static_items_page&quot;:50}"
              data-default-priority="5"
            >
            </command-palette-item-group>
            <command-palette-item-group
              data-group-id="pages"
              data-group-title="Pages"
              data-group-hint=""
              data-group-limits="{&quot;repository&quot;:10}"
              data-default-priority="6"
            >
            </command-palette-item-group>
            <command-palette-item-group
              data-group-id="access_policies"
              data-group-title="Access Policies"
              data-group-hint=""
              data-group-limits="{}"
              data-default-priority="7"
            >
            </command-palette-item-group>
            <command-palette-item-group
              data-group-id="organizations"
              data-group-title="Organizations"
              data-group-hint=""
              data-group-limits="{}"
              data-default-priority="8"
            >
            </command-palette-item-group>
            <command-palette-item-group
              data-group-id="repositories"
              data-group-title="Repositories"
              data-group-hint=""
              data-group-limits="{}"
              data-default-priority="9"
            >
            </command-palette-item-group>
            <command-palette-item-group
              data-group-id="references"
              data-group-title="Issues, pull requests, and discussions"
              data-group-hint="Type # to filter"
              data-group-limits="{}"
              data-default-priority="10"
            >
            </command-palette-item-group>
            <command-palette-item-group
              data-group-id="teams"
              data-group-title="Teams"
              data-group-hint=""
              data-group-limits="{}"
              data-default-priority="11"
            >
            </command-palette-item-group>
            <command-palette-item-group
              data-group-id="users"
              data-group-title="Users"
              data-group-hint=""
              data-group-limits="{}"
              data-default-priority="12"
            >
            </command-palette-item-group>
            <command-palette-item-group
              data-group-id="memex_projects"
              data-group-title="Projects"
              data-group-hint=""
              data-group-limits="{}"
              data-default-priority="13"
            >
            </command-palette-item-group>
            <command-palette-item-group
              data-group-id="projects"
              data-group-title="Projects (classic)"
              data-group-hint=""
              data-group-limits="{}"
              data-default-priority="14"
            >
            </command-palette-item-group>
            <command-palette-item-group
              data-group-id="footer"
              data-group-title="Footer"
              data-group-hint=""
              data-group-limits="{}"
              data-default-priority="15"
            >
            </command-palette-item-group>
            <command-palette-item-group
              data-group-id="modes_help"
              data-group-title="Modes"
              data-group-hint=""
              data-group-limits="{}"
              data-default-priority="16"
            >
            </command-palette-item-group>
            <command-palette-item-group
              data-group-id="filters_help"
              data-group-title="Use filters in issues, pull requests, discussions, and projects"
              data-group-hint=""
              data-group-limits="{}"
              data-default-priority="17"
            >
            </command-palette-item-group>

            <command-palette-page
              data-page-title="Devarakondadurgaprasad"
              data-scope-id="U_kgDOB9q4mA"
              data-scope-type="owner"
              data-targets="command-palette-page-stack.defaultPages"
              hidden
            >
            </command-palette-page>
            <command-palette-page
              data-page-title="STAT_ML"
              data-scope-id="R_kgDOKGZIWA"
              data-scope-type="repository"
              data-targets="command-palette-page-stack.defaultPages"
              hidden
            >
            </command-palette-page>
        </div>

        <command-palette-page data-is-root>
        </command-palette-page>
          <command-palette-page
            data-page-title="Devarakondadurgaprasad"
            data-scope-id="U_kgDOB9q4mA"
            data-scope-type="owner"
          >
          </command-palette-page>
          <command-palette-page
            data-page-title="STAT_ML"
            data-scope-id="R_kgDOKGZIWA"
            data-scope-type="repository"
          >
          </command-palette-page>
      </command-palette-page-stack>

      <server-defined-provider data-type="search-links" data-targets="command-palette.serverDefinedProviderElements"></server-defined-provider>
      <server-defined-provider data-type="help" data-targets="command-palette.serverDefinedProviderElements">
          <command-palette-help
            data-group="modes_help"
              data-prefix="#"
              data-scope-types="[&quot;&quot;]"
          >
            <span data-target="command-palette-help.titleElement">Search for <strong>issues</strong> and <strong>pull requests</strong></span>
              <span data-target="command-palette-help.hintElement">
                <kbd class="hx_kbd">#</kbd>
              </span>
          </command-palette-help>
          <command-palette-help
            data-group="modes_help"
              data-prefix="#"
              data-scope-types="[&quot;owner&quot;,&quot;repository&quot;]"
          >
            <span data-target="command-palette-help.titleElement">Search for <strong>issues, pull requests, discussions,</strong> and <strong>projects</strong></span>
              <span data-target="command-palette-help.hintElement">
                <kbd class="hx_kbd">#</kbd>
              </span>
          </command-palette-help>
          <command-palette-help
            data-group="modes_help"
              data-prefix="@"
              data-scope-types="[&quot;&quot;]"
          >
            <span data-target="command-palette-help.titleElement">Search for <strong>organizations, repositories,</strong> and <strong>users</strong></span>
              <span data-target="command-palette-help.hintElement">
                <kbd class="hx_kbd">@</kbd>
              </span>
          </command-palette-help>
          <command-palette-help
            data-group="modes_help"
              data-prefix="!"
              data-scope-types="[&quot;owner&quot;,&quot;repository&quot;]"
          >
            <span data-target="command-palette-help.titleElement">Search for <strong>projects</strong></span>
              <span data-target="command-palette-help.hintElement">
                <kbd class="hx_kbd">!</kbd>
              </span>
          </command-palette-help>
          <command-palette-help
            data-group="modes_help"
              data-prefix="/"
              data-scope-types="[&quot;repository&quot;]"
          >
            <span data-target="command-palette-help.titleElement">Search for <strong>files</strong></span>
              <span data-target="command-palette-help.hintElement">
                <kbd class="hx_kbd">/</kbd>
              </span>
          </command-palette-help>
          <command-palette-help
            data-group="modes_help"
              data-prefix="&gt;"
          >
            <span data-target="command-palette-help.titleElement">Activate <strong>command mode</strong></span>
              <span data-target="command-palette-help.hintElement">
                <kbd class="hx_kbd">&gt;</kbd>
              </span>
          </command-palette-help>
          <command-palette-help
            data-group="filters_help"
              data-prefix="# author:@me"
          >
            <span data-target="command-palette-help.titleElement">Search your issues, pull requests, and discussions</span>
              <span data-target="command-palette-help.hintElement">
                <kbd class="hx_kbd"># author:@me</kbd>
              </span>
          </command-palette-help>
          <command-palette-help
            data-group="filters_help"
              data-prefix="# author:@me"
          >
            <span data-target="command-palette-help.titleElement">Search your issues, pull requests, and discussions</span>
              <span data-target="command-palette-help.hintElement">
                <kbd class="hx_kbd"># author:@me</kbd>
              </span>
          </command-palette-help>
          <command-palette-help
            data-group="filters_help"
              data-prefix="# is:pr"
          >
            <span data-target="command-palette-help.titleElement">Filter to pull requests</span>
              <span data-target="command-palette-help.hintElement">
                <kbd class="hx_kbd"># is:pr</kbd>
              </span>
          </command-palette-help>
          <command-palette-help
            data-group="filters_help"
              data-prefix="# is:issue"
          >
            <span data-target="command-palette-help.titleElement">Filter to issues</span>
              <span data-target="command-palette-help.hintElement">
                <kbd class="hx_kbd"># is:issue</kbd>
              </span>
          </command-palette-help>
          <command-palette-help
            data-group="filters_help"
              data-prefix="# is:discussion"
              data-scope-types="[&quot;owner&quot;,&quot;repository&quot;]"
          >
            <span data-target="command-palette-help.titleElement">Filter to discussions</span>
              <span data-target="command-palette-help.hintElement">
                <kbd class="hx_kbd"># is:discussion</kbd>
              </span>
          </command-palette-help>
          <command-palette-help
            data-group="filters_help"
              data-prefix="# is:project"
              data-scope-types="[&quot;owner&quot;,&quot;repository&quot;]"
          >
            <span data-target="command-palette-help.titleElement">Filter to projects</span>
              <span data-target="command-palette-help.hintElement">
                <kbd class="hx_kbd"># is:project</kbd>
              </span>
          </command-palette-help>
          <command-palette-help
            data-group="filters_help"
              data-prefix="# is:open"
          >
            <span data-target="command-palette-help.titleElement">Filter to open issues, pull requests, and discussions</span>
              <span data-target="command-palette-help.hintElement">
                <kbd class="hx_kbd"># is:open</kbd>
              </span>
          </command-palette-help>
      </server-defined-provider>

        <server-defined-provider
          data-type="commands"
          data-fetch-debounce="0"
            data-src="/command_palette/commands"
          data-supported-modes="[]"
            data-supports-commands
          
          data-targets="command-palette.serverDefinedProviderElements"
          ></server-defined-provider>
        <server-defined-provider
          data-type="prefetched"
          data-fetch-debounce="0"
            data-src="/command_palette/jump_to_page_navigation"
          data-supported-modes="[&quot;&quot;]"
            data-supported-scope-types="[&quot;&quot;,&quot;owner&quot;,&quot;repository&quot;]"
          
          data-targets="command-palette.serverDefinedProviderElements"
          ></server-defined-provider>
        <server-defined-provider
          data-type="remote"
          data-fetch-debounce="200"
            data-src="/command_palette/issues"
          data-supported-modes="[&quot;#&quot;,&quot;#&quot;]"
            data-supported-scope-types="[&quot;owner&quot;,&quot;repository&quot;,&quot;&quot;]"
          
          data-targets="command-palette.serverDefinedProviderElements"
          ></server-defined-provider>
        <server-defined-provider
          data-type="remote"
          data-fetch-debounce="200"
            data-src="/command_palette/jump_to"
          data-supported-modes="[&quot;@&quot;,&quot;@&quot;]"
            data-supported-scope-types="[&quot;&quot;,&quot;owner&quot;]"
          
          data-targets="command-palette.serverDefinedProviderElements"
          ></server-defined-provider>
        <server-defined-provider
          data-type="remote"
          data-fetch-debounce="200"
            data-src="/command_palette/jump_to_members_only"
          data-supported-modes="[&quot;@&quot;,&quot;@&quot;,&quot;&quot;,&quot;&quot;]"
            data-supported-scope-types="[&quot;&quot;,&quot;owner&quot;]"
          
          data-targets="command-palette.serverDefinedProviderElements"
          ></server-defined-provider>
        <server-defined-provider
          data-type="prefetched"
          data-fetch-debounce="0"
            data-src="/command_palette/jump_to_members_only_prefetched"
          data-supported-modes="[&quot;@&quot;,&quot;@&quot;,&quot;&quot;,&quot;&quot;]"
            data-supported-scope-types="[&quot;&quot;,&quot;owner&quot;]"
          
          data-targets="command-palette.serverDefinedProviderElements"
          ></server-defined-provider>
        <server-defined-provider
          data-type="files"
          data-fetch-debounce="0"
            data-src="/command_palette/files"
          data-supported-modes="[&quot;/&quot;]"
            data-supported-scope-types="[&quot;repository&quot;]"
          
          data-targets="command-palette.serverDefinedProviderElements"
          ></server-defined-provider>
        <server-defined-provider
          data-type="remote"
          data-fetch-debounce="200"
            data-src="/command_palette/discussions"
          data-supported-modes="[&quot;#&quot;]"
            data-supported-scope-types="[&quot;owner&quot;,&quot;repository&quot;]"
          
          data-targets="command-palette.serverDefinedProviderElements"
          ></server-defined-provider>
        <server-defined-provider
          data-type="remote"
          data-fetch-debounce="200"
            data-src="/command_palette/projects"
          data-supported-modes="[&quot;#&quot;,&quot;!&quot;]"
            data-supported-scope-types="[&quot;owner&quot;,&quot;repository&quot;]"
          
          data-targets="command-palette.serverDefinedProviderElements"
          ></server-defined-provider>
        <server-defined-provider
          data-type="prefetched"
          data-fetch-debounce="0"
            data-src="/command_palette/recent_issues"
          data-supported-modes="[&quot;#&quot;,&quot;#&quot;]"
            data-supported-scope-types="[&quot;owner&quot;,&quot;repository&quot;,&quot;&quot;]"
          
          data-targets="command-palette.serverDefinedProviderElements"
          ></server-defined-provider>
        <server-defined-provider
          data-type="remote"
          data-fetch-debounce="200"
            data-src="/command_palette/teams"
          data-supported-modes="[&quot;@&quot;,&quot;&quot;]"
            data-supported-scope-types="[&quot;owner&quot;]"
          
          data-targets="command-palette.serverDefinedProviderElements"
          ></server-defined-provider>
        <server-defined-provider
          data-type="remote"
          data-fetch-debounce="200"
            data-src="/command_palette/name_with_owner_repository"
          data-supported-modes="[&quot;@&quot;,&quot;@&quot;,&quot;&quot;,&quot;&quot;]"
            data-supported-scope-types="[&quot;&quot;,&quot;owner&quot;]"
          
          data-targets="command-palette.serverDefinedProviderElements"
          ></server-defined-provider>
    </command-palette>
  </details-dialog>
</details>

<div class="position-fixed bottom-0 left-0 ml-5 mb-5 js-command-palette-toasts" style="z-index: 1000">
  <div hidden class="Toast Toast--loading">
    <span class="Toast-icon">
      <svg class="Toast--spinner" viewBox="0 0 32 32" width="18" height="18" aria-hidden="true">
        <path
          fill="#959da5"
          d="M16 0 A16 16 0 0 0 16 32 A16 16 0 0 0 16 0 M16 4 A12 12 0 0 1 16 28 A12 12 0 0 1 16 4"
        />
        <path fill="#ffffff" d="M16 0 A16 16 0 0 1 32 16 L28 16 A12 12 0 0 0 16 4z"></path>
      </svg>
    </span>
    <span class="Toast-content"></span>
  </div>

  <div hidden class="anim-fade-in fast Toast Toast--error">
    <span class="Toast-icon">
      <svg aria-hidden="true" height="16" viewBox="0 0 16 16" version="1.1" width="16" data-view-component="true" class="octicon octicon-stop">
    <path d="M4.47.22A.749.749 0 0 1 5 0h6c.199 0 .389.079.53.22l4.25 4.25c.141.14.22.331.22.53v6a.749.749 0 0 1-.22.53l-4.25 4.25A.749.749 0 0 1 11 16H5a.749.749 0 0 1-.53-.22L.22 11.53A.749.749 0 0 1 0 11V5c0-.199.079-.389.22-.53Zm.84 1.28L1.5 5.31v5.38l3.81 3.81h5.38l3.81-3.81V5.31L10.69 1.5ZM8 4a.75.75 0 0 1 .75.75v3.5a.75.75 0 0 1-1.5 0v-3.5A.75.75 0 0 1 8 4Zm0 8a1 1 0 1 1 0-2 1 1 0 0 1 0 2Z"></path>
</svg>
    </span>
    <span class="Toast-content"></span>
  </div>

  <div hidden class="anim-fade-in fast Toast Toast--warning">
    <span class="Toast-icon">
      <svg aria-hidden="true" height="16" viewBox="0 0 16 16" version="1.1" width="16" data-view-component="true" class="octicon octicon-alert">
    <path d="M6.457 1.047c.659-1.234 2.427-1.234 3.086 0l6.082 11.378A1.75 1.75 0 0 1 14.082 15H1.918a1.75 1.75 0 0 1-1.543-2.575Zm1.763.707a.25.25 0 0 0-.44 0L1.698 13.132a.25.25 0 0 0 .22.368h12.164a.25.25 0 0 0 .22-.368Zm.53 3.996v2.5a.75.75 0 0 1-1.5 0v-2.5a.75.75 0 0 1 1.5 0ZM9 11a1 1 0 1 1-2 0 1 1 0 0 1 2 0Z"></path>
</svg>
    </span>
    <span class="Toast-content"></span>
  </div>


  <div hidden class="anim-fade-in fast Toast Toast--success">
    <span class="Toast-icon">
      <svg aria-hidden="true" height="16" viewBox="0 0 16 16" version="1.1" width="16" data-view-component="true" class="octicon octicon-check">
    <path d="M13.78 4.22a.75.75 0 0 1 0 1.06l-7.25 7.25a.75.75 0 0 1-1.06 0L2.22 9.28a.751.751 0 0 1 .018-1.042.751.751 0 0 1 1.042-.018L6 10.94l6.72-6.72a.75.75 0 0 1 1.06 0Z"></path>
</svg>
    </span>
    <span class="Toast-content"></span>
  </div>

  <div hidden class="anim-fade-in fast Toast">
    <span class="Toast-icon">
      <svg aria-hidden="true" height="16" viewBox="0 0 16 16" version="1.1" width="16" data-view-component="true" class="octicon octicon-info">
    <path d="M0 8a8 8 0 1 1 16 0A8 8 0 0 1 0 8Zm8-6.5a6.5 6.5 0 1 0 0 13 6.5 6.5 0 0 0 0-13ZM6.5 7.75A.75.75 0 0 1 7.25 7h1a.75.75 0 0 1 .75.75v2.75h.25a.75.75 0 0 1 0 1.5h-2a.75.75 0 0 1 0-1.5h.25v-2h-.25a.75.75 0 0 1-.75-.75ZM8 6a1 1 0 1 1 0-2 1 1 0 0 1 0 2Z"></path>
</svg>
    </span>
    <span class="Toast-content"></span>
  </div>
</div>


  <div
    class="application-main "
    data-commit-hovercards-enabled
    data-discussion-hovercards-enabled
    data-issue-and-pr-hovercards-enabled
  >
        <div itemscope itemtype="http://schema.org/SoftwareSourceCode" class="">
    <main id="js-repo-pjax-container" >
      
      






    
  <div id="repository-container-header" data-turbo-replace hidden></div>




<turbo-frame id="repo-content-turbo-frame" target="_top" data-turbo-action="advance" class="">
    <div id="repo-content-pjax-container" class="repository-content " >
      <a href="https://github.dev/" class="d-none js-github-dev-shortcut" data-hotkey=".,Meta+Shift+e">Open in github.dev</a>
  <a href="https://github.dev/" class="d-none js-github-dev-new-tab-shortcut" data-hotkey="Shift+.,Shift+&gt;,&gt;" target="_blank" rel="noopener noreferrer">Open in a new github.dev tab</a>
    <a class="d-none" data-hotkey=",,Meta+Shift+&#39;" target="_blank" href="/codespaces/new/Devarakondadurgaprasad/STAT_ML/tree/main?resume=1">Open in codespace</a>



    
      
    





<react-app
  app-name="react-code-view"
  initial-path="/Devarakondadurgaprasad/STAT_ML/blob/main/linear_regression.ipynb"
  style="min-height: calc(100vh - 62px)"
  data-ssr="false"
  data-lazy="false"
  data-alternate="false"
>
  
  <script type="application/json" data-target="react-app.embeddedData">{"payload":{"allShortcutsEnabled":true,"fileTree":{"":{"items":[{"name":"2203A52146.ipynb","path":"2203A52146.ipynb","contentType":"file"},{"name":"linear_regression.ipynb","path":"linear_regression.ipynb","contentType":"file"}],"totalCount":2}},"fileTreeProcessingTime":1.102022,"foldersToFetch":[],"reducedMotionEnabled":"system","repo":{"id":677791832,"defaultBranch":"main","name":"STAT_ML","ownerLogin":"Devarakondadurgaprasad","currentUserCanPush":true,"isFork":false,"isEmpty":false,"createdAt":"2023-08-12T22:10:31.000+05:30","ownerAvatar":"https://avatars.githubusercontent.com/u/131774616?v=4","public":true,"private":false,"isOrgOwned":false},"symbolsExpanded":false,"treeExpanded":true,"refInfo":{"name":"main","listCacheKey":"v0:1692249418.0","canEdit":true,"refType":"branch","currentOid":"1d583e02b24d7f5cda5270481f20796db52928d3"},"path":"linear_regression.ipynb","currentUser":{"id":131774616,"login":"Devarakondadurgaprasad","userEmail":"devarakondadurgaprasad5@gmail.com"},"blob":{"rawLines":["{","  \"nbformat\": 4,","  \"nbformat_minor\": 0,","  \"metadata\": {","    \"colab\": {","      \"provenance\": []","    },","    \"kernelspec\": {","      \"name\": \"python3\",","      \"display_name\": \"Python 3\"","    },","    \"language_info\": {","      \"name\": \"python\"","    }","  },","  \"cells\": [","    {","      \"cell_type\": \"code\",","      \"execution_count\": null,","      \"metadata\": {","        \"colab\": {","          \"base_uri\": \"https://localhost:8080/\"","        },","        \"id\": \"LKK9eDVnfjqC\",","        \"outputId\": \"a235e7da-5ed5-407b-a261-514e72a8b0a8\"","      },","      \"outputs\": [","        {","          \"output_type\": \"stream\",","          \"name\": \"stdout\",","          \"text\": [","            \"    YearsExperience\\n\",","            \"0               1.1\\n\",","            \"1               1.3\\n\",","            \"2               1.5\\n\",","            \"3               2.0\\n\",","            \"4               2.2\\n\",","            \"5               2.9\\n\",","            \"6               3.0\\n\",","            \"7               3.2\\n\",","            \"8               3.2\\n\",","            \"9               3.7\\n\",","            \"10              3.9\\n\",","            \"11              4.0\\n\",","            \"12              4.0\\n\",","            \"13              4.1\\n\",","            \"14              4.5\\n\",","            \"15              4.9\\n\",","            \"16              5.1\\n\",","            \"17              5.3\\n\",","            \"18              5.9\\n\",","            \"19              6.0\\n\",","            \"20              6.8\\n\",","            \"21              7.1\\n\",","            \"22              7.9\\n\",","            \"23              8.2\\n\",","            \"24              8.7\\n\",","            \"25              9.0\\n\",","            \"26              9.5\\n\",","            \"27              9.6\\n\",","            \"28             10.3\\n\",","            \"29             10.5\\n\",","            \"0      39343.0\\n\",","            \"1      46205.0\\n\",","            \"2      37731.0\\n\",","            \"3      43525.0\\n\",","            \"4      39891.0\\n\",","            \"5      56642.0\\n\",","            \"6      60150.0\\n\",","            \"7      54445.0\\n\",","            \"8      64445.0\\n\",","            \"9      57189.0\\n\",","            \"10     63218.0\\n\",","            \"11     55794.0\\n\",","            \"12     56957.0\\n\",","            \"13     57081.0\\n\",","            \"14     61111.0\\n\",","            \"15     67938.0\\n\",","            \"16     66029.0\\n\",","            \"17     83088.0\\n\",","            \"18     81363.0\\n\",","            \"19     93940.0\\n\",","            \"20     91738.0\\n\",","            \"21     98273.0\\n\",","            \"22    101302.0\\n\",","            \"23    113812.0\\n\",","            \"24    109431.0\\n\",","            \"25    105582.0\\n\",","            \"26    116969.0\\n\",","            \"27    112635.0\\n\",","            \"28    122391.0\\n\",","            \"29    121872.0\\n\",","            \"Name: Salary, dtype: float64\\n\"","          ]","        }","      ],","      \"source\": [","        \"import pandas as pd\\n\",","        \"a=pd.read_csv('/content/Salary_Data.csv')\\n\",","        \"df=pd.DataFrame(a)\\n\",","        \"x=df[['YearsExperience']]\\n\",","        \"y=df['Salary']\\n\",","        \"print(x)\\n\",","        \"print(y)\"","      ]","    },","    {","      \"cell_type\": \"code\",","      \"source\": [","        \"import matplotlib.pyplot as plt\"","      ],","      \"metadata\": {","        \"id\": \"-K4lLBdvhEmx\"","      },","      \"execution_count\": null,","      \"outputs\": []","    },","    {","      \"cell_type\": \"code\",","      \"source\": [","        \"plt.plot(x,y,'g')\"","      ],","      \"metadata\": {","        \"colab\": {","          \"base_uri\": \"https://localhost:8080/\",","          \"height\": 447","        },","        \"id\": \"VA764oF1mY1a\",","        \"outputId\": \"aa87c8b4-0cf8-4a32-de9c-69c979e9b5ca\"","      },","      \"execution_count\": null,","      \"outputs\": [","        {","          \"output_type\": \"execute_result\",","          \"data\": {","            \"text/plain\": [","              \"[\u003cmatplotlib.lines.Line2D at 0x7b995f11e3b0\u003e]\"","            ]","          },","          \"metadata\": {},","          \"execution_count\": 13","        },","        {","          \"output_type\": \"display_data\",","          \"data\": {","            \"text/plain\": [","              \"\u003cFigure size 640x480 with 1 Axes\u003e\"","            ],","            \"image/png\": \"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\\n\"","          },","          \"metadata\": {}","        }","      ]","    },","    {","      \"cell_type\": \"code\",","      \"source\": [","        \"from sklearn.linear_model import LinearRegression\\n\",","        \"plt.scatter(x,y,color='red',label='data points')\\n\",","        \"plt.xlabel('YearsExperience')\\n\",","        \"plt.ylabel('Salary')\\n\",","        \"plt.title('salary vs Years of Experience')\\n\",","        \"plt.legend()\\n\",","        \"model=LinearRegression()\\n\",","        \"model.fit(x, y)\\n\",","        \"plt.plot(x,model.predict(x),color='green',label='best fit line')\\n\",","        \"plt.legend()\\n\",","        \"print(\\\"Intercept:\\\",model.intercept_)\\n\",","        \"print(\\\"Coefficient:\\\",model.coef_[0])\"","      ],","      \"metadata\": {","        \"colab\": {","          \"base_uri\": \"https://localhost:8080/\",","          \"height\": 507","        },","        \"id\": \"1VkBgoVYohL9\",","        \"outputId\": \"c49ef694-0b35-4379-c8f2-42e47283ffc6\"","      },","      \"execution_count\": null,","      \"outputs\": [","        {","          \"output_type\": \"stream\",","          \"name\": \"stdout\",","          \"text\": [","            \"Intercept: 25792.200198668696\\n\",","            \"Coefficient: 9449.962321455076\\n\"","          ]","        },","        {","          \"output_type\": \"display_data\",","          \"data\": {","            \"text/plain\": [","              \"\u003cFigure size 640x480 with 1 Axes\u003e\"","            ],","            \"image/png\": \"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\\n\"","          },","          \"metadata\": {}","        }","      ]","    },","    {","      \"cell_type\": \"code\",","      \"source\": [","        \"import numpy as np\\n\",","        \"import pandas as pd\\n\",","        \"from sklearn.preprocessing import MinMaxScaler\\n\",","        \"from sklearn.model_selection import train_test_split\\n\",","        \"import matplotlib.pyplot as plt\\n\",","        \"a = pd.read_csv('/content/Japan_life_expectancy.csv')\\n\",","        \"features = a.drop(\\\"Life_expectancy\\\", axis=1)\\n\",","        \"#print(features)\\n\",","        \"print('factors influence life expectancy in Japan are',features.columns)\"","      ],","      \"metadata\": {","        \"colab\": {","          \"base_uri\": \"https://localhost:8080/\"","        },","        \"id\": \"lsCDTSU76V-R\",","        \"outputId\": \"99755790-be5e-4566-e5c6-0984d561a4a7\"","      },","      \"execution_count\": 15,","      \"outputs\": [","        {","          \"output_type\": \"stream\",","          \"name\": \"stdout\",","          \"text\": [","            \"factors influence life expectancy in Japan are Index(['Prefecture', 'Physician', 'Junior_col', 'University', 'Public_Hosp',\\n\",","            \"       'Pshic_hosp', 'Beds_psic', 'Nurses', 'Avg_hours', 'Salary',\\n\",","            \"       'Elementary_school', 'Sport_fac', 'Park', 'Forest', 'Income_per capita',\\n\",","            \"       'Density_pop', 'Hospitals', 'Beds', 'Ambulances', 'Health_exp',\\n\",","            \"       'Educ_exp', 'Welfare_exp'],\\n\",","            \"      dtype='object')\\n\"","          ]","        }","      ]","    }","  ]","}"],"stylingDirectives":null,"csv":null,"csvError":null,"dependabotInfo":{"showConfigurationBanner":null,"configFilePath":null,"networkDependabotPath":"/Devarakondadurgaprasad/STAT_ML/network/updates","dismissConfigurationNoticePath":"/settings/dismiss-notice/dependabot_configuration_notice","configurationNoticeDismissed":false,"repoAlertsPath":"/Devarakondadurgaprasad/STAT_ML/security/dependabot","repoSecurityAndAnalysisPath":"/Devarakondadurgaprasad/STAT_ML/settings/security_analysis","repoOwnerIsOrg":false,"currentUserCanAdminRepo":true},"displayName":"linear_regression.ipynb","displayUrl":"https://notebooks.githubusercontent.com/view/ipynb?browser=chrome\u0026bypass_fastly=true\u0026color_mode=auto\u0026commit=1d583e02b24d7f5cda5270481f20796db52928d3\u0026device=unknown_device\u0026docs_host=https%3A%2F%2Fdocs.github.com\u0026enc_url=68747470733a2f2f7261772e67697468756275736572636f6e74656e742e636f6d2f4465766172616b6f6e646164757267617072617361642f535441545f4d4c2f316435383365303262323464376635636461353237303438316632303739366462353239323864332f6c696e6561725f72656772657373696f6e2e6970796e62\u0026logged_in=true\u0026nwo=Devarakondadurgaprasad%2FSTAT_ML\u0026path=linear_regression.ipynb\u0026platform=windows\u0026repository_id=677791832\u0026repository_type=Repository\u0026version=115","headerInfo":{"blobSize":"76.8 KB","deleteInfo":{"deleteTooltip":"Delete this file"},"editInfo":{"editTooltip":"Edit this file"},"ghDesktopPath":"https://desktop.github.com","gitLfsPath":null,"onBranch":true,"shortPath":"6ccc4d6","siteNavLoginPath":"/login?return_to=https%3A%2F%2Fgithub.com%2FDevarakondadurgaprasad%2FSTAT_ML%2Fblob%2Fmain%2Flinear_regression.ipynb","isCSV":false,"isRichtext":false,"toc":null,"lineInfo":{"truncatedLoc":"238","truncatedSloc":"238"},"mode":"file"},"image":false,"isCodeownersFile":null,"isPlain":false,"isValidLegacyIssueTemplate":false,"issueTemplateHelpUrl":"https://docs.github.com/articles/about-issue-and-pull-request-templates","issueTemplate":null,"discussionTemplate":null,"language":"Jupyter Notebook","languageID":185,"large":false,"loggedIn":true,"newDiscussionPath":"/Devarakondadurgaprasad/STAT_ML/discussions/new","newIssuePath":"/Devarakondadurgaprasad/STAT_ML/issues/new","planSupportInfo":{"repoIsFork":null,"repoOwnedByCurrentUser":null,"requestFullPath":"/Devarakondadurgaprasad/STAT_ML/blob/main/linear_regression.ipynb","showFreeOrgGatedFeatureMessage":null,"showPlanSupportBanner":null,"upgradeDataAttributes":null,"upgradePath":null},"publishBannersInfo":{"dismissActionNoticePath":"/settings/dismiss-notice/publish_action_from_dockerfile","dismissStackNoticePath":"/settings/dismiss-notice/publish_stack_from_file","releasePath":"/Devarakondadurgaprasad/STAT_ML/releases/new?marketplace=true","showPublishActionBanner":false,"showPublishStackBanner":false},"renderImageOrRaw":false,"richText":null,"renderedFileInfo":{"identityUUID":"b6550229-75af-4fb6-9608-cec29538ceb9","renderFileType":"ipynb","size":78603},"shortPath":null,"tabSize":8,"topBannersInfo":{"overridingGlobalFundingFile":false,"globalPreferredFundingPath":null,"repoOwner":"Devarakondadurgaprasad","repoName":"STAT_ML","showInvalidCitationWarning":false,"citationHelpUrl":"https://docs.github.com/en/github/creating-cloning-and-archiving-repositories/creating-a-repository-on-github/about-citation-files","showDependabotConfigurationBanner":null,"actionsOnboardingTip":null},"truncated":false,"viewable":true,"workflowRedirectUrl":null,"symbols":{"timedOut":false,"notAnalyzed":true,"symbols":[]}},"copilotInfo":{"notices":{"codeViewPopover":{"dismissed":false,"dismissPath":"/settings/dismiss-notice/code_view_copilot_popover"}},"userAccess":{"accessAllowed":false,"hasSubscriptionEnded":false,"orgHasCFBAccess":false,"userHasCFIAccess":false,"userHasOrgs":false,"userIsOrgAdmin":false,"userIsOrgMember":false,"business":null,"featureRequestInfo":null}},"csrf_tokens":{"/Devarakondadurgaprasad/STAT_ML/branches":{"post":"fmD0EHwMUQh1QO7fMtG-2azptycF7pjNmNrjcdmZOslRydgxKlpYkclE8rlRA7fPRfVtKSi24ENMVZnszRrZxw"},"/repos/preferences":{"post":"rUZYFZslbpeNt_QSUK8FeMh_Mwsg0mrK_UtZhtD5IAMRAa4ANfJ4Y-83E9wX-EdB__husLRKnXWCOkB51Yd0YQ"}}},"title":"STAT_ML/linear_regression.ipynb at main · Devarakondadurgaprasad/STAT_ML","appPayload":{"helpUrl":"https://docs.github.com","findFileWorkerPath":"/assets-cdn/worker/find-file-worker-83d4418b406d.js","findInFileWorkerPath":"/assets-cdn/worker/find-in-file-worker-fb8f4fb0e8c0.js","githubDevUrl":"https://github.dev/","enabled_features":{"virtualize_file_tree":true,"react_repos_overview":true,"code_nav_ui_events":false,"ref_selector_v2":false,"codeview_codemirror_next_editors":true,"blob_firefox_separate_characters":true,"copilot_conversational_ux":false,"react_code_view_delete":false,"copilot_conversational_ux_symbols":false,"copilot_popover_file_editor_header":false,"lfs_download_button":true}}}</script>
  <div data-target="react-app.reactRoot"></div>
</react-app>
</turbo-frame>



  </div>

</turbo-frame>

    </main>
  </div>

  </div>

          <footer class="footer width-full container-xl p-responsive" role="contentinfo">
  <h2 class='sr-only'>Footer</h2>

  <div class="position-relative d-flex flex-items-center pb-2 f6 color-fg-muted border-top color-border-muted flex-column-reverse flex-lg-row flex-wrap flex-lg-nowrap mt-6 pt-6">
    <div class="list-style-none d-flex flex-wrap col-0 col-lg-2 flex-justify-start flex-lg-justify-between mb-2 mb-lg-0">
      <div class="mt-2 mt-lg-0 d-flex flex-items-center">
        <a aria-label="Homepage" title="GitHub" class="footer-octicon mr-2" href="https://github.com">
          <svg aria-hidden="true" height="24" viewBox="0 0 16 16" version="1.1" width="24" data-view-component="true" class="octicon octicon-mark-github">
    <path d="M8 0c4.42 0 8 3.58 8 8a8.013 8.013 0 0 1-5.45 7.59c-.4.08-.55-.17-.55-.38 0-.27.01-1.13.01-2.2 0-.75-.25-1.23-.54-1.48 1.78-.2 3.65-.88 3.65-3.95 0-.88-.31-1.59-.82-2.15.08-.2.36-1.02-.08-2.12 0 0-.67-.22-2.2.82-.64-.18-1.32-.27-2-.27-.68 0-1.36.09-2 .27-1.53-1.03-2.2-.82-2.2-.82-.44 1.1-.16 1.92-.08 2.12-.51.56-.82 1.28-.82 2.15 0 3.06 1.86 3.75 3.64 3.95-.23.2-.44.55-.51 1.07-.46.21-1.61.55-2.33-.66-.15-.24-.6-.83-1.23-.82-.67.01-.27.38.01.53.34.19.73.9.82 1.13.16.45.68 1.31 2.69.94 0 .67.01 1.3.01 1.49 0 .21-.15.45-.55.38A7.995 7.995 0 0 1 0 8c0-4.42 3.58-8 8-8Z"></path>
</svg>
</a>        <span>
        &copy; 2023 GitHub, Inc.
        </span>
      </div>
    </div>

    <nav aria-label='Footer' class="col-12 col-lg-8">
      <h3 class='sr-only' id='sr-footer-heading'>Footer navigation</h3>
      <ul class="list-style-none d-flex flex-wrap col-12 flex-justify-center flex-lg-justify-between mb-2 mb-lg-0" aria-labelledby='sr-footer-heading'>
          <li class="mr-3 mr-lg-0"><a href="https://docs.github.com/site-policy/github-terms/github-terms-of-service" data-analytics-event="{&quot;category&quot;:&quot;Footer&quot;,&quot;action&quot;:&quot;go to terms&quot;,&quot;label&quot;:&quot;text:terms&quot;}">Terms</a></li>
          <li class="mr-3 mr-lg-0"><a href="https://docs.github.com/site-policy/privacy-policies/github-privacy-statement" data-analytics-event="{&quot;category&quot;:&quot;Footer&quot;,&quot;action&quot;:&quot;go to privacy&quot;,&quot;label&quot;:&quot;text:privacy&quot;}">Privacy</a></li>
          <li class="mr-3 mr-lg-0"><a data-analytics-event="{&quot;category&quot;:&quot;Footer&quot;,&quot;action&quot;:&quot;go to security&quot;,&quot;label&quot;:&quot;text:security&quot;}" href="https://github.com/security">Security</a></li>
          <li class="mr-3 mr-lg-0"><a href="https://www.githubstatus.com/" data-analytics-event="{&quot;category&quot;:&quot;Footer&quot;,&quot;action&quot;:&quot;go to status&quot;,&quot;label&quot;:&quot;text:status&quot;}">Status</a></li>
          <li class="mr-3 mr-lg-0"><a data-ga-click="Footer, go to help, text:Docs" href="https://docs.github.com">Docs</a></li>
          <li class="mr-3 mr-lg-0"><a href="https://support.github.com?tags=dotcom-footer" data-analytics-event="{&quot;category&quot;:&quot;Footer&quot;,&quot;action&quot;:&quot;go to contact&quot;,&quot;label&quot;:&quot;text:contact&quot;}">Contact GitHub</a></li>
          <li class="mr-3 mr-lg-0"><a href="https://github.com/pricing" data-analytics-event="{&quot;category&quot;:&quot;Footer&quot;,&quot;action&quot;:&quot;go to Pricing&quot;,&quot;label&quot;:&quot;text:Pricing&quot;}">Pricing</a></li>
        <li class="mr-3 mr-lg-0"><a href="https://docs.github.com" data-analytics-event="{&quot;category&quot;:&quot;Footer&quot;,&quot;action&quot;:&quot;go to api&quot;,&quot;label&quot;:&quot;text:api&quot;}">API</a></li>
        <li class="mr-3 mr-lg-0"><a href="https://services.github.com" data-analytics-event="{&quot;category&quot;:&quot;Footer&quot;,&quot;action&quot;:&quot;go to training&quot;,&quot;label&quot;:&quot;text:training&quot;}">Training</a></li>
          <li class="mr-3 mr-lg-0"><a href="https://github.blog" data-analytics-event="{&quot;category&quot;:&quot;Footer&quot;,&quot;action&quot;:&quot;go to blog&quot;,&quot;label&quot;:&quot;text:blog&quot;}">Blog</a></li>
          <li><a data-ga-click="Footer, go to about, text:about" href="https://github.com/about">About</a></li>
      </ul>
    </nav>
  </div>

  <div class="d-flex flex-justify-center pb-6">
    <span class="f6 color-fg-muted"></span>
  </div>
</footer>




  <div id="ajax-error-message" class="ajax-error-message flash flash-error" hidden>
    <svg aria-hidden="true" height="16" viewBox="0 0 16 16" version="1.1" width="16" data-view-component="true" class="octicon octicon-alert">
    <path d="M6.457 1.047c.659-1.234 2.427-1.234 3.086 0l6.082 11.378A1.75 1.75 0 0 1 14.082 15H1.918a1.75 1.75 0 0 1-1.543-2.575Zm1.763.707a.25.25 0 0 0-.44 0L1.698 13.132a.25.25 0 0 0 .22.368h12.164a.25.25 0 0 0 .22-.368Zm.53 3.996v2.5a.75.75 0 0 1-1.5 0v-2.5a.75.75 0 0 1 1.5 0ZM9 11a1 1 0 1 1-2 0 1 1 0 0 1 2 0Z"></path>
</svg>
    <button type="button" class="flash-close js-ajax-error-dismiss" aria-label="Dismiss error">
      <svg aria-hidden="true" height="16" viewBox="0 0 16 16" version="1.1" width="16" data-view-component="true" class="octicon octicon-x">
    <path d="M3.72 3.72a.75.75 0 0 1 1.06 0L8 6.94l3.22-3.22a.749.749 0 0 1 1.275.326.749.749 0 0 1-.215.734L9.06 8l3.22 3.22a.749.749 0 0 1-.326 1.275.749.749 0 0 1-.734-.215L8 9.06l-3.22 3.22a.751.751 0 0 1-1.042-.018.751.751 0 0 1-.018-1.042L6.94 8 3.72 4.78a.75.75 0 0 1 0-1.06Z"></path>
</svg>
    </button>
    You can’t perform that action at this time.
  </div>

    <template id="site-details-dialog">
  <details class="details-reset details-overlay details-overlay-dark lh-default color-fg-default hx_rsm" open>
    <summary role="button" aria-label="Close dialog"></summary>
    <details-dialog class="Box Box--overlay d-flex flex-column anim-fade-in fast hx_rsm-dialog hx_rsm-modal">
      <button class="Box-btn-octicon m-0 btn-octicon position-absolute right-0 top-0" type="button" aria-label="Close dialog" data-close-dialog>
        <svg aria-hidden="true" height="16" viewBox="0 0 16 16" version="1.1" width="16" data-view-component="true" class="octicon octicon-x">
    <path d="M3.72 3.72a.75.75 0 0 1 1.06 0L8 6.94l3.22-3.22a.749.749 0 0 1 1.275.326.749.749 0 0 1-.215.734L9.06 8l3.22 3.22a.749.749 0 0 1-.326 1.275.749.749 0 0 1-.734-.215L8 9.06l-3.22 3.22a.751.751 0 0 1-1.042-.018.751.751 0 0 1-.018-1.042L6.94 8 3.72 4.78a.75.75 0 0 1 0-1.06Z"></path>
</svg>
      </button>
      <div class="octocat-spinner my-6 js-details-dialog-spinner"></div>
    </details-dialog>
  </details>
</template>

    <div class="Popover js-hovercard-content position-absolute" style="display: none; outline: none;" tabindex="0">
  <div class="Popover-message Popover-message--bottom-left Popover-message--large Box color-shadow-large" style="width:360px;">
  </div>
</div>

    <template id="snippet-clipboard-copy-button">
  <div class="zeroclipboard-container position-absolute right-0 top-0">
    <clipboard-copy aria-label="Copy" class="ClipboardButton btn js-clipboard-copy m-2 p-0 tooltipped-no-delay" data-copy-feedback="Copied!" data-tooltip-direction="w">
      <svg aria-hidden="true" height="16" viewBox="0 0 16 16" version="1.1" width="16" data-view-component="true" class="octicon octicon-copy js-clipboard-copy-icon m-2">
    <path d="M0 6.75C0 5.784.784 5 1.75 5h1.5a.75.75 0 0 1 0 1.5h-1.5a.25.25 0 0 0-.25.25v7.5c0 .138.112.25.25.25h7.5a.25.25 0 0 0 .25-.25v-1.5a.75.75 0 0 1 1.5 0v1.5A1.75 1.75 0 0 1 9.25 16h-7.5A1.75 1.75 0 0 1 0 14.25Z"></path><path d="M5 1.75C5 .784 5.784 0 6.75 0h7.5C15.216 0 16 .784 16 1.75v7.5A1.75 1.75 0 0 1 14.25 11h-7.5A1.75 1.75 0 0 1 5 9.25Zm1.75-.25a.25.25 0 0 0-.25.25v7.5c0 .138.112.25.25.25h7.5a.25.25 0 0 0 .25-.25v-7.5a.25.25 0 0 0-.25-.25Z"></path>
</svg>
      <svg aria-hidden="true" height="16" viewBox="0 0 16 16" version="1.1" width="16" data-view-component="true" class="octicon octicon-check js-clipboard-check-icon color-fg-success d-none m-2">
    <path d="M13.78 4.22a.75.75 0 0 1 0 1.06l-7.25 7.25a.75.75 0 0 1-1.06 0L2.22 9.28a.751.751 0 0 1 .018-1.042.751.751 0 0 1 1.042-.018L6 10.94l6.72-6.72a.75.75 0 0 1 1.06 0Z"></path>
</svg>
    </clipboard-copy>
  </div>
</template>
<template id="snippet-clipboard-copy-button-unpositioned">
  <div class="zeroclipboard-container">
    <clipboard-copy aria-label="Copy" class="ClipboardButton btn btn-invisible js-clipboard-copy m-2 p-0 tooltipped-no-delay d-flex flex-justify-center flex-items-center" data-copy-feedback="Copied!" data-tooltip-direction="w">
      <svg aria-hidden="true" height="16" viewBox="0 0 16 16" version="1.1" width="16" data-view-component="true" class="octicon octicon-copy js-clipboard-copy-icon">
    <path d="M0 6.75C0 5.784.784 5 1.75 5h1.5a.75.75 0 0 1 0 1.5h-1.5a.25.25 0 0 0-.25.25v7.5c0 .138.112.25.25.25h7.5a.25.25 0 0 0 .25-.25v-1.5a.75.75 0 0 1 1.5 0v1.5A1.75 1.75 0 0 1 9.25 16h-7.5A1.75 1.75 0 0 1 0 14.25Z"></path><path d="M5 1.75C5 .784 5.784 0 6.75 0h7.5C15.216 0 16 .784 16 1.75v7.5A1.75 1.75 0 0 1 14.25 11h-7.5A1.75 1.75 0 0 1 5 9.25Zm1.75-.25a.25.25 0 0 0-.25.25v7.5c0 .138.112.25.25.25h7.5a.25.25 0 0 0 .25-.25v-7.5a.25.25 0 0 0-.25-.25Z"></path>
</svg>
      <svg aria-hidden="true" height="16" viewBox="0 0 16 16" version="1.1" width="16" data-view-component="true" class="octicon octicon-check js-clipboard-check-icon color-fg-success d-none">
    <path d="M13.78 4.22a.75.75 0 0 1 0 1.06l-7.25 7.25a.75.75 0 0 1-1.06 0L2.22 9.28a.751.751 0 0 1 .018-1.042.751.751 0 0 1 1.042-.018L6 10.94l6.72-6.72a.75.75 0 0 1 1.06 0Z"></path>
</svg>
    </clipboard-copy>
  </div>
</template>


    <style>
      .user-mention[href$="/Devarakondadurgaprasad"] {
        color: var(--color-user-mention-fg);
        background-color: var(--color-user-mention-bg);
        border-radius: 2px;
        margin-left: -2px;
        margin-right: -2px;
        padding: 0 2px;
      }
    </style>


    </div>

    <div id="js-global-screen-reader-notice" class="sr-only" aria-live="polite" ></div>
  </body>
</html>



